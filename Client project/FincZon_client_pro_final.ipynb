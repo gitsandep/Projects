{
 "cells": [
  {
   "cell_type": "markdown",
   "id": "3c5142d9",
   "metadata": {},
   "source": [
    "# Business Case:- \n",
    "- FicZon Inc is an IT solution provider with products ranging from on-premises products to SAAS based solutions. FicZon major leads generation channel is digital and through their website.\n",
    "- FicZon business is majorly dependent on the sales force effectiveness. As the market is maturing and more new competitors entering the market, FicZon is experiencing the dip in sales. \n",
    "- Effective sales is dependent on lead quality and as of now, this is based on manual categorization and highly depended on sales staff. Though there is a quality process, which continuously updates the lead categorization, it’s value is in for post analysis, rather than conversation.\n",
    "- FicZon wants to explore Machine Learning to pre-categorize the lead quality and as result, expecting significant increase in sales effectiveness."
   ]
  },
  {
   "cell_type": "markdown",
   "id": "90fa4826",
   "metadata": {},
   "source": [
    "# Understanding the Problem Statement in this Business Case\n",
    "**The company motive is to invest in the right prospects and to find out the Lead Quality, thereby deciding whether the lead should be followed or not.**"
   ]
  },
  {
   "cell_type": "code",
   "execution_count": 61,
   "id": "c4f8fb96",
   "metadata": {},
   "outputs": [
    {
     "name": "stdout",
     "output_type": "stream",
     "text": [
      "Requirement already satisfied: mysql in d:\\anaconda3\\lib\\site-packages (0.0.3)\n",
      "Requirement already satisfied: mysqlclient in d:\\anaconda3\\lib\\site-packages (from mysql) (2.1.1)\n",
      "Requirement already satisfied: mysql-connector-python in d:\\anaconda3\\lib\\site-packages (8.0.32)\n",
      "Requirement already satisfied: protobuf<=3.20.3,>=3.11.0 in d:\\anaconda3\\lib\\site-packages (from mysql-connector-python) (3.19.1)\n"
     ]
    }
   ],
   "source": [
    "#install mysql and mysql-connector\n",
    "! pip install mysql\n",
    "! pip install mysql-connector-python"
   ]
  },
  {
   "cell_type": "code",
   "execution_count": 62,
   "id": "b9790100",
   "metadata": {},
   "outputs": [],
   "source": [
    "#importing required libraries \n",
    "import numpy as np\n",
    "import pandas as pd\n",
    "import seaborn as sns\n",
    "import mysql.connector\n",
    "import matplotlib.pyplot as plt\n",
    "import warnings\n",
    "warnings.filterwarnings('ignore')\n",
    "from prettytable import PrettyTable\n",
    "from sklearn.tree import DecisionTreeClassifier\n",
    "from sklearn.ensemble import RandomForestClassifier\n",
    "from sklearn.metrics import confusion_matrix,accuracy_score,recall_score,precision_score,classification_report,f1_score"
   ]
  },
  {
   "cell_type": "markdown",
   "id": "b49ee520",
   "metadata": {},
   "source": [
    "## Collecting Database from server:-"
   ]
  },
  {
   "cell_type": "code",
   "execution_count": 63,
   "id": "697a2a5f",
   "metadata": {},
   "outputs": [],
   "source": [
    "## making connections to database server\n",
    "connection=mysql.connector.connect(host = '18.136.157.135',\n",
    "                                  user='dm_team2',\n",
    "                                  password='DM!$Team&27@9!20!')"
   ]
  },
  {
   "cell_type": "code",
   "execution_count": 64,
   "id": "85e9af33",
   "metadata": {},
   "outputs": [
    {
     "name": "stdout",
     "output_type": "stream",
     "text": [
      "('information_schema',)\n",
      "('project_sales',)\n"
     ]
    }
   ],
   "source": [
    "### Check the number of databases available on the server\n",
    "cursor=connection.cursor()\n",
    "cursor.execute('show databases')\n",
    "for i in cursor:\n",
    "    print(i)"
   ]
  },
  {
   "cell_type": "code",
   "execution_count": 65,
   "id": "b4bc8448",
   "metadata": {},
   "outputs": [],
   "source": [
    "#### connecting to the required database\n",
    "connection=mysql.connector.connect(host='18.136.157.135',\n",
    "                                  user='dm_team2',\n",
    "                                  password='DM!$Team&27@9!20!',\n",
    "                                  database='project_sales')"
   ]
  },
  {
   "cell_type": "code",
   "execution_count": 66,
   "id": "c384778f",
   "metadata": {},
   "outputs": [
    {
     "data": {
      "text/plain": [
       "<mysql.connector.connection_cext.CMySQLConnection at 0x1bd6650a790>"
      ]
     },
     "execution_count": 66,
     "metadata": {},
     "output_type": "execute_result"
    }
   ],
   "source": [
    "connection"
   ]
  },
  {
   "cell_type": "code",
   "execution_count": 67,
   "id": "5cfa3e23",
   "metadata": {},
   "outputs": [],
   "source": [
    "#fetching data\n",
    "sql=pd.read_sql_query(\"select * from data\", connection, parse_dates=True)"
   ]
  },
  {
   "cell_type": "markdown",
   "id": "fa210dee",
   "metadata": {},
   "source": [
    "## Saving database from server to pc -"
   ]
  },
  {
   "cell_type": "code",
   "execution_count": 68,
   "id": "1387df31",
   "metadata": {},
   "outputs": [],
   "source": [
    "#Converting sql into csv\n",
    "sql.to_csv('sales.csv')"
   ]
  },
  {
   "cell_type": "code",
   "execution_count": 69,
   "id": "cff834a6",
   "metadata": {},
   "outputs": [],
   "source": [
    "# Creating dataframe\n",
    "data=pd.read_csv('sales.csv')"
   ]
  },
  {
   "cell_type": "code",
   "execution_count": 70,
   "id": "ad82e1c7",
   "metadata": {},
   "outputs": [
    {
     "data": {
      "text/html": [
       "<div>\n",
       "<style scoped>\n",
       "    .dataframe tbody tr th:only-of-type {\n",
       "        vertical-align: middle;\n",
       "    }\n",
       "\n",
       "    .dataframe tbody tr th {\n",
       "        vertical-align: top;\n",
       "    }\n",
       "\n",
       "    .dataframe thead th {\n",
       "        text-align: right;\n",
       "    }\n",
       "</style>\n",
       "<table border=\"1\" class=\"dataframe\">\n",
       "  <thead>\n",
       "    <tr style=\"text-align: right;\">\n",
       "      <th></th>\n",
       "      <th>Unnamed: 0</th>\n",
       "      <th>Created</th>\n",
       "      <th>Product_ID</th>\n",
       "      <th>Source</th>\n",
       "      <th>Mobile</th>\n",
       "      <th>EMAIL</th>\n",
       "      <th>Sales_Agent</th>\n",
       "      <th>Location</th>\n",
       "      <th>Delivery_Mode</th>\n",
       "      <th>Status</th>\n",
       "    </tr>\n",
       "  </thead>\n",
       "  <tbody>\n",
       "    <tr>\n",
       "      <th>0</th>\n",
       "      <td>0</td>\n",
       "      <td>14-11-2018 10:05</td>\n",
       "      <td>NaN</td>\n",
       "      <td>Website</td>\n",
       "      <td>984XXXXXXX</td>\n",
       "      <td>aXXXXXXX@gmail.com</td>\n",
       "      <td>Sales-Agent-11</td>\n",
       "      <td>NaN</td>\n",
       "      <td>Mode-5</td>\n",
       "      <td>Open</td>\n",
       "    </tr>\n",
       "    <tr>\n",
       "      <th>1</th>\n",
       "      <td>1</td>\n",
       "      <td>14-11-2018 09:22</td>\n",
       "      <td>NaN</td>\n",
       "      <td>Website</td>\n",
       "      <td>XXXXXXX</td>\n",
       "      <td>#VALUE!</td>\n",
       "      <td>Sales-Agent-10</td>\n",
       "      <td>NaN</td>\n",
       "      <td>Mode-5</td>\n",
       "      <td>Open</td>\n",
       "    </tr>\n",
       "    <tr>\n",
       "      <th>2</th>\n",
       "      <td>2</td>\n",
       "      <td>14-11-2018 09:21</td>\n",
       "      <td>NaN</td>\n",
       "      <td>Website</td>\n",
       "      <td>XXXXXXX</td>\n",
       "      <td>dXXXXXXX@yahoo.com</td>\n",
       "      <td>Sales-Agent-10</td>\n",
       "      <td>NaN</td>\n",
       "      <td>Mode-5</td>\n",
       "      <td>Open</td>\n",
       "    </tr>\n",
       "    <tr>\n",
       "      <th>3</th>\n",
       "      <td>3</td>\n",
       "      <td>14-11-2018 08:46</td>\n",
       "      <td>NaN</td>\n",
       "      <td>Website</td>\n",
       "      <td>XXXXXXX</td>\n",
       "      <td>wXXXXXXX@gmail.com</td>\n",
       "      <td>Sales-Agent-10</td>\n",
       "      <td>NaN</td>\n",
       "      <td>Mode-5</td>\n",
       "      <td>Open</td>\n",
       "    </tr>\n",
       "    <tr>\n",
       "      <th>4</th>\n",
       "      <td>4</td>\n",
       "      <td>14-11-2018 07:34</td>\n",
       "      <td>NaN</td>\n",
       "      <td>Website</td>\n",
       "      <td>XXXXXXX</td>\n",
       "      <td>cXXXXXXX@gmail.com</td>\n",
       "      <td>Sales-Agent-10</td>\n",
       "      <td>NaN</td>\n",
       "      <td>Mode-5</td>\n",
       "      <td>Open</td>\n",
       "    </tr>\n",
       "    <tr>\n",
       "      <th>...</th>\n",
       "      <td>...</td>\n",
       "      <td>...</td>\n",
       "      <td>...</td>\n",
       "      <td>...</td>\n",
       "      <td>...</td>\n",
       "      <td>...</td>\n",
       "      <td>...</td>\n",
       "      <td>...</td>\n",
       "      <td>...</td>\n",
       "      <td>...</td>\n",
       "    </tr>\n",
       "    <tr>\n",
       "      <th>7417</th>\n",
       "      <td>7417</td>\n",
       "      <td>28-04-2018 09:45</td>\n",
       "      <td>9.0</td>\n",
       "      <td>Call</td>\n",
       "      <td>NaN</td>\n",
       "      <td>aXXXXXXX@gmail.com</td>\n",
       "      <td>Sales-Agent-6</td>\n",
       "      <td>Mumbai</td>\n",
       "      <td>Mode-4</td>\n",
       "      <td>LOST</td>\n",
       "    </tr>\n",
       "    <tr>\n",
       "      <th>7418</th>\n",
       "      <td>7418</td>\n",
       "      <td>28-04-2018 09:43</td>\n",
       "      <td>15.0</td>\n",
       "      <td>Call</td>\n",
       "      <td>NaN</td>\n",
       "      <td>#VALUE!</td>\n",
       "      <td>Sales-Agent-12</td>\n",
       "      <td>Other Locations</td>\n",
       "      <td>Mode-5</td>\n",
       "      <td>LOST</td>\n",
       "    </tr>\n",
       "    <tr>\n",
       "      <th>7419</th>\n",
       "      <td>7419</td>\n",
       "      <td>28-04-2018 09:20</td>\n",
       "      <td>5.0</td>\n",
       "      <td>Live Chat-Direct</td>\n",
       "      <td>NaN</td>\n",
       "      <td>sXXXXXXX@gmail.com</td>\n",
       "      <td>Sales-Agent-11</td>\n",
       "      <td>Bangalore</td>\n",
       "      <td>Mode-1</td>\n",
       "      <td>Not Responding</td>\n",
       "    </tr>\n",
       "    <tr>\n",
       "      <th>7420</th>\n",
       "      <td>7420</td>\n",
       "      <td>28-04-2018 08:04</td>\n",
       "      <td>21.0</td>\n",
       "      <td>CRM form</td>\n",
       "      <td>NaN</td>\n",
       "      <td>YXXXXXXX@gmail.com</td>\n",
       "      <td>Sales-Agent-4</td>\n",
       "      <td>Other Locations</td>\n",
       "      <td>Mode-1</td>\n",
       "      <td>Just Enquiry</td>\n",
       "    </tr>\n",
       "    <tr>\n",
       "      <th>7421</th>\n",
       "      <td>7421</td>\n",
       "      <td>28-04-2018 07:54</td>\n",
       "      <td>25.0</td>\n",
       "      <td>Website</td>\n",
       "      <td>NaN</td>\n",
       "      <td>cXXXXXXX@gmail.com</td>\n",
       "      <td>Sales-Agent-3</td>\n",
       "      <td>Chennai</td>\n",
       "      <td>Mode-1</td>\n",
       "      <td>CONVERTED</td>\n",
       "    </tr>\n",
       "  </tbody>\n",
       "</table>\n",
       "<p>7422 rows × 10 columns</p>\n",
       "</div>"
      ],
      "text/plain": [
       "      Unnamed: 0           Created  Product_ID            Source      Mobile  \\\n",
       "0              0  14-11-2018 10:05         NaN           Website  984XXXXXXX   \n",
       "1              1  14-11-2018 09:22         NaN           Website     XXXXXXX   \n",
       "2              2  14-11-2018 09:21         NaN           Website     XXXXXXX   \n",
       "3              3  14-11-2018 08:46         NaN           Website     XXXXXXX   \n",
       "4              4  14-11-2018 07:34         NaN           Website     XXXXXXX   \n",
       "...          ...               ...         ...               ...         ...   \n",
       "7417        7417  28-04-2018 09:45         9.0              Call         NaN   \n",
       "7418        7418  28-04-2018 09:43        15.0              Call         NaN   \n",
       "7419        7419  28-04-2018 09:20         5.0  Live Chat-Direct         NaN   \n",
       "7420        7420  28-04-2018 08:04        21.0          CRM form         NaN   \n",
       "7421        7421  28-04-2018 07:54        25.0           Website         NaN   \n",
       "\n",
       "                   EMAIL     Sales_Agent         Location Delivery_Mode  \\\n",
       "0     aXXXXXXX@gmail.com  Sales-Agent-11              NaN        Mode-5   \n",
       "1                #VALUE!  Sales-Agent-10              NaN        Mode-5   \n",
       "2     dXXXXXXX@yahoo.com  Sales-Agent-10              NaN        Mode-5   \n",
       "3     wXXXXXXX@gmail.com  Sales-Agent-10              NaN        Mode-5   \n",
       "4     cXXXXXXX@gmail.com  Sales-Agent-10              NaN        Mode-5   \n",
       "...                  ...             ...              ...           ...   \n",
       "7417  aXXXXXXX@gmail.com   Sales-Agent-6           Mumbai        Mode-4   \n",
       "7418             #VALUE!  Sales-Agent-12  Other Locations        Mode-5   \n",
       "7419  sXXXXXXX@gmail.com  Sales-Agent-11        Bangalore        Mode-1   \n",
       "7420  YXXXXXXX@gmail.com   Sales-Agent-4  Other Locations        Mode-1   \n",
       "7421  cXXXXXXX@gmail.com   Sales-Agent-3          Chennai        Mode-1   \n",
       "\n",
       "              Status  \n",
       "0               Open  \n",
       "1               Open  \n",
       "2               Open  \n",
       "3               Open  \n",
       "4               Open  \n",
       "...              ...  \n",
       "7417            LOST  \n",
       "7418            LOST  \n",
       "7419  Not Responding  \n",
       "7420    Just Enquiry  \n",
       "7421       CONVERTED  \n",
       "\n",
       "[7422 rows x 10 columns]"
      ]
     },
     "execution_count": 70,
     "metadata": {},
     "output_type": "execute_result"
    }
   ],
   "source": [
    "#reading records\n",
    "data"
   ]
  },
  {
   "cell_type": "markdown",
   "id": "94877c53",
   "metadata": {},
   "source": [
    "# Domain Analysis"
   ]
  },
  {
   "cell_type": "markdown",
   "id": "7a8ea082",
   "metadata": {},
   "source": [
    "* **Created**- This feature shows the date and time of the when the data was created\n",
    "* **Product_ID**- ID of the products  \n",
    "* **Source**- Represents the source from where the customers are engaging\n",
    "* **Mobile**- Represents Mobile number of the sales agents\n",
    "* **EMAIL**- Represents Email of the sales agents\n",
    "* **Sales_Agent**- Represents sales agents levels\n",
    "* **Location**- Represents the location where it is situated\n",
    "* **Delivery_Mode**- Represents the mode through which delivery is done\n",
    "* **Status**- Represents the status of conversion"
   ]
  },
  {
   "cell_type": "markdown",
   "id": "4d6d2ce4",
   "metadata": {},
   "source": [
    "# Basic Checks"
   ]
  },
  {
   "cell_type": "code",
   "execution_count": 71,
   "id": "d17c1b8d",
   "metadata": {},
   "outputs": [
    {
     "data": {
      "text/html": [
       "<div>\n",
       "<style scoped>\n",
       "    .dataframe tbody tr th:only-of-type {\n",
       "        vertical-align: middle;\n",
       "    }\n",
       "\n",
       "    .dataframe tbody tr th {\n",
       "        vertical-align: top;\n",
       "    }\n",
       "\n",
       "    .dataframe thead th {\n",
       "        text-align: right;\n",
       "    }\n",
       "</style>\n",
       "<table border=\"1\" class=\"dataframe\">\n",
       "  <thead>\n",
       "    <tr style=\"text-align: right;\">\n",
       "      <th></th>\n",
       "      <th>Unnamed: 0</th>\n",
       "      <th>Created</th>\n",
       "      <th>Product_ID</th>\n",
       "      <th>Source</th>\n",
       "      <th>Mobile</th>\n",
       "      <th>EMAIL</th>\n",
       "      <th>Sales_Agent</th>\n",
       "      <th>Location</th>\n",
       "      <th>Delivery_Mode</th>\n",
       "      <th>Status</th>\n",
       "    </tr>\n",
       "  </thead>\n",
       "  <tbody>\n",
       "    <tr>\n",
       "      <th>0</th>\n",
       "      <td>0</td>\n",
       "      <td>14-11-2018 10:05</td>\n",
       "      <td>NaN</td>\n",
       "      <td>Website</td>\n",
       "      <td>984XXXXXXX</td>\n",
       "      <td>aXXXXXXX@gmail.com</td>\n",
       "      <td>Sales-Agent-11</td>\n",
       "      <td>NaN</td>\n",
       "      <td>Mode-5</td>\n",
       "      <td>Open</td>\n",
       "    </tr>\n",
       "    <tr>\n",
       "      <th>1</th>\n",
       "      <td>1</td>\n",
       "      <td>14-11-2018 09:22</td>\n",
       "      <td>NaN</td>\n",
       "      <td>Website</td>\n",
       "      <td>XXXXXXX</td>\n",
       "      <td>#VALUE!</td>\n",
       "      <td>Sales-Agent-10</td>\n",
       "      <td>NaN</td>\n",
       "      <td>Mode-5</td>\n",
       "      <td>Open</td>\n",
       "    </tr>\n",
       "    <tr>\n",
       "      <th>2</th>\n",
       "      <td>2</td>\n",
       "      <td>14-11-2018 09:21</td>\n",
       "      <td>NaN</td>\n",
       "      <td>Website</td>\n",
       "      <td>XXXXXXX</td>\n",
       "      <td>dXXXXXXX@yahoo.com</td>\n",
       "      <td>Sales-Agent-10</td>\n",
       "      <td>NaN</td>\n",
       "      <td>Mode-5</td>\n",
       "      <td>Open</td>\n",
       "    </tr>\n",
       "    <tr>\n",
       "      <th>3</th>\n",
       "      <td>3</td>\n",
       "      <td>14-11-2018 08:46</td>\n",
       "      <td>NaN</td>\n",
       "      <td>Website</td>\n",
       "      <td>XXXXXXX</td>\n",
       "      <td>wXXXXXXX@gmail.com</td>\n",
       "      <td>Sales-Agent-10</td>\n",
       "      <td>NaN</td>\n",
       "      <td>Mode-5</td>\n",
       "      <td>Open</td>\n",
       "    </tr>\n",
       "    <tr>\n",
       "      <th>4</th>\n",
       "      <td>4</td>\n",
       "      <td>14-11-2018 07:34</td>\n",
       "      <td>NaN</td>\n",
       "      <td>Website</td>\n",
       "      <td>XXXXXXX</td>\n",
       "      <td>cXXXXXXX@gmail.com</td>\n",
       "      <td>Sales-Agent-10</td>\n",
       "      <td>NaN</td>\n",
       "      <td>Mode-5</td>\n",
       "      <td>Open</td>\n",
       "    </tr>\n",
       "  </tbody>\n",
       "</table>\n",
       "</div>"
      ],
      "text/plain": [
       "   Unnamed: 0           Created  Product_ID   Source      Mobile  \\\n",
       "0           0  14-11-2018 10:05         NaN  Website  984XXXXXXX   \n",
       "1           1  14-11-2018 09:22         NaN  Website     XXXXXXX   \n",
       "2           2  14-11-2018 09:21         NaN  Website     XXXXXXX   \n",
       "3           3  14-11-2018 08:46         NaN  Website     XXXXXXX   \n",
       "4           4  14-11-2018 07:34         NaN  Website     XXXXXXX   \n",
       "\n",
       "                EMAIL     Sales_Agent Location Delivery_Mode Status  \n",
       "0  aXXXXXXX@gmail.com  Sales-Agent-11      NaN        Mode-5   Open  \n",
       "1             #VALUE!  Sales-Agent-10      NaN        Mode-5   Open  \n",
       "2  dXXXXXXX@yahoo.com  Sales-Agent-10      NaN        Mode-5   Open  \n",
       "3  wXXXXXXX@gmail.com  Sales-Agent-10      NaN        Mode-5   Open  \n",
       "4  cXXXXXXX@gmail.com  Sales-Agent-10      NaN        Mode-5   Open  "
      ]
     },
     "execution_count": 71,
     "metadata": {},
     "output_type": "execute_result"
    }
   ],
   "source": [
    "#checking first five rows\n",
    "data.head()"
   ]
  },
  {
   "cell_type": "code",
   "execution_count": 72,
   "id": "9c6dd460",
   "metadata": {},
   "outputs": [
    {
     "data": {
      "text/html": [
       "<div>\n",
       "<style scoped>\n",
       "    .dataframe tbody tr th:only-of-type {\n",
       "        vertical-align: middle;\n",
       "    }\n",
       "\n",
       "    .dataframe tbody tr th {\n",
       "        vertical-align: top;\n",
       "    }\n",
       "\n",
       "    .dataframe thead th {\n",
       "        text-align: right;\n",
       "    }\n",
       "</style>\n",
       "<table border=\"1\" class=\"dataframe\">\n",
       "  <thead>\n",
       "    <tr style=\"text-align: right;\">\n",
       "      <th></th>\n",
       "      <th>Unnamed: 0</th>\n",
       "      <th>Created</th>\n",
       "      <th>Product_ID</th>\n",
       "      <th>Source</th>\n",
       "      <th>Mobile</th>\n",
       "      <th>EMAIL</th>\n",
       "      <th>Sales_Agent</th>\n",
       "      <th>Location</th>\n",
       "      <th>Delivery_Mode</th>\n",
       "      <th>Status</th>\n",
       "    </tr>\n",
       "  </thead>\n",
       "  <tbody>\n",
       "    <tr>\n",
       "      <th>7417</th>\n",
       "      <td>7417</td>\n",
       "      <td>28-04-2018 09:45</td>\n",
       "      <td>9.0</td>\n",
       "      <td>Call</td>\n",
       "      <td>NaN</td>\n",
       "      <td>aXXXXXXX@gmail.com</td>\n",
       "      <td>Sales-Agent-6</td>\n",
       "      <td>Mumbai</td>\n",
       "      <td>Mode-4</td>\n",
       "      <td>LOST</td>\n",
       "    </tr>\n",
       "    <tr>\n",
       "      <th>7418</th>\n",
       "      <td>7418</td>\n",
       "      <td>28-04-2018 09:43</td>\n",
       "      <td>15.0</td>\n",
       "      <td>Call</td>\n",
       "      <td>NaN</td>\n",
       "      <td>#VALUE!</td>\n",
       "      <td>Sales-Agent-12</td>\n",
       "      <td>Other Locations</td>\n",
       "      <td>Mode-5</td>\n",
       "      <td>LOST</td>\n",
       "    </tr>\n",
       "    <tr>\n",
       "      <th>7419</th>\n",
       "      <td>7419</td>\n",
       "      <td>28-04-2018 09:20</td>\n",
       "      <td>5.0</td>\n",
       "      <td>Live Chat-Direct</td>\n",
       "      <td>NaN</td>\n",
       "      <td>sXXXXXXX@gmail.com</td>\n",
       "      <td>Sales-Agent-11</td>\n",
       "      <td>Bangalore</td>\n",
       "      <td>Mode-1</td>\n",
       "      <td>Not Responding</td>\n",
       "    </tr>\n",
       "    <tr>\n",
       "      <th>7420</th>\n",
       "      <td>7420</td>\n",
       "      <td>28-04-2018 08:04</td>\n",
       "      <td>21.0</td>\n",
       "      <td>CRM form</td>\n",
       "      <td>NaN</td>\n",
       "      <td>YXXXXXXX@gmail.com</td>\n",
       "      <td>Sales-Agent-4</td>\n",
       "      <td>Other Locations</td>\n",
       "      <td>Mode-1</td>\n",
       "      <td>Just Enquiry</td>\n",
       "    </tr>\n",
       "    <tr>\n",
       "      <th>7421</th>\n",
       "      <td>7421</td>\n",
       "      <td>28-04-2018 07:54</td>\n",
       "      <td>25.0</td>\n",
       "      <td>Website</td>\n",
       "      <td>NaN</td>\n",
       "      <td>cXXXXXXX@gmail.com</td>\n",
       "      <td>Sales-Agent-3</td>\n",
       "      <td>Chennai</td>\n",
       "      <td>Mode-1</td>\n",
       "      <td>CONVERTED</td>\n",
       "    </tr>\n",
       "  </tbody>\n",
       "</table>\n",
       "</div>"
      ],
      "text/plain": [
       "      Unnamed: 0           Created  Product_ID            Source Mobile  \\\n",
       "7417        7417  28-04-2018 09:45         9.0              Call    NaN   \n",
       "7418        7418  28-04-2018 09:43        15.0              Call    NaN   \n",
       "7419        7419  28-04-2018 09:20         5.0  Live Chat-Direct    NaN   \n",
       "7420        7420  28-04-2018 08:04        21.0          CRM form    NaN   \n",
       "7421        7421  28-04-2018 07:54        25.0           Website    NaN   \n",
       "\n",
       "                   EMAIL     Sales_Agent         Location Delivery_Mode  \\\n",
       "7417  aXXXXXXX@gmail.com   Sales-Agent-6           Mumbai        Mode-4   \n",
       "7418             #VALUE!  Sales-Agent-12  Other Locations        Mode-5   \n",
       "7419  sXXXXXXX@gmail.com  Sales-Agent-11        Bangalore        Mode-1   \n",
       "7420  YXXXXXXX@gmail.com   Sales-Agent-4  Other Locations        Mode-1   \n",
       "7421  cXXXXXXX@gmail.com   Sales-Agent-3          Chennai        Mode-1   \n",
       "\n",
       "              Status  \n",
       "7417            LOST  \n",
       "7418            LOST  \n",
       "7419  Not Responding  \n",
       "7420    Just Enquiry  \n",
       "7421       CONVERTED  "
      ]
     },
     "execution_count": 72,
     "metadata": {},
     "output_type": "execute_result"
    }
   ],
   "source": [
    "#checking last 5 rows\n",
    "data.tail()"
   ]
  },
  {
   "cell_type": "code",
   "execution_count": 73,
   "id": "d57110ee",
   "metadata": {},
   "outputs": [
    {
     "name": "stdout",
     "output_type": "stream",
     "text": [
      "<class 'pandas.core.frame.DataFrame'>\n",
      "RangeIndex: 7422 entries, 0 to 7421\n",
      "Data columns (total 10 columns):\n",
      " #   Column         Non-Null Count  Dtype  \n",
      "---  ------         --------------  -----  \n",
      " 0   Unnamed: 0     7422 non-null   int64  \n",
      " 1   Created        7422 non-null   object \n",
      " 2   Product_ID     7364 non-null   float64\n",
      " 3   Source         7405 non-null   object \n",
      " 4   Mobile         5612 non-null   object \n",
      " 5   EMAIL          7422 non-null   object \n",
      " 6   Sales_Agent    7399 non-null   object \n",
      " 7   Location       7364 non-null   object \n",
      " 8   Delivery_Mode  7422 non-null   object \n",
      " 9   Status         7422 non-null   object \n",
      "dtypes: float64(1), int64(1), object(8)\n",
      "memory usage: 580.0+ KB\n"
     ]
    }
   ],
   "source": [
    "#checking info\n",
    "data.info()"
   ]
  },
  {
   "cell_type": "code",
   "execution_count": 74,
   "id": "759c1173",
   "metadata": {},
   "outputs": [
    {
     "data": {
      "text/plain": [
       "Unnamed: 0         int64\n",
       "Created           object\n",
       "Product_ID       float64\n",
       "Source            object\n",
       "Mobile            object\n",
       "EMAIL             object\n",
       "Sales_Agent       object\n",
       "Location          object\n",
       "Delivery_Mode     object\n",
       "Status            object\n",
       "dtype: object"
      ]
     },
     "execution_count": 74,
     "metadata": {},
     "output_type": "execute_result"
    }
   ],
   "source": [
    "#checking data-types\n",
    "data.dtypes"
   ]
  },
  {
   "cell_type": "code",
   "execution_count": 75,
   "id": "b4d4a6e2",
   "metadata": {},
   "outputs": [
    {
     "data": {
      "text/html": [
       "<div>\n",
       "<style scoped>\n",
       "    .dataframe tbody tr th:only-of-type {\n",
       "        vertical-align: middle;\n",
       "    }\n",
       "\n",
       "    .dataframe tbody tr th {\n",
       "        vertical-align: top;\n",
       "    }\n",
       "\n",
       "    .dataframe thead th {\n",
       "        text-align: right;\n",
       "    }\n",
       "</style>\n",
       "<table border=\"1\" class=\"dataframe\">\n",
       "  <thead>\n",
       "    <tr style=\"text-align: right;\">\n",
       "      <th></th>\n",
       "      <th>Unnamed: 0</th>\n",
       "      <th>Product_ID</th>\n",
       "    </tr>\n",
       "  </thead>\n",
       "  <tbody>\n",
       "    <tr>\n",
       "      <th>count</th>\n",
       "      <td>7422.000000</td>\n",
       "      <td>7364.000000</td>\n",
       "    </tr>\n",
       "    <tr>\n",
       "      <th>mean</th>\n",
       "      <td>3710.500000</td>\n",
       "      <td>15.947311</td>\n",
       "    </tr>\n",
       "    <tr>\n",
       "      <th>std</th>\n",
       "      <td>2142.691182</td>\n",
       "      <td>6.072937</td>\n",
       "    </tr>\n",
       "    <tr>\n",
       "      <th>min</th>\n",
       "      <td>0.000000</td>\n",
       "      <td>0.000000</td>\n",
       "    </tr>\n",
       "    <tr>\n",
       "      <th>25%</th>\n",
       "      <td>1855.250000</td>\n",
       "      <td>12.000000</td>\n",
       "    </tr>\n",
       "    <tr>\n",
       "      <th>50%</th>\n",
       "      <td>3710.500000</td>\n",
       "      <td>18.000000</td>\n",
       "    </tr>\n",
       "    <tr>\n",
       "      <th>75%</th>\n",
       "      <td>5565.750000</td>\n",
       "      <td>19.000000</td>\n",
       "    </tr>\n",
       "    <tr>\n",
       "      <th>max</th>\n",
       "      <td>7421.000000</td>\n",
       "      <td>28.000000</td>\n",
       "    </tr>\n",
       "  </tbody>\n",
       "</table>\n",
       "</div>"
      ],
      "text/plain": [
       "        Unnamed: 0   Product_ID\n",
       "count  7422.000000  7364.000000\n",
       "mean   3710.500000    15.947311\n",
       "std    2142.691182     6.072937\n",
       "min       0.000000     0.000000\n",
       "25%    1855.250000    12.000000\n",
       "50%    3710.500000    18.000000\n",
       "75%    5565.750000    19.000000\n",
       "max    7421.000000    28.000000"
      ]
     },
     "execution_count": 75,
     "metadata": {},
     "output_type": "execute_result"
    }
   ],
   "source": [
    "#checking statistics of variables\n",
    "data.describe()"
   ]
  },
  {
   "cell_type": "code",
   "execution_count": 76,
   "id": "a3fb38c8",
   "metadata": {},
   "outputs": [
    {
     "data": {
      "text/html": [
       "<div>\n",
       "<style scoped>\n",
       "    .dataframe tbody tr th:only-of-type {\n",
       "        vertical-align: middle;\n",
       "    }\n",
       "\n",
       "    .dataframe tbody tr th {\n",
       "        vertical-align: top;\n",
       "    }\n",
       "\n",
       "    .dataframe thead th {\n",
       "        text-align: right;\n",
       "    }\n",
       "</style>\n",
       "<table border=\"1\" class=\"dataframe\">\n",
       "  <thead>\n",
       "    <tr style=\"text-align: right;\">\n",
       "      <th></th>\n",
       "      <th>Created</th>\n",
       "      <th>Source</th>\n",
       "      <th>Mobile</th>\n",
       "      <th>EMAIL</th>\n",
       "      <th>Sales_Agent</th>\n",
       "      <th>Location</th>\n",
       "      <th>Delivery_Mode</th>\n",
       "      <th>Status</th>\n",
       "    </tr>\n",
       "  </thead>\n",
       "  <tbody>\n",
       "    <tr>\n",
       "      <th>count</th>\n",
       "      <td>7422</td>\n",
       "      <td>7405</td>\n",
       "      <td>5612</td>\n",
       "      <td>7422</td>\n",
       "      <td>7399</td>\n",
       "      <td>7364</td>\n",
       "      <td>7422</td>\n",
       "      <td>7422</td>\n",
       "    </tr>\n",
       "    <tr>\n",
       "      <th>unique</th>\n",
       "      <td>6752</td>\n",
       "      <td>25</td>\n",
       "      <td>486</td>\n",
       "      <td>883</td>\n",
       "      <td>12</td>\n",
       "      <td>17</td>\n",
       "      <td>5</td>\n",
       "      <td>11</td>\n",
       "    </tr>\n",
       "    <tr>\n",
       "      <th>top</th>\n",
       "      <td>26-09-2018 11:30</td>\n",
       "      <td>Call</td>\n",
       "      <td>XXXXXXX</td>\n",
       "      <td>#VALUE!</td>\n",
       "      <td>Sales-Agent-4</td>\n",
       "      <td>Other Locations</td>\n",
       "      <td>Mode-5</td>\n",
       "      <td>Junk Lead</td>\n",
       "    </tr>\n",
       "    <tr>\n",
       "      <th>freq</th>\n",
       "      <td>4</td>\n",
       "      <td>2547</td>\n",
       "      <td>222</td>\n",
       "      <td>1701</td>\n",
       "      <td>1500</td>\n",
       "      <td>2500</td>\n",
       "      <td>2975</td>\n",
       "      <td>1536</td>\n",
       "    </tr>\n",
       "  </tbody>\n",
       "</table>\n",
       "</div>"
      ],
      "text/plain": [
       "                 Created Source   Mobile    EMAIL    Sales_Agent  \\\n",
       "count               7422   7405     5612     7422           7399   \n",
       "unique              6752     25      486      883             12   \n",
       "top     26-09-2018 11:30   Call  XXXXXXX  #VALUE!  Sales-Agent-4   \n",
       "freq                   4   2547      222     1701           1500   \n",
       "\n",
       "               Location Delivery_Mode     Status  \n",
       "count              7364          7422       7422  \n",
       "unique               17             5         11  \n",
       "top     Other Locations        Mode-5  Junk Lead  \n",
       "freq               2500          2975       1536  "
      ]
     },
     "execution_count": 76,
     "metadata": {},
     "output_type": "execute_result"
    }
   ],
   "source": [
    "#checking statistics of categorical variables\n",
    "data.describe(include='O')"
   ]
  },
  {
   "cell_type": "code",
   "execution_count": 77,
   "id": "cfd4954f",
   "metadata": {
    "scrolled": true
   },
   "outputs": [
    {
     "data": {
      "text/html": [
       "<div>\n",
       "<style scoped>\n",
       "    .dataframe tbody tr th:only-of-type {\n",
       "        vertical-align: middle;\n",
       "    }\n",
       "\n",
       "    .dataframe tbody tr th {\n",
       "        vertical-align: top;\n",
       "    }\n",
       "\n",
       "    .dataframe thead th {\n",
       "        text-align: right;\n",
       "    }\n",
       "</style>\n",
       "<table border=\"1\" class=\"dataframe\">\n",
       "  <thead>\n",
       "    <tr style=\"text-align: right;\">\n",
       "      <th></th>\n",
       "      <th>Unnamed: 0</th>\n",
       "      <th>Created</th>\n",
       "      <th>Product_ID</th>\n",
       "      <th>Source</th>\n",
       "      <th>Mobile</th>\n",
       "      <th>EMAIL</th>\n",
       "      <th>Sales_Agent</th>\n",
       "      <th>Location</th>\n",
       "      <th>Delivery_Mode</th>\n",
       "      <th>Status</th>\n",
       "    </tr>\n",
       "  </thead>\n",
       "  <tbody>\n",
       "    <tr>\n",
       "      <th>0</th>\n",
       "      <td>0</td>\n",
       "      <td>14-11-2018 10:05</td>\n",
       "      <td>NaN</td>\n",
       "      <td>Website</td>\n",
       "      <td>984XXXXXXX</td>\n",
       "      <td>aXXXXXXX@gmail.com</td>\n",
       "      <td>Sales-Agent-11</td>\n",
       "      <td>NaN</td>\n",
       "      <td>Mode-5</td>\n",
       "      <td>Open</td>\n",
       "    </tr>\n",
       "    <tr>\n",
       "      <th>1</th>\n",
       "      <td>1</td>\n",
       "      <td>14-11-2018 09:22</td>\n",
       "      <td>NaN</td>\n",
       "      <td>Website</td>\n",
       "      <td>XXXXXXX</td>\n",
       "      <td>#VALUE!</td>\n",
       "      <td>Sales-Agent-10</td>\n",
       "      <td>NaN</td>\n",
       "      <td>Mode-5</td>\n",
       "      <td>Open</td>\n",
       "    </tr>\n",
       "    <tr>\n",
       "      <th>2</th>\n",
       "      <td>2</td>\n",
       "      <td>14-11-2018 09:21</td>\n",
       "      <td>NaN</td>\n",
       "      <td>Website</td>\n",
       "      <td>XXXXXXX</td>\n",
       "      <td>dXXXXXXX@yahoo.com</td>\n",
       "      <td>Sales-Agent-10</td>\n",
       "      <td>NaN</td>\n",
       "      <td>Mode-5</td>\n",
       "      <td>Open</td>\n",
       "    </tr>\n",
       "    <tr>\n",
       "      <th>3</th>\n",
       "      <td>3</td>\n",
       "      <td>14-11-2018 08:46</td>\n",
       "      <td>NaN</td>\n",
       "      <td>Website</td>\n",
       "      <td>XXXXXXX</td>\n",
       "      <td>wXXXXXXX@gmail.com</td>\n",
       "      <td>Sales-Agent-10</td>\n",
       "      <td>NaN</td>\n",
       "      <td>Mode-5</td>\n",
       "      <td>Open</td>\n",
       "    </tr>\n",
       "    <tr>\n",
       "      <th>4</th>\n",
       "      <td>4</td>\n",
       "      <td>14-11-2018 07:34</td>\n",
       "      <td>NaN</td>\n",
       "      <td>Website</td>\n",
       "      <td>XXXXXXX</td>\n",
       "      <td>cXXXXXXX@gmail.com</td>\n",
       "      <td>Sales-Agent-10</td>\n",
       "      <td>NaN</td>\n",
       "      <td>Mode-5</td>\n",
       "      <td>Open</td>\n",
       "    </tr>\n",
       "    <tr>\n",
       "      <th>...</th>\n",
       "      <td>...</td>\n",
       "      <td>...</td>\n",
       "      <td>...</td>\n",
       "      <td>...</td>\n",
       "      <td>...</td>\n",
       "      <td>...</td>\n",
       "      <td>...</td>\n",
       "      <td>...</td>\n",
       "      <td>...</td>\n",
       "      <td>...</td>\n",
       "    </tr>\n",
       "    <tr>\n",
       "      <th>7417</th>\n",
       "      <td>7417</td>\n",
       "      <td>28-04-2018 09:45</td>\n",
       "      <td>9.0</td>\n",
       "      <td>Call</td>\n",
       "      <td>NaN</td>\n",
       "      <td>aXXXXXXX@gmail.com</td>\n",
       "      <td>Sales-Agent-6</td>\n",
       "      <td>Mumbai</td>\n",
       "      <td>Mode-4</td>\n",
       "      <td>LOST</td>\n",
       "    </tr>\n",
       "    <tr>\n",
       "      <th>7418</th>\n",
       "      <td>7418</td>\n",
       "      <td>28-04-2018 09:43</td>\n",
       "      <td>15.0</td>\n",
       "      <td>Call</td>\n",
       "      <td>NaN</td>\n",
       "      <td>#VALUE!</td>\n",
       "      <td>Sales-Agent-12</td>\n",
       "      <td>Other Locations</td>\n",
       "      <td>Mode-5</td>\n",
       "      <td>LOST</td>\n",
       "    </tr>\n",
       "    <tr>\n",
       "      <th>7419</th>\n",
       "      <td>7419</td>\n",
       "      <td>28-04-2018 09:20</td>\n",
       "      <td>5.0</td>\n",
       "      <td>Live Chat-Direct</td>\n",
       "      <td>NaN</td>\n",
       "      <td>sXXXXXXX@gmail.com</td>\n",
       "      <td>Sales-Agent-11</td>\n",
       "      <td>Bangalore</td>\n",
       "      <td>Mode-1</td>\n",
       "      <td>Not Responding</td>\n",
       "    </tr>\n",
       "    <tr>\n",
       "      <th>7420</th>\n",
       "      <td>7420</td>\n",
       "      <td>28-04-2018 08:04</td>\n",
       "      <td>21.0</td>\n",
       "      <td>CRM form</td>\n",
       "      <td>NaN</td>\n",
       "      <td>YXXXXXXX@gmail.com</td>\n",
       "      <td>Sales-Agent-4</td>\n",
       "      <td>Other Locations</td>\n",
       "      <td>Mode-1</td>\n",
       "      <td>Just Enquiry</td>\n",
       "    </tr>\n",
       "    <tr>\n",
       "      <th>7421</th>\n",
       "      <td>7421</td>\n",
       "      <td>28-04-2018 07:54</td>\n",
       "      <td>25.0</td>\n",
       "      <td>Website</td>\n",
       "      <td>NaN</td>\n",
       "      <td>cXXXXXXX@gmail.com</td>\n",
       "      <td>Sales-Agent-3</td>\n",
       "      <td>Chennai</td>\n",
       "      <td>Mode-1</td>\n",
       "      <td>CONVERTED</td>\n",
       "    </tr>\n",
       "  </tbody>\n",
       "</table>\n",
       "<p>7422 rows × 10 columns</p>\n",
       "</div>"
      ],
      "text/plain": [
       "      Unnamed: 0           Created  Product_ID            Source      Mobile  \\\n",
       "0              0  14-11-2018 10:05         NaN           Website  984XXXXXXX   \n",
       "1              1  14-11-2018 09:22         NaN           Website     XXXXXXX   \n",
       "2              2  14-11-2018 09:21         NaN           Website     XXXXXXX   \n",
       "3              3  14-11-2018 08:46         NaN           Website     XXXXXXX   \n",
       "4              4  14-11-2018 07:34         NaN           Website     XXXXXXX   \n",
       "...          ...               ...         ...               ...         ...   \n",
       "7417        7417  28-04-2018 09:45         9.0              Call         NaN   \n",
       "7418        7418  28-04-2018 09:43        15.0              Call         NaN   \n",
       "7419        7419  28-04-2018 09:20         5.0  Live Chat-Direct         NaN   \n",
       "7420        7420  28-04-2018 08:04        21.0          CRM form         NaN   \n",
       "7421        7421  28-04-2018 07:54        25.0           Website         NaN   \n",
       "\n",
       "                   EMAIL     Sales_Agent         Location Delivery_Mode  \\\n",
       "0     aXXXXXXX@gmail.com  Sales-Agent-11              NaN        Mode-5   \n",
       "1                #VALUE!  Sales-Agent-10              NaN        Mode-5   \n",
       "2     dXXXXXXX@yahoo.com  Sales-Agent-10              NaN        Mode-5   \n",
       "3     wXXXXXXX@gmail.com  Sales-Agent-10              NaN        Mode-5   \n",
       "4     cXXXXXXX@gmail.com  Sales-Agent-10              NaN        Mode-5   \n",
       "...                  ...             ...              ...           ...   \n",
       "7417  aXXXXXXX@gmail.com   Sales-Agent-6           Mumbai        Mode-4   \n",
       "7418             #VALUE!  Sales-Agent-12  Other Locations        Mode-5   \n",
       "7419  sXXXXXXX@gmail.com  Sales-Agent-11        Bangalore        Mode-1   \n",
       "7420  YXXXXXXX@gmail.com   Sales-Agent-4  Other Locations        Mode-1   \n",
       "7421  cXXXXXXX@gmail.com   Sales-Agent-3          Chennai        Mode-1   \n",
       "\n",
       "              Status  \n",
       "0               Open  \n",
       "1               Open  \n",
       "2               Open  \n",
       "3               Open  \n",
       "4               Open  \n",
       "...              ...  \n",
       "7417            LOST  \n",
       "7418            LOST  \n",
       "7419  Not Responding  \n",
       "7420    Just Enquiry  \n",
       "7421       CONVERTED  \n",
       "\n",
       "[7422 rows x 10 columns]"
      ]
     },
     "execution_count": 77,
     "metadata": {},
     "output_type": "execute_result"
    }
   ],
   "source": [
    "#checking max rows\n",
    "data.head(pd.reset_option('display.max_rows',None))"
   ]
  },
  {
   "cell_type": "code",
   "execution_count": 78,
   "id": "5e1c0788",
   "metadata": {},
   "outputs": [
    {
     "data": {
      "text/plain": [
       "(7422, 10)"
      ]
     },
     "execution_count": 78,
     "metadata": {},
     "output_type": "execute_result"
    }
   ],
   "source": [
    "#checking shape of the data\n",
    "data.shape"
   ]
  },
  {
   "cell_type": "code",
   "execution_count": 79,
   "id": "7788798e",
   "metadata": {},
   "outputs": [
    {
     "name": "stdout",
     "output_type": "stream",
     "text": [
      "(0, 10)\n"
     ]
    }
   ],
   "source": [
    "#Checking Duplicates\n",
    "print(data.loc[data.duplicated()].shape)"
   ]
  },
  {
   "cell_type": "markdown",
   "id": "5b38e6cf",
   "metadata": {},
   "source": [
    "# Data Visualization (EDA) "
   ]
  },
  {
   "cell_type": "markdown",
   "id": "6432cd73",
   "metadata": {},
   "source": [
    "**Univariant Analysis:-**\n",
    "- Univariate analysis is basically the simplest form to analyze data. Uni means one and this means that the data has only one kind of variable.\n"
   ]
  },
  {
   "cell_type": "markdown",
   "id": "42b6c362",
   "metadata": {},
   "source": [
    "**COUNT PLOT**\n",
    "- The countplot is used to represent the occurrence(counts) of the observation present in the categorical variable. It uses the concept of a bar chart"
   ]
  },
  {
   "cell_type": "code",
   "execution_count": 80,
   "id": "c88ed419",
   "metadata": {},
   "outputs": [
    {
     "data": {
      "text/plain": [
       "<AxesSubplot:>"
      ]
     },
     "execution_count": 80,
     "metadata": {},
     "output_type": "execute_result"
    },
    {
     "data": {
      "image/png": "[encoded data removed]",
      "text/plain": [
       "<Figure size 1080x360 with 1 Axes>"
      ]
     },
     "metadata": {
      "needs_background": "light"
     },
     "output_type": "display_data"
    }
   ],
   "source": [
    "plt.figure(figsize=(15,5))\n",
    "data.Location.value_counts().plot(kind='bar')"
   ]
  },
  {
   "cell_type": "markdown",
   "id": "0572c6ae",
   "metadata": {},
   "source": [
    "**observations-**\n",
    "- The value counts for Other locations is maximum followed by Bangalore alone.\n",
    "- The value counts for Australia, Singapore,Malaysia,Europe,Howrah are minimum."
   ]
  },
  {
   "cell_type": "code",
   "execution_count": 81,
   "id": "ea5b5889",
   "metadata": {},
   "outputs": [
    {
     "data": {
      "text/plain": [
       "<AxesSubplot:>"
      ]
     },
     "execution_count": 81,
     "metadata": {},
     "output_type": "execute_result"
    },
    {
     "data": {
      "image/png": "[encoded data removed]",
      "text/plain": [
       "<Figure size 1080x360 with 1 Axes>"
      ]
     },
     "metadata": {
      "needs_background": "light"
     },
     "output_type": "display_data"
    }
   ],
   "source": [
    "plt.figure(figsize=(15,5))\n",
    "data.Source.value_counts().plot(kind='bar')"
   ]
  },
  {
   "cell_type": "markdown",
   "id": "ba378902",
   "metadata": {},
   "source": [
    "**observations-**\n",
    "- The value counts for call is maximum followed by live chat-Direct and website.\n"
   ]
  },
  {
   "cell_type": "code",
   "execution_count": 82,
   "id": "bf1869bb",
   "metadata": {},
   "outputs": [
    {
     "data": {
      "text/plain": [
       "<AxesSubplot:>"
      ]
     },
     "execution_count": 82,
     "metadata": {},
     "output_type": "execute_result"
    },
    {
     "data": {
      "image/png": "[encoded data removed]",
      "text/plain": [
       "<Figure size 1080x360 with 1 Axes>"
      ]
     },
     "metadata": {
      "needs_background": "light"
     },
     "output_type": "display_data"
    }
   ],
   "source": [
    "plt.figure(figsize=(15,5))\n",
    "data.Sales_Agent.value_counts().plot(kind='bar')"
   ]
  },
  {
   "cell_type": "markdown",
   "id": "3338ec43",
   "metadata": {},
   "source": [
    "**observations-**\n",
    "- The value counts for sales-agent 4 is maximum.\n",
    "- The value counts for sales-agent 1 is minimum."
   ]
  },
  {
   "cell_type": "code",
   "execution_count": 83,
   "id": "0f552b91",
   "metadata": {},
   "outputs": [
    {
     "data": {
      "text/plain": [
       "<AxesSubplot:>"
      ]
     },
     "execution_count": 83,
     "metadata": {},
     "output_type": "execute_result"
    },
    {
     "data": {
      "image/png": "[encoded data removed]",
      "text/plain": [
       "<Figure size 1080x360 with 1 Axes>"
      ]
     },
     "metadata": {
      "needs_background": "light"
     },
     "output_type": "display_data"
    }
   ],
   "source": [
    "plt.figure(figsize=(15,5))\n",
    "data.Product_ID.value_counts().plot(kind='bar')"
   ]
  },
  {
   "cell_type": "markdown",
   "id": "32ecd9a7",
   "metadata": {},
   "source": [
    "**observations-**\n",
    "- The maximum count is 18 and minimum counts is 11"
   ]
  },
  {
   "cell_type": "code",
   "execution_count": 84,
   "id": "1e7eb6dc",
   "metadata": {},
   "outputs": [
    {
     "data": {
      "text/plain": [
       "<AxesSubplot:>"
      ]
     },
     "execution_count": 84,
     "metadata": {},
     "output_type": "execute_result"
    },
    {
     "data": {
      "image/png": "[encoded data removed]",
      "text/plain": [
       "<Figure size 1080x360 with 1 Axes>"
      ]
     },
     "metadata": {
      "needs_background": "light"
     },
     "output_type": "display_data"
    }
   ],
   "source": [
    "plt.figure(figsize=(15,5))\n",
    "data.Delivery_Mode.value_counts().plot(kind='bar')"
   ]
  },
  {
   "cell_type": "markdown",
   "id": "a3845488",
   "metadata": {},
   "source": [
    "**Observations-**\n",
    "- The Mode-5 has maximum counts.\n",
    "- The Mode-2 has minimum counts"
   ]
  },
  {
   "cell_type": "markdown",
   "id": "bddd1f7b",
   "metadata": {},
   "source": [
    "## Compressing and Merging the labels in column for better visualisation"
   ]
  },
  {
   "cell_type": "code",
   "execution_count": 85,
   "id": "8baf3c86",
   "metadata": {},
   "outputs": [],
   "source": [
    "# Assigning multiples labels into single label.\n",
    "data.Source.replace(['Live Chat-Direct','Live Chat-Google Organic','Live Chat -PPC','Live Chat-Blog','Live Chat-Quora',\n",
    "                    'Live Chat-CPC','Live Chat-Google Ads','Live Chat-Adwords Remarketing','Live Chat-Youtube',\n",
    "                    'Live Chat-Justdial'],'Live Chat',inplace=True)\n",
    "data.Source.replace(['Existing Customer','CRM form','Personal Contact'],'Existing Client',inplace=True)\n",
    "data.Source.replace('By Recommendation','Customer Referral',inplace=True)\n",
    "data.Source.replace(['US Website','Just Dial'],'Website',inplace=True)\n",
    "data.Source.replace(['E-mail Campaign','SMS Campaign','E-Mail Message','Other'],'Campaign',inplace=True)"
   ]
  },
  {
   "cell_type": "code",
   "execution_count": 86,
   "id": "da681c06",
   "metadata": {},
   "outputs": [],
   "source": [
    "data.Location.replace(['UAE','USA','UK','AUSTRALIA','Singapore','Malaysia','EUROPE'],'Overseas',inplace=True)\n",
    "data.Location.replace(['Howrah','Kolkata','Trivandrum'],'Other Locations',inplace=True)"
   ]
  },
  {
   "cell_type": "code",
   "execution_count": 87,
   "id": "f0e4f489",
   "metadata": {},
   "outputs": [],
   "source": [
    "# Defining 'Status' as 'High Potential' or 'Low Potential'\n",
    "data.Status.replace(['CONVERTED','converted','In Progress Positive','Potential','Long Term','Open'],'High Potential',inplace=True)\n",
    "data.Status.replace(['LOST','In Progress Negative','Not Responding','Junk Lead','Just Enquiry'],'Low Potential',inplace=True)"
   ]
  },
  {
   "cell_type": "code",
   "execution_count": 88,
   "id": "9a6f5534",
   "metadata": {},
   "outputs": [],
   "source": [
    "#Creating Day,Month,Weekday etc for better exploration of data\n",
    "data['Created']=pd.to_datetime(data.Created)"
   ]
  },
  {
   "cell_type": "code",
   "execution_count": 89,
   "id": "ecea2290",
   "metadata": {},
   "outputs": [],
   "source": [
    "data['Day']=data.Created.dt.day\n",
    "data['Month']=data.Created.dt.month\n",
    "data['Weekday']=data.Created.dt.weekday\n",
    "data['Year']=data.Created.dt.year          \n",
    "data['Hour']=data.Created.dt.hour\n",
    "data['Minute']=data.Created.dt.minute"
   ]
  },
  {
   "cell_type": "code",
   "execution_count": 90,
   "id": "cd0469af",
   "metadata": {},
   "outputs": [
    {
     "data": {
      "text/html": [
       "<div>\n",
       "<style scoped>\n",
       "    .dataframe tbody tr th:only-of-type {\n",
       "        vertical-align: middle;\n",
       "    }\n",
       "\n",
       "    .dataframe tbody tr th {\n",
       "        vertical-align: top;\n",
       "    }\n",
       "\n",
       "    .dataframe thead th {\n",
       "        text-align: right;\n",
       "    }\n",
       "</style>\n",
       "<table border=\"1\" class=\"dataframe\">\n",
       "  <thead>\n",
       "    <tr style=\"text-align: right;\">\n",
       "      <th></th>\n",
       "      <th>Unnamed: 0</th>\n",
       "      <th>Created</th>\n",
       "      <th>Product_ID</th>\n",
       "      <th>Source</th>\n",
       "      <th>Mobile</th>\n",
       "      <th>EMAIL</th>\n",
       "      <th>Sales_Agent</th>\n",
       "      <th>Location</th>\n",
       "      <th>Delivery_Mode</th>\n",
       "      <th>Status</th>\n",
       "      <th>Day</th>\n",
       "      <th>Month</th>\n",
       "      <th>Weekday</th>\n",
       "      <th>Year</th>\n",
       "      <th>Hour</th>\n",
       "      <th>Minute</th>\n",
       "    </tr>\n",
       "  </thead>\n",
       "  <tbody>\n",
       "    <tr>\n",
       "      <th>0</th>\n",
       "      <td>0</td>\n",
       "      <td>2018-11-14 10:05:00</td>\n",
       "      <td>NaN</td>\n",
       "      <td>Website</td>\n",
       "      <td>984XXXXXXX</td>\n",
       "      <td>aXXXXXXX@gmail.com</td>\n",
       "      <td>Sales-Agent-11</td>\n",
       "      <td>NaN</td>\n",
       "      <td>Mode-5</td>\n",
       "      <td>High Potential</td>\n",
       "      <td>14</td>\n",
       "      <td>11</td>\n",
       "      <td>2</td>\n",
       "      <td>2018</td>\n",
       "      <td>10</td>\n",
       "      <td>5</td>\n",
       "    </tr>\n",
       "    <tr>\n",
       "      <th>1</th>\n",
       "      <td>1</td>\n",
       "      <td>2018-11-14 09:22:00</td>\n",
       "      <td>NaN</td>\n",
       "      <td>Website</td>\n",
       "      <td>XXXXXXX</td>\n",
       "      <td>#VALUE!</td>\n",
       "      <td>Sales-Agent-10</td>\n",
       "      <td>NaN</td>\n",
       "      <td>Mode-5</td>\n",
       "      <td>High Potential</td>\n",
       "      <td>14</td>\n",
       "      <td>11</td>\n",
       "      <td>2</td>\n",
       "      <td>2018</td>\n",
       "      <td>9</td>\n",
       "      <td>22</td>\n",
       "    </tr>\n",
       "    <tr>\n",
       "      <th>2</th>\n",
       "      <td>2</td>\n",
       "      <td>2018-11-14 09:21:00</td>\n",
       "      <td>NaN</td>\n",
       "      <td>Website</td>\n",
       "      <td>XXXXXXX</td>\n",
       "      <td>dXXXXXXX@yahoo.com</td>\n",
       "      <td>Sales-Agent-10</td>\n",
       "      <td>NaN</td>\n",
       "      <td>Mode-5</td>\n",
       "      <td>High Potential</td>\n",
       "      <td>14</td>\n",
       "      <td>11</td>\n",
       "      <td>2</td>\n",
       "      <td>2018</td>\n",
       "      <td>9</td>\n",
       "      <td>21</td>\n",
       "    </tr>\n",
       "    <tr>\n",
       "      <th>3</th>\n",
       "      <td>3</td>\n",
       "      <td>2018-11-14 08:46:00</td>\n",
       "      <td>NaN</td>\n",
       "      <td>Website</td>\n",
       "      <td>XXXXXXX</td>\n",
       "      <td>wXXXXXXX@gmail.com</td>\n",
       "      <td>Sales-Agent-10</td>\n",
       "      <td>NaN</td>\n",
       "      <td>Mode-5</td>\n",
       "      <td>High Potential</td>\n",
       "      <td>14</td>\n",
       "      <td>11</td>\n",
       "      <td>2</td>\n",
       "      <td>2018</td>\n",
       "      <td>8</td>\n",
       "      <td>46</td>\n",
       "    </tr>\n",
       "    <tr>\n",
       "      <th>4</th>\n",
       "      <td>4</td>\n",
       "      <td>2018-11-14 07:34:00</td>\n",
       "      <td>NaN</td>\n",
       "      <td>Website</td>\n",
       "      <td>XXXXXXX</td>\n",
       "      <td>cXXXXXXX@gmail.com</td>\n",
       "      <td>Sales-Agent-10</td>\n",
       "      <td>NaN</td>\n",
       "      <td>Mode-5</td>\n",
       "      <td>High Potential</td>\n",
       "      <td>14</td>\n",
       "      <td>11</td>\n",
       "      <td>2</td>\n",
       "      <td>2018</td>\n",
       "      <td>7</td>\n",
       "      <td>34</td>\n",
       "    </tr>\n",
       "  </tbody>\n",
       "</table>\n",
       "</div>"
      ],
      "text/plain": [
       "   Unnamed: 0             Created  Product_ID   Source      Mobile  \\\n",
       "0           0 2018-11-14 10:05:00         NaN  Website  984XXXXXXX   \n",
       "1           1 2018-11-14 09:22:00         NaN  Website     XXXXXXX   \n",
       "2           2 2018-11-14 09:21:00         NaN  Website     XXXXXXX   \n",
       "3           3 2018-11-14 08:46:00         NaN  Website     XXXXXXX   \n",
       "4           4 2018-11-14 07:34:00         NaN  Website     XXXXXXX   \n",
       "\n",
       "                EMAIL     Sales_Agent Location Delivery_Mode          Status  \\\n",
       "0  aXXXXXXX@gmail.com  Sales-Agent-11      NaN        Mode-5  High Potential   \n",
       "1             #VALUE!  Sales-Agent-10      NaN        Mode-5  High Potential   \n",
       "2  dXXXXXXX@yahoo.com  Sales-Agent-10      NaN        Mode-5  High Potential   \n",
       "3  wXXXXXXX@gmail.com  Sales-Agent-10      NaN        Mode-5  High Potential   \n",
       "4  cXXXXXXX@gmail.com  Sales-Agent-10      NaN        Mode-5  High Potential   \n",
       "\n",
       "   Day  Month  Weekday  Year  Hour  Minute  \n",
       "0   14     11        2  2018    10       5  \n",
       "1   14     11        2  2018     9      22  \n",
       "2   14     11        2  2018     9      21  \n",
       "3   14     11        2  2018     8      46  \n",
       "4   14     11        2  2018     7      34  "
      ]
     },
     "execution_count": 90,
     "metadata": {},
     "output_type": "execute_result"
    }
   ],
   "source": [
    "data.head(5)"
   ]
  },
  {
   "cell_type": "markdown",
   "id": "9d1668ad",
   "metadata": {},
   "source": [
    "**LINEPLOT**\n",
    "- Line graphs (or line charts) are best when you want to show how the value of something changes over time, or compare how several things changes."
   ]
  },
  {
   "cell_type": "code",
   "execution_count": 91,
   "id": "d237beac",
   "metadata": {},
   "outputs": [
    {
     "data": {
      "image/png": "[encoded data removed]",
      "text/plain": [
       "<Figure size 432x288 with 1 Axes>"
      ]
     },
     "metadata": {
      "needs_background": "light"
     },
     "output_type": "display_data"
    }
   ],
   "source": [
    "sns.lineplot(x='Delivery_Mode', y='Product_ID', data=data,hue='Status', ci=None,marker=\"*\",palette=['g', 'r'],linewidth=3.5)  # hue is for categorical data\n",
    "plt.show()"
   ]
  },
  {
   "cell_type": "markdown",
   "id": "3edd3ce0",
   "metadata": {},
   "source": [
    "**Observations-**\n",
    "- The product_ID 17 and Model-3 has higher potential.\n",
    "- The product_ID 16 and Model-3 has lower potential.\n",
    "- The product_ID 14 and Model-2 has higher potential.\n",
    "- The product_ID 10 and Model-2 has lower potential."
   ]
  },
  {
   "cell_type": "code",
   "execution_count": 92,
   "id": "ba7c17b1",
   "metadata": {},
   "outputs": [
    {
     "data": {
      "image/png": "[encoded data removed]",
      "text/plain": [
       "<Figure size 432x288 with 1 Axes>"
      ]
     },
     "metadata": {
      "needs_background": "light"
     },
     "output_type": "display_data"
    }
   ],
   "source": [
    "sns.lineplot(x='Source', y='Product_ID', data=data,hue='Status', ci=None,marker=\"*\",palette=['g', 'r'],linewidth=3.5)  # hue is for categorical data\n",
    "plt.show()"
   ]
  },
  {
   "cell_type": "markdown",
   "id": "b131c8ed",
   "metadata": {},
   "source": [
    "**Observations-**\n",
    "- The product_ID 18 and source Campaign has higher potential.\n",
    "- The product_ID 19 and source Campaign has lower potential.\n",
    "- The product_ID 14 and source Customer Referral has lower potential.\n",
    "- The product_ID 16 and source Customer Referral has higher potential."
   ]
  },
  {
   "cell_type": "markdown",
   "id": "de1f47e5",
   "metadata": {},
   "source": [
    "**PIE CHART**\n",
    "- A pie chart is a pictorial representation of data in the form of a circular chart or pie where the slices of the pie show the size of the data."
   ]
  },
  {
   "cell_type": "code",
   "execution_count": 93,
   "id": "2180202d",
   "metadata": {},
   "outputs": [
    {
     "data": {
      "image/png": "[encoded data removed]",
      "text/plain": [
       "<Figure size 1080x1440 with 1 Axes>"
      ]
     },
     "metadata": {},
     "output_type": "display_data"
    }
   ],
   "source": [
    "# Set the figure size\n",
    "plt.figure(figsize=(20,15))\n",
    "sales_agent_counts = data['Sales_Agent'].value_counts()\n",
    "plt.pie(sales_agent_counts, labels=sales_agent_counts.index, autopct='%1.1f%%', explode=[0.1]*len(sales_agent_counts))\n",
    "# Set the title of the pie chart\n",
    "plt.title('Sales Agent Distribution')\n",
    "# Display the pie chart\n",
    "plt.show()"
   ]
  },
  {
   "cell_type": "markdown",
   "id": "d3927a05",
   "metadata": {},
   "source": [
    "**BAR PLOT**\n",
    "- A bar chart is used to show a distribution of data points or perform a comparison of metric values across different subgroups of data."
   ]
  },
  {
   "cell_type": "code",
   "execution_count": 94,
   "id": "1667eec6",
   "metadata": {},
   "outputs": [
    {
     "data": {
      "image/png": "[encoded data removed]",
      "text/plain": [
       "<Figure size 1080x360 with 1 Axes>"
      ]
     },
     "metadata": {
      "needs_background": "light"
     },
     "output_type": "display_data"
    }
   ],
   "source": [
    "plt.figure(figsize=(15, 5))\n",
    "sns.countplot(data=data, x='Location')\n",
    "plt.title('Sales by Location')\n",
    "plt.show()"
   ]
  },
  {
   "cell_type": "markdown",
   "id": "11a43849",
   "metadata": {},
   "source": [
    "**Observations-**\n",
    "- Other locations has maximum counts followed by Bangalore .\n",
    "- Pune has minimum counts."
   ]
  },
  {
   "cell_type": "code",
   "execution_count": 95,
   "id": "66dc9944",
   "metadata": {},
   "outputs": [
    {
     "data": {
      "image/png": "[encoded data removed]",
      "text/plain": [
       "<Figure size 1440x576 with 1 Axes>"
      ]
     },
     "metadata": {
      "needs_background": "light"
     },
     "output_type": "display_data"
    }
   ],
   "source": [
    "plt.figure(figsize=(20, 8))\n",
    "sns.countplot(data=data, x='Source')\n",
    "plt.title('Source of customers')\n",
    "plt.xticks(rotation=90)\n",
    "plt.show()"
   ]
  },
  {
   "cell_type": "markdown",
   "id": "549f58c6",
   "metadata": {},
   "source": [
    "**Observations-**\n",
    "- After merging the labels, Live chat has the maximum counts followed by call and website.\n",
    "- Campaign has the minimum count."
   ]
  },
  {
   "cell_type": "code",
   "execution_count": 96,
   "id": "a9d205cf",
   "metadata": {},
   "outputs": [
    {
     "data": {
      "text/plain": [
       "<AxesSubplot:xlabel='Location', ylabel='count'>"
      ]
     },
     "execution_count": 96,
     "metadata": {},
     "output_type": "execute_result"
    },
    {
     "data": {
      "image/png": "[encoded data removed]",
      "text/plain": [
       "<Figure size 1440x576 with 1 Axes>"
      ]
     },
     "metadata": {
      "needs_background": "light"
     },
     "output_type": "display_data"
    }
   ],
   "source": [
    "plt.figure(figsize=(20, 8))\n",
    "sns.countplot(x='Location', hue='Delivery_Mode', data=data)"
   ]
  },
  {
   "cell_type": "markdown",
   "id": "ae4e8f10",
   "metadata": {},
   "source": [
    "**Observations-**\n",
    "- In Bangalore, the delivery mode for mode-1 is the maximum followed by mode-5.\n",
    "- In other locations, the delivery mode for mode-5 is the maximum followed by mode-3.\n",
    "- In Overseas,Hyderabad,Chennai,Delhi,Mumbai the delivery model for mode-4 is the least.\n"
   ]
  },
  {
   "cell_type": "code",
   "execution_count": 97,
   "id": "881ea848",
   "metadata": {},
   "outputs": [
    {
     "data": {
      "text/plain": [
       "<AxesSubplot:xlabel='Location', ylabel='count'>"
      ]
     },
     "execution_count": 97,
     "metadata": {},
     "output_type": "execute_result"
    },
    {
     "data": {
      "image/png": "[encoded data removed]",
      "text/plain": [
       "<Figure size 1440x576 with 1 Axes>"
      ]
     },
     "metadata": {
      "needs_background": "light"
     },
     "output_type": "display_data"
    }
   ],
   "source": [
    "plt.figure(figsize=(20, 8))\n",
    "sns.countplot(x='Location', hue='Status', data=data)"
   ]
  },
  {
   "cell_type": "markdown",
   "id": "df1bd35a",
   "metadata": {},
   "source": [
    "**Observations-**\n",
    "- In Bangalore, the counts for the high potential leads are maximum.\n",
    "- In other location, the counts for the low potential leads are minimum.\n",
    "- In overseas, the counts for the high potential leads and low potential leads are almost the same\n",
    "- In Chennai,the counts for the high potential leads and low potential leads are almost the same.\n",
    "- In Delhi,Mumbai,Pune the counts for low potential leads are maximum"
   ]
  },
  {
   "cell_type": "markdown",
   "id": "7f6b2458",
   "metadata": {},
   "source": [
    "# Data Preprocessing"
   ]
  },
  {
   "cell_type": "code",
   "execution_count": 98,
   "id": "05368583",
   "metadata": {},
   "outputs": [
    {
     "data": {
      "text/html": [
       "<div>\n",
       "<style scoped>\n",
       "    .dataframe tbody tr th:only-of-type {\n",
       "        vertical-align: middle;\n",
       "    }\n",
       "\n",
       "    .dataframe tbody tr th {\n",
       "        vertical-align: top;\n",
       "    }\n",
       "\n",
       "    .dataframe thead th {\n",
       "        text-align: right;\n",
       "    }\n",
       "</style>\n",
       "<table border=\"1\" class=\"dataframe\">\n",
       "  <thead>\n",
       "    <tr style=\"text-align: right;\">\n",
       "      <th></th>\n",
       "      <th>Unnamed: 0</th>\n",
       "      <th>Created</th>\n",
       "      <th>Product_ID</th>\n",
       "      <th>Source</th>\n",
       "      <th>Mobile</th>\n",
       "      <th>EMAIL</th>\n",
       "      <th>Sales_Agent</th>\n",
       "      <th>Location</th>\n",
       "      <th>Delivery_Mode</th>\n",
       "      <th>Status</th>\n",
       "      <th>Day</th>\n",
       "      <th>Month</th>\n",
       "      <th>Weekday</th>\n",
       "      <th>Year</th>\n",
       "      <th>Hour</th>\n",
       "      <th>Minute</th>\n",
       "    </tr>\n",
       "  </thead>\n",
       "  <tbody>\n",
       "    <tr>\n",
       "      <th>0</th>\n",
       "      <td>0</td>\n",
       "      <td>2018-11-14 10:05:00</td>\n",
       "      <td>NaN</td>\n",
       "      <td>Website</td>\n",
       "      <td>984XXXXXXX</td>\n",
       "      <td>aXXXXXXX@gmail.com</td>\n",
       "      <td>Sales-Agent-11</td>\n",
       "      <td>NaN</td>\n",
       "      <td>Mode-5</td>\n",
       "      <td>High Potential</td>\n",
       "      <td>14</td>\n",
       "      <td>11</td>\n",
       "      <td>2</td>\n",
       "      <td>2018</td>\n",
       "      <td>10</td>\n",
       "      <td>5</td>\n",
       "    </tr>\n",
       "    <tr>\n",
       "      <th>1</th>\n",
       "      <td>1</td>\n",
       "      <td>2018-11-14 09:22:00</td>\n",
       "      <td>NaN</td>\n",
       "      <td>Website</td>\n",
       "      <td>XXXXXXX</td>\n",
       "      <td>#VALUE!</td>\n",
       "      <td>Sales-Agent-10</td>\n",
       "      <td>NaN</td>\n",
       "      <td>Mode-5</td>\n",
       "      <td>High Potential</td>\n",
       "      <td>14</td>\n",
       "      <td>11</td>\n",
       "      <td>2</td>\n",
       "      <td>2018</td>\n",
       "      <td>9</td>\n",
       "      <td>22</td>\n",
       "    </tr>\n",
       "    <tr>\n",
       "      <th>2</th>\n",
       "      <td>2</td>\n",
       "      <td>2018-11-14 09:21:00</td>\n",
       "      <td>NaN</td>\n",
       "      <td>Website</td>\n",
       "      <td>XXXXXXX</td>\n",
       "      <td>dXXXXXXX@yahoo.com</td>\n",
       "      <td>Sales-Agent-10</td>\n",
       "      <td>NaN</td>\n",
       "      <td>Mode-5</td>\n",
       "      <td>High Potential</td>\n",
       "      <td>14</td>\n",
       "      <td>11</td>\n",
       "      <td>2</td>\n",
       "      <td>2018</td>\n",
       "      <td>9</td>\n",
       "      <td>21</td>\n",
       "    </tr>\n",
       "    <tr>\n",
       "      <th>3</th>\n",
       "      <td>3</td>\n",
       "      <td>2018-11-14 08:46:00</td>\n",
       "      <td>NaN</td>\n",
       "      <td>Website</td>\n",
       "      <td>XXXXXXX</td>\n",
       "      <td>wXXXXXXX@gmail.com</td>\n",
       "      <td>Sales-Agent-10</td>\n",
       "      <td>NaN</td>\n",
       "      <td>Mode-5</td>\n",
       "      <td>High Potential</td>\n",
       "      <td>14</td>\n",
       "      <td>11</td>\n",
       "      <td>2</td>\n",
       "      <td>2018</td>\n",
       "      <td>8</td>\n",
       "      <td>46</td>\n",
       "    </tr>\n",
       "    <tr>\n",
       "      <th>4</th>\n",
       "      <td>4</td>\n",
       "      <td>2018-11-14 07:34:00</td>\n",
       "      <td>NaN</td>\n",
       "      <td>Website</td>\n",
       "      <td>XXXXXXX</td>\n",
       "      <td>cXXXXXXX@gmail.com</td>\n",
       "      <td>Sales-Agent-10</td>\n",
       "      <td>NaN</td>\n",
       "      <td>Mode-5</td>\n",
       "      <td>High Potential</td>\n",
       "      <td>14</td>\n",
       "      <td>11</td>\n",
       "      <td>2</td>\n",
       "      <td>2018</td>\n",
       "      <td>7</td>\n",
       "      <td>34</td>\n",
       "    </tr>\n",
       "  </tbody>\n",
       "</table>\n",
       "</div>"
      ],
      "text/plain": [
       "   Unnamed: 0             Created  Product_ID   Source      Mobile  \\\n",
       "0           0 2018-11-14 10:05:00         NaN  Website  984XXXXXXX   \n",
       "1           1 2018-11-14 09:22:00         NaN  Website     XXXXXXX   \n",
       "2           2 2018-11-14 09:21:00         NaN  Website     XXXXXXX   \n",
       "3           3 2018-11-14 08:46:00         NaN  Website     XXXXXXX   \n",
       "4           4 2018-11-14 07:34:00         NaN  Website     XXXXXXX   \n",
       "\n",
       "                EMAIL     Sales_Agent Location Delivery_Mode          Status  \\\n",
       "0  aXXXXXXX@gmail.com  Sales-Agent-11      NaN        Mode-5  High Potential   \n",
       "1             #VALUE!  Sales-Agent-10      NaN        Mode-5  High Potential   \n",
       "2  dXXXXXXX@yahoo.com  Sales-Agent-10      NaN        Mode-5  High Potential   \n",
       "3  wXXXXXXX@gmail.com  Sales-Agent-10      NaN        Mode-5  High Potential   \n",
       "4  cXXXXXXX@gmail.com  Sales-Agent-10      NaN        Mode-5  High Potential   \n",
       "\n",
       "   Day  Month  Weekday  Year  Hour  Minute  \n",
       "0   14     11        2  2018    10       5  \n",
       "1   14     11        2  2018     9      22  \n",
       "2   14     11        2  2018     9      21  \n",
       "3   14     11        2  2018     8      46  \n",
       "4   14     11        2  2018     7      34  "
      ]
     },
     "execution_count": 98,
     "metadata": {},
     "output_type": "execute_result"
    }
   ],
   "source": [
    "data.head(5)"
   ]
  },
  {
   "cell_type": "code",
   "execution_count": 99,
   "id": "2b16e8c2",
   "metadata": {},
   "outputs": [
    {
     "data": {
      "text/plain": [
       "Unnamed: 0          0\n",
       "Created             0\n",
       "Product_ID         58\n",
       "Source             17\n",
       "Mobile           1810\n",
       "EMAIL               0\n",
       "Sales_Agent        23\n",
       "Location           58\n",
       "Delivery_Mode       0\n",
       "Status              0\n",
       "Day                 0\n",
       "Month               0\n",
       "Weekday             0\n",
       "Year                0\n",
       "Hour                0\n",
       "Minute              0\n",
       "dtype: int64"
      ]
     },
     "execution_count": 99,
     "metadata": {},
     "output_type": "execute_result"
    }
   ],
   "source": [
    "#Checking missing Values\n",
    "data.isnull().sum()"
   ]
  },
  {
   "cell_type": "markdown",
   "id": "4a4d0aff",
   "metadata": {},
   "source": [
    "# Handling Numerical features"
   ]
  },
  {
   "cell_type": "code",
   "execution_count": 100,
   "id": "612fc3d0",
   "metadata": {},
   "outputs": [
    {
     "data": {
      "text/plain": [
       "<AxesSubplot:xlabel='Product_ID', ylabel='Density'>"
      ]
     },
     "execution_count": 100,
     "metadata": {},
     "output_type": "execute_result"
    },
    {
     "data": {
      "image/png": "[encoded data removed]",
      "text/plain": [
       "<Figure size 432x288 with 1 Axes>"
      ]
     },
     "metadata": {
      "needs_background": "light"
     },
     "output_type": "display_data"
    }
   ],
   "source": [
    "sns.distplot(data['Product_ID'])"
   ]
  },
  {
   "cell_type": "code",
   "execution_count": 101,
   "id": "606469c4",
   "metadata": {},
   "outputs": [
    {
     "data": {
      "text/plain": [
       "18.0    1711\n",
       "15.0    1518\n",
       "19.0    1189\n",
       "9.0      992\n",
       "27.0     739\n",
       "5.0      487\n",
       "10.0     168\n",
       "1.0      105\n",
       "20.0     102\n",
       "25.0      90\n",
       "21.0      66\n",
       "2.0       38\n",
       "12.0      36\n",
       "26.0      31\n",
       "14.0      27\n",
       "11.0      12\n",
       "22.0       8\n",
       "3.0        7\n",
       "17.0       7\n",
       "6.0        7\n",
       "8.0        6\n",
       "13.0       5\n",
       "24.0       3\n",
       "16.0       3\n",
       "23.0       2\n",
       "0.0        2\n",
       "28.0       1\n",
       "7.0        1\n",
       "4.0        1\n",
       "Name: Product_ID, dtype: int64"
      ]
     },
     "execution_count": 101,
     "metadata": {},
     "output_type": "execute_result"
    }
   ],
   "source": [
    "data.Product_ID.value_counts()"
   ]
  },
  {
   "cell_type": "code",
   "execution_count": 102,
   "id": "eaa590d2",
   "metadata": {},
   "outputs": [],
   "source": [
    "#Replacing NAN values with mode \n",
    "data['Product_ID'] = data['Product_ID'].replace(np.nan,'18.0')"
   ]
  },
  {
   "cell_type": "code",
   "execution_count": 103,
   "id": "2827c7d3",
   "metadata": {},
   "outputs": [
    {
     "data": {
      "text/plain": [
       "0"
      ]
     },
     "execution_count": 103,
     "metadata": {},
     "output_type": "execute_result"
    }
   ],
   "source": [
    "# Checking missing values after imputation\n",
    "data['Product_ID'].isnull().sum()"
   ]
  },
  {
   "cell_type": "markdown",
   "id": "bd157997",
   "metadata": {},
   "source": [
    "# Handling Categorical features"
   ]
  },
  {
   "cell_type": "code",
   "execution_count": 104,
   "id": "46032e24",
   "metadata": {},
   "outputs": [
    {
     "data": {
      "text/plain": [
       "Live Chat            2677\n",
       "Call                 2547\n",
       "Website              1787\n",
       "Customer Referral     212\n",
       "Existing Client       146\n",
       "Campaign               36\n",
       "Name: Source, dtype: int64"
      ]
     },
     "execution_count": 104,
     "metadata": {},
     "output_type": "execute_result"
    }
   ],
   "source": [
    "data.Source.value_counts()"
   ]
  },
  {
   "cell_type": "code",
   "execution_count": 105,
   "id": "290b2736",
   "metadata": {},
   "outputs": [],
   "source": [
    "#Replacing NAN values with mode\n",
    "data['Source'] = data['Source'].replace(np.nan,'Live Chat')"
   ]
  },
  {
   "cell_type": "code",
   "execution_count": 106,
   "id": "18052958",
   "metadata": {},
   "outputs": [
    {
     "data": {
      "text/plain": [
       "0"
      ]
     },
     "execution_count": 106,
     "metadata": {},
     "output_type": "execute_result"
    }
   ],
   "source": [
    "# Checking missing values after imputation\n",
    "data['Source'].isnull().sum()"
   ]
  },
  {
   "cell_type": "code",
   "execution_count": 107,
   "id": "5c496c2f",
   "metadata": {},
   "outputs": [
    {
     "data": {
      "text/plain": [
       "Sales-Agent-4     1500\n",
       "Sales-Agent-11    1420\n",
       "Sales-Agent-5     1190\n",
       "Sales-Agent-9      879\n",
       "Sales-Agent-3      781\n",
       "Sales-Agent-7      736\n",
       "Sales-Agent-2      389\n",
       "Sales-Agent-12     269\n",
       "Sales-Agent-6      114\n",
       "Sales-Agent-8       68\n",
       "Sales-Agent-10      49\n",
       "Sales-Agent-1        4\n",
       "Name: Sales_Agent, dtype: int64"
      ]
     },
     "execution_count": 107,
     "metadata": {},
     "output_type": "execute_result"
    }
   ],
   "source": [
    "data.Sales_Agent.value_counts()"
   ]
  },
  {
   "cell_type": "code",
   "execution_count": 108,
   "id": "52863547",
   "metadata": {},
   "outputs": [],
   "source": [
    "#Replacing NAN values with mode\n",
    "data['Sales_Agent'] = data['Sales_Agent'].replace(np.nan,'Sales-Agent-4')"
   ]
  },
  {
   "cell_type": "code",
   "execution_count": 109,
   "id": "9cc4b2bf",
   "metadata": {},
   "outputs": [
    {
     "data": {
      "text/plain": [
       "0"
      ]
     },
     "execution_count": 109,
     "metadata": {},
     "output_type": "execute_result"
    }
   ],
   "source": [
    "# Checking missing values after imputation\n",
    "data['Sales_Agent'].isnull().sum()"
   ]
  },
  {
   "cell_type": "code",
   "execution_count": 110,
   "id": "a343bf07",
   "metadata": {},
   "outputs": [
    {
     "data": {
      "text/plain": [
       "Other Locations    2614\n",
       "Bangalore          2084\n",
       "Chennai             909\n",
       "Hyderabad           528\n",
       "Delhi               471\n",
       "Mumbai              402\n",
       "Overseas            214\n",
       "Pune                142\n",
       "Name: Location, dtype: int64"
      ]
     },
     "execution_count": 110,
     "metadata": {},
     "output_type": "execute_result"
    }
   ],
   "source": [
    "data.Location.value_counts()"
   ]
  },
  {
   "cell_type": "code",
   "execution_count": 111,
   "id": "956565cb",
   "metadata": {},
   "outputs": [],
   "source": [
    "#Replacing NAN values with mode\n",
    "data['Location'] = data['Location'].replace(np.nan,'Other Locations')"
   ]
  },
  {
   "cell_type": "code",
   "execution_count": 112,
   "id": "265f3999",
   "metadata": {},
   "outputs": [
    {
     "data": {
      "text/plain": [
       "0"
      ]
     },
     "execution_count": 112,
     "metadata": {},
     "output_type": "execute_result"
    }
   ],
   "source": [
    "# Checking missing values after imputation\n",
    "data['Location'].isnull().sum()"
   ]
  },
  {
   "cell_type": "code",
   "execution_count": 113,
   "id": "1f39cfc7",
   "metadata": {},
   "outputs": [],
   "source": [
    "#dropping unique features\n",
    "data.drop(['Mobile','EMAIL','Unnamed: 0','Created','Year'],axis=1,inplace=True)"
   ]
  },
  {
   "cell_type": "code",
   "execution_count": 114,
   "id": "b66c19ce",
   "metadata": {},
   "outputs": [
    {
     "data": {
      "text/html": [
       "<div>\n",
       "<style scoped>\n",
       "    .dataframe tbody tr th:only-of-type {\n",
       "        vertical-align: middle;\n",
       "    }\n",
       "\n",
       "    .dataframe tbody tr th {\n",
       "        vertical-align: top;\n",
       "    }\n",
       "\n",
       "    .dataframe thead th {\n",
       "        text-align: right;\n",
       "    }\n",
       "</style>\n",
       "<table border=\"1\" class=\"dataframe\">\n",
       "  <thead>\n",
       "    <tr style=\"text-align: right;\">\n",
       "      <th></th>\n",
       "      <th>Product_ID</th>\n",
       "      <th>Source</th>\n",
       "      <th>Sales_Agent</th>\n",
       "      <th>Location</th>\n",
       "      <th>Delivery_Mode</th>\n",
       "      <th>Status</th>\n",
       "      <th>Day</th>\n",
       "      <th>Month</th>\n",
       "      <th>Weekday</th>\n",
       "      <th>Hour</th>\n",
       "      <th>Minute</th>\n",
       "    </tr>\n",
       "  </thead>\n",
       "  <tbody>\n",
       "    <tr>\n",
       "      <th>0</th>\n",
       "      <td>18.0</td>\n",
       "      <td>Website</td>\n",
       "      <td>Sales-Agent-11</td>\n",
       "      <td>Other Locations</td>\n",
       "      <td>Mode-5</td>\n",
       "      <td>High Potential</td>\n",
       "      <td>14</td>\n",
       "      <td>11</td>\n",
       "      <td>2</td>\n",
       "      <td>10</td>\n",
       "      <td>5</td>\n",
       "    </tr>\n",
       "    <tr>\n",
       "      <th>1</th>\n",
       "      <td>18.0</td>\n",
       "      <td>Website</td>\n",
       "      <td>Sales-Agent-10</td>\n",
       "      <td>Other Locations</td>\n",
       "      <td>Mode-5</td>\n",
       "      <td>High Potential</td>\n",
       "      <td>14</td>\n",
       "      <td>11</td>\n",
       "      <td>2</td>\n",
       "      <td>9</td>\n",
       "      <td>22</td>\n",
       "    </tr>\n",
       "    <tr>\n",
       "      <th>2</th>\n",
       "      <td>18.0</td>\n",
       "      <td>Website</td>\n",
       "      <td>Sales-Agent-10</td>\n",
       "      <td>Other Locations</td>\n",
       "      <td>Mode-5</td>\n",
       "      <td>High Potential</td>\n",
       "      <td>14</td>\n",
       "      <td>11</td>\n",
       "      <td>2</td>\n",
       "      <td>9</td>\n",
       "      <td>21</td>\n",
       "    </tr>\n",
       "    <tr>\n",
       "      <th>3</th>\n",
       "      <td>18.0</td>\n",
       "      <td>Website</td>\n",
       "      <td>Sales-Agent-10</td>\n",
       "      <td>Other Locations</td>\n",
       "      <td>Mode-5</td>\n",
       "      <td>High Potential</td>\n",
       "      <td>14</td>\n",
       "      <td>11</td>\n",
       "      <td>2</td>\n",
       "      <td>8</td>\n",
       "      <td>46</td>\n",
       "    </tr>\n",
       "    <tr>\n",
       "      <th>4</th>\n",
       "      <td>18.0</td>\n",
       "      <td>Website</td>\n",
       "      <td>Sales-Agent-10</td>\n",
       "      <td>Other Locations</td>\n",
       "      <td>Mode-5</td>\n",
       "      <td>High Potential</td>\n",
       "      <td>14</td>\n",
       "      <td>11</td>\n",
       "      <td>2</td>\n",
       "      <td>7</td>\n",
       "      <td>34</td>\n",
       "    </tr>\n",
       "    <tr>\n",
       "      <th>...</th>\n",
       "      <td>...</td>\n",
       "      <td>...</td>\n",
       "      <td>...</td>\n",
       "      <td>...</td>\n",
       "      <td>...</td>\n",
       "      <td>...</td>\n",
       "      <td>...</td>\n",
       "      <td>...</td>\n",
       "      <td>...</td>\n",
       "      <td>...</td>\n",
       "      <td>...</td>\n",
       "    </tr>\n",
       "    <tr>\n",
       "      <th>7417</th>\n",
       "      <td>9.0</td>\n",
       "      <td>Call</td>\n",
       "      <td>Sales-Agent-6</td>\n",
       "      <td>Mumbai</td>\n",
       "      <td>Mode-4</td>\n",
       "      <td>Low Potential</td>\n",
       "      <td>28</td>\n",
       "      <td>4</td>\n",
       "      <td>5</td>\n",
       "      <td>9</td>\n",
       "      <td>45</td>\n",
       "    </tr>\n",
       "    <tr>\n",
       "      <th>7418</th>\n",
       "      <td>15.0</td>\n",
       "      <td>Call</td>\n",
       "      <td>Sales-Agent-12</td>\n",
       "      <td>Other Locations</td>\n",
       "      <td>Mode-5</td>\n",
       "      <td>Low Potential</td>\n",
       "      <td>28</td>\n",
       "      <td>4</td>\n",
       "      <td>5</td>\n",
       "      <td>9</td>\n",
       "      <td>43</td>\n",
       "    </tr>\n",
       "    <tr>\n",
       "      <th>7419</th>\n",
       "      <td>5.0</td>\n",
       "      <td>Live Chat</td>\n",
       "      <td>Sales-Agent-11</td>\n",
       "      <td>Bangalore</td>\n",
       "      <td>Mode-1</td>\n",
       "      <td>Low Potential</td>\n",
       "      <td>28</td>\n",
       "      <td>4</td>\n",
       "      <td>5</td>\n",
       "      <td>9</td>\n",
       "      <td>20</td>\n",
       "    </tr>\n",
       "    <tr>\n",
       "      <th>7420</th>\n",
       "      <td>21.0</td>\n",
       "      <td>Existing Client</td>\n",
       "      <td>Sales-Agent-4</td>\n",
       "      <td>Other Locations</td>\n",
       "      <td>Mode-1</td>\n",
       "      <td>Low Potential</td>\n",
       "      <td>28</td>\n",
       "      <td>4</td>\n",
       "      <td>5</td>\n",
       "      <td>8</td>\n",
       "      <td>4</td>\n",
       "    </tr>\n",
       "    <tr>\n",
       "      <th>7421</th>\n",
       "      <td>25.0</td>\n",
       "      <td>Website</td>\n",
       "      <td>Sales-Agent-3</td>\n",
       "      <td>Chennai</td>\n",
       "      <td>Mode-1</td>\n",
       "      <td>High Potential</td>\n",
       "      <td>28</td>\n",
       "      <td>4</td>\n",
       "      <td>5</td>\n",
       "      <td>7</td>\n",
       "      <td>54</td>\n",
       "    </tr>\n",
       "  </tbody>\n",
       "</table>\n",
       "<p>7366 rows × 11 columns</p>\n",
       "</div>"
      ],
      "text/plain": [
       "     Product_ID           Source     Sales_Agent         Location  \\\n",
       "0          18.0          Website  Sales-Agent-11  Other Locations   \n",
       "1          18.0          Website  Sales-Agent-10  Other Locations   \n",
       "2          18.0          Website  Sales-Agent-10  Other Locations   \n",
       "3          18.0          Website  Sales-Agent-10  Other Locations   \n",
       "4          18.0          Website  Sales-Agent-10  Other Locations   \n",
       "...         ...              ...             ...              ...   \n",
       "7417        9.0             Call   Sales-Agent-6           Mumbai   \n",
       "7418       15.0             Call  Sales-Agent-12  Other Locations   \n",
       "7419        5.0        Live Chat  Sales-Agent-11        Bangalore   \n",
       "7420       21.0  Existing Client   Sales-Agent-4  Other Locations   \n",
       "7421       25.0          Website   Sales-Agent-3          Chennai   \n",
       "\n",
       "     Delivery_Mode          Status  Day  Month  Weekday  Hour  Minute  \n",
       "0           Mode-5  High Potential   14     11        2    10       5  \n",
       "1           Mode-5  High Potential   14     11        2     9      22  \n",
       "2           Mode-5  High Potential   14     11        2     9      21  \n",
       "3           Mode-5  High Potential   14     11        2     8      46  \n",
       "4           Mode-5  High Potential   14     11        2     7      34  \n",
       "...            ...             ...  ...    ...      ...   ...     ...  \n",
       "7417        Mode-4   Low Potential   28      4        5     9      45  \n",
       "7418        Mode-5   Low Potential   28      4        5     9      43  \n",
       "7419        Mode-1   Low Potential   28      4        5     9      20  \n",
       "7420        Mode-1   Low Potential   28      4        5     8       4  \n",
       "7421        Mode-1  High Potential   28      4        5     7      54  \n",
       "\n",
       "[7366 rows x 11 columns]"
      ]
     },
     "execution_count": 114,
     "metadata": {},
     "output_type": "execute_result"
    }
   ],
   "source": [
    "# dropping all duplicate values\n",
    "data = data.drop_duplicates(keep=False)\n",
    "data"
   ]
  },
  {
   "cell_type": "markdown",
   "id": "603520d4",
   "metadata": {},
   "source": [
    "# Categorical Encoding"
   ]
  },
  {
   "cell_type": "code",
   "execution_count": 115,
   "id": "67486ba1",
   "metadata": {},
   "outputs": [],
   "source": [
    "## Using label encoder to convert the categorical data to numerical data\n",
    "\n",
    "from sklearn.preprocessing import LabelEncoder\n",
    "lc=LabelEncoder()\n",
    "\n",
    "data.Source=lc.fit_transform(data.Source)\n",
    "data.Sales_Agent=lc.fit_transform(data.Sales_Agent)\n",
    "data.Location=lc.fit_transform(data.Location)\n",
    "data.Delivery_Mode=lc.fit_transform(data.Delivery_Mode)\n",
    "data.Status=lc.fit_transform(data.Status)"
   ]
  },
  {
   "cell_type": "code",
   "execution_count": 116,
   "id": "e61c295f",
   "metadata": {},
   "outputs": [
    {
     "data": {
      "text/html": [
       "<div>\n",
       "<style scoped>\n",
       "    .dataframe tbody tr th:only-of-type {\n",
       "        vertical-align: middle;\n",
       "    }\n",
       "\n",
       "    .dataframe tbody tr th {\n",
       "        vertical-align: top;\n",
       "    }\n",
       "\n",
       "    .dataframe thead th {\n",
       "        text-align: right;\n",
       "    }\n",
       "</style>\n",
       "<table border=\"1\" class=\"dataframe\">\n",
       "  <thead>\n",
       "    <tr style=\"text-align: right;\">\n",
       "      <th></th>\n",
       "      <th>Product_ID</th>\n",
       "      <th>Source</th>\n",
       "      <th>Sales_Agent</th>\n",
       "      <th>Location</th>\n",
       "      <th>Delivery_Mode</th>\n",
       "      <th>Status</th>\n",
       "      <th>Day</th>\n",
       "      <th>Month</th>\n",
       "      <th>Weekday</th>\n",
       "      <th>Hour</th>\n",
       "      <th>Minute</th>\n",
       "    </tr>\n",
       "  </thead>\n",
       "  <tbody>\n",
       "    <tr>\n",
       "      <th>0</th>\n",
       "      <td>18.0</td>\n",
       "      <td>5</td>\n",
       "      <td>2</td>\n",
       "      <td>5</td>\n",
       "      <td>4</td>\n",
       "      <td>0</td>\n",
       "      <td>14</td>\n",
       "      <td>11</td>\n",
       "      <td>2</td>\n",
       "      <td>10</td>\n",
       "      <td>5</td>\n",
       "    </tr>\n",
       "    <tr>\n",
       "      <th>1</th>\n",
       "      <td>18.0</td>\n",
       "      <td>5</td>\n",
       "      <td>1</td>\n",
       "      <td>5</td>\n",
       "      <td>4</td>\n",
       "      <td>0</td>\n",
       "      <td>14</td>\n",
       "      <td>11</td>\n",
       "      <td>2</td>\n",
       "      <td>9</td>\n",
       "      <td>22</td>\n",
       "    </tr>\n",
       "  </tbody>\n",
       "</table>\n",
       "</div>"
      ],
      "text/plain": [
       "  Product_ID  Source  Sales_Agent  Location  Delivery_Mode  Status  Day  \\\n",
       "0       18.0       5            2         5              4       0   14   \n",
       "1       18.0       5            1         5              4       0   14   \n",
       "\n",
       "   Month  Weekday  Hour  Minute  \n",
       "0     11        2    10       5  \n",
       "1     11        2     9      22  "
      ]
     },
     "execution_count": 116,
     "metadata": {},
     "output_type": "execute_result"
    }
   ],
   "source": [
    "data.head(2)"
   ]
  },
  {
   "cell_type": "markdown",
   "id": "ede3226c",
   "metadata": {},
   "source": [
    "# Feature scaling using MinMaxScaler:-"
   ]
  },
  {
   "cell_type": "code",
   "execution_count": 117,
   "id": "0c07068f",
   "metadata": {},
   "outputs": [],
   "source": [
    "from sklearn.preprocessing import MinMaxScaler\n",
    "scale=MinMaxScaler()\n",
    "data[['Source', 'Product_ID', 'Sales_Agent', 'Location', 'Delivery_Mode', 'Status', 'Day', 'Month', 'Weekday', 'Hour', 'Minute']]=scale.fit_transform(data[['Source', 'Product_ID', 'Sales_Agent', 'Location', 'Delivery_Mode', 'Status', 'Day','Month', 'Weekday', 'Hour', 'Minute']])"
   ]
  },
  {
   "cell_type": "code",
   "execution_count": 118,
   "id": "2aa38c5b",
   "metadata": {},
   "outputs": [
    {
     "data": {
      "text/html": [
       "<div>\n",
       "<style scoped>\n",
       "    .dataframe tbody tr th:only-of-type {\n",
       "        vertical-align: middle;\n",
       "    }\n",
       "\n",
       "    .dataframe tbody tr th {\n",
       "        vertical-align: top;\n",
       "    }\n",
       "\n",
       "    .dataframe thead th {\n",
       "        text-align: right;\n",
       "    }\n",
       "</style>\n",
       "<table border=\"1\" class=\"dataframe\">\n",
       "  <thead>\n",
       "    <tr style=\"text-align: right;\">\n",
       "      <th></th>\n",
       "      <th>Product_ID</th>\n",
       "      <th>Source</th>\n",
       "      <th>Sales_Agent</th>\n",
       "      <th>Location</th>\n",
       "      <th>Delivery_Mode</th>\n",
       "      <th>Status</th>\n",
       "      <th>Day</th>\n",
       "      <th>Month</th>\n",
       "      <th>Weekday</th>\n",
       "      <th>Hour</th>\n",
       "      <th>Minute</th>\n",
       "    </tr>\n",
       "  </thead>\n",
       "  <tbody>\n",
       "    <tr>\n",
       "      <th>0</th>\n",
       "      <td>0.642857</td>\n",
       "      <td>1.0</td>\n",
       "      <td>0.181818</td>\n",
       "      <td>0.714286</td>\n",
       "      <td>1.0</td>\n",
       "      <td>0.0</td>\n",
       "      <td>0.346154</td>\n",
       "      <td>0.909091</td>\n",
       "      <td>0.333333</td>\n",
       "      <td>0.434783</td>\n",
       "      <td>0.084746</td>\n",
       "    </tr>\n",
       "    <tr>\n",
       "      <th>1</th>\n",
       "      <td>0.642857</td>\n",
       "      <td>1.0</td>\n",
       "      <td>0.090909</td>\n",
       "      <td>0.714286</td>\n",
       "      <td>1.0</td>\n",
       "      <td>0.0</td>\n",
       "      <td>0.346154</td>\n",
       "      <td>0.909091</td>\n",
       "      <td>0.333333</td>\n",
       "      <td>0.391304</td>\n",
       "      <td>0.372881</td>\n",
       "    </tr>\n",
       "  </tbody>\n",
       "</table>\n",
       "</div>"
      ],
      "text/plain": [
       "   Product_ID  Source  Sales_Agent  Location  Delivery_Mode  Status       Day  \\\n",
       "0    0.642857     1.0     0.181818  0.714286            1.0     0.0  0.346154   \n",
       "1    0.642857     1.0     0.090909  0.714286            1.0     0.0  0.346154   \n",
       "\n",
       "      Month   Weekday      Hour    Minute  \n",
       "0  0.909091  0.333333  0.434783  0.084746  \n",
       "1  0.909091  0.333333  0.391304  0.372881  "
      ]
     },
     "execution_count": 118,
     "metadata": {},
     "output_type": "execute_result"
    }
   ],
   "source": [
    "data.head(2)"
   ]
  },
  {
   "cell_type": "code",
   "execution_count": 119,
   "id": "7e8bef86",
   "metadata": {},
   "outputs": [
    {
     "data": {
      "text/html": [
       "<div>\n",
       "<style scoped>\n",
       "    .dataframe tbody tr th:only-of-type {\n",
       "        vertical-align: middle;\n",
       "    }\n",
       "\n",
       "    .dataframe tbody tr th {\n",
       "        vertical-align: top;\n",
       "    }\n",
       "\n",
       "    .dataframe thead th {\n",
       "        text-align: right;\n",
       "    }\n",
       "</style>\n",
       "<table border=\"1\" class=\"dataframe\">\n",
       "  <thead>\n",
       "    <tr style=\"text-align: right;\">\n",
       "      <th></th>\n",
       "      <th>Product_ID</th>\n",
       "      <th>Source</th>\n",
       "      <th>Sales_Agent</th>\n",
       "      <th>Location</th>\n",
       "      <th>Delivery_Mode</th>\n",
       "      <th>Status</th>\n",
       "      <th>Day</th>\n",
       "      <th>Month</th>\n",
       "      <th>Weekday</th>\n",
       "      <th>Hour</th>\n",
       "      <th>Minute</th>\n",
       "    </tr>\n",
       "  </thead>\n",
       "  <tbody>\n",
       "    <tr>\n",
       "      <th>7420</th>\n",
       "      <td>0.750000</td>\n",
       "      <td>0.6</td>\n",
       "      <td>0.545455</td>\n",
       "      <td>0.714286</td>\n",
       "      <td>0.0</td>\n",
       "      <td>1.0</td>\n",
       "      <td>0.884615</td>\n",
       "      <td>0.272727</td>\n",
       "      <td>0.833333</td>\n",
       "      <td>0.347826</td>\n",
       "      <td>0.067797</td>\n",
       "    </tr>\n",
       "    <tr>\n",
       "      <th>7421</th>\n",
       "      <td>0.892857</td>\n",
       "      <td>1.0</td>\n",
       "      <td>0.454545</td>\n",
       "      <td>0.142857</td>\n",
       "      <td>0.0</td>\n",
       "      <td>0.0</td>\n",
       "      <td>0.884615</td>\n",
       "      <td>0.272727</td>\n",
       "      <td>0.833333</td>\n",
       "      <td>0.304348</td>\n",
       "      <td>0.915254</td>\n",
       "    </tr>\n",
       "  </tbody>\n",
       "</table>\n",
       "</div>"
      ],
      "text/plain": [
       "      Product_ID  Source  Sales_Agent  Location  Delivery_Mode  Status  \\\n",
       "7420    0.750000     0.6     0.545455  0.714286            0.0     1.0   \n",
       "7421    0.892857     1.0     0.454545  0.142857            0.0     0.0   \n",
       "\n",
       "           Day     Month   Weekday      Hour    Minute  \n",
       "7420  0.884615  0.272727  0.833333  0.347826  0.067797  \n",
       "7421  0.884615  0.272727  0.833333  0.304348  0.915254  "
      ]
     },
     "execution_count": 119,
     "metadata": {},
     "output_type": "execute_result"
    }
   ],
   "source": [
    "data.tail(2)"
   ]
  },
  {
   "cell_type": "code",
   "execution_count": 120,
   "id": "2df056af",
   "metadata": {},
   "outputs": [],
   "source": [
    "#resetting Index\n",
    "data=data.reindex(columns=['Product_ID','Source','Sales_Agent','Location','Delivery_Mode','Day','Month','Weekday','Hour','Minute','Status'])"
   ]
  },
  {
   "cell_type": "code",
   "execution_count": 121,
   "id": "2cdb5a29",
   "metadata": {},
   "outputs": [
    {
     "data": {
      "text/html": [
       "<div>\n",
       "<style scoped>\n",
       "    .dataframe tbody tr th:only-of-type {\n",
       "        vertical-align: middle;\n",
       "    }\n",
       "\n",
       "    .dataframe tbody tr th {\n",
       "        vertical-align: top;\n",
       "    }\n",
       "\n",
       "    .dataframe thead th {\n",
       "        text-align: right;\n",
       "    }\n",
       "</style>\n",
       "<table border=\"1\" class=\"dataframe\">\n",
       "  <thead>\n",
       "    <tr style=\"text-align: right;\">\n",
       "      <th></th>\n",
       "      <th>Product_ID</th>\n",
       "      <th>Source</th>\n",
       "      <th>Sales_Agent</th>\n",
       "      <th>Location</th>\n",
       "      <th>Delivery_Mode</th>\n",
       "      <th>Day</th>\n",
       "      <th>Month</th>\n",
       "      <th>Weekday</th>\n",
       "      <th>Hour</th>\n",
       "      <th>Minute</th>\n",
       "      <th>Status</th>\n",
       "    </tr>\n",
       "  </thead>\n",
       "  <tbody>\n",
       "    <tr>\n",
       "      <th>0</th>\n",
       "      <td>0.642857</td>\n",
       "      <td>1.0</td>\n",
       "      <td>0.181818</td>\n",
       "      <td>0.714286</td>\n",
       "      <td>1.0</td>\n",
       "      <td>0.346154</td>\n",
       "      <td>0.909091</td>\n",
       "      <td>0.333333</td>\n",
       "      <td>0.434783</td>\n",
       "      <td>0.084746</td>\n",
       "      <td>0.0</td>\n",
       "    </tr>\n",
       "    <tr>\n",
       "      <th>1</th>\n",
       "      <td>0.642857</td>\n",
       "      <td>1.0</td>\n",
       "      <td>0.090909</td>\n",
       "      <td>0.714286</td>\n",
       "      <td>1.0</td>\n",
       "      <td>0.346154</td>\n",
       "      <td>0.909091</td>\n",
       "      <td>0.333333</td>\n",
       "      <td>0.391304</td>\n",
       "      <td>0.372881</td>\n",
       "      <td>0.0</td>\n",
       "    </tr>\n",
       "  </tbody>\n",
       "</table>\n",
       "</div>"
      ],
      "text/plain": [
       "   Product_ID  Source  Sales_Agent  Location  Delivery_Mode       Day  \\\n",
       "0    0.642857     1.0     0.181818  0.714286            1.0  0.346154   \n",
       "1    0.642857     1.0     0.090909  0.714286            1.0  0.346154   \n",
       "\n",
       "      Month   Weekday      Hour    Minute  Status  \n",
       "0  0.909091  0.333333  0.434783  0.084746     0.0  \n",
       "1  0.909091  0.333333  0.391304  0.372881     0.0  "
      ]
     },
     "execution_count": 121,
     "metadata": {},
     "output_type": "execute_result"
    }
   ],
   "source": [
    "data.head(2)"
   ]
  },
  {
   "cell_type": "markdown",
   "id": "9c7a1ede",
   "metadata": {},
   "source": [
    "# Splitting the dataset"
   ]
  },
  {
   "cell_type": "code",
   "execution_count": 122,
   "id": "ab482081",
   "metadata": {},
   "outputs": [],
   "source": [
    "#drfining X and y \n",
    "X=data.iloc[0:,:-1]   # except the last feature all are take\n",
    "y=data.Status"
   ]
  },
  {
   "cell_type": "code",
   "execution_count": 123,
   "id": "34e0934c",
   "metadata": {},
   "outputs": [
    {
     "data": {
      "text/html": [
       "<style>#sk-container-id-1 {color: black;background-color: white;}#sk-container-id-1 pre{padding: 0;}#sk-container-id-1 div.sk-toggleable {background-color: white;}#sk-container-id-1 label.sk-toggleable__label {cursor: pointer;display: block;width: 100%;margin-bottom: 0;padding: 0.3em;box-sizing: border-box;text-align: center;}#sk-container-id-1 label.sk-toggleable__label-arrow:before {content: \"▸\";float: left;margin-right: 0.25em;color: #696969;}#sk-container-id-1 label.sk-toggleable__label-arrow:hover:before {color: black;}#sk-container-id-1 div.sk-estimator:hover label.sk-toggleable__label-arrow:before {color: black;}#sk-container-id-1 div.sk-toggleable__content {max-height: 0;max-width: 0;overflow: hidden;text-align: left;background-color: #f0f8ff;}#sk-container-id-1 div.sk-toggleable__content pre {margin: 0.2em;color: black;border-radius: 0.25em;background-color: #f0f8ff;}#sk-container-id-1 input.sk-toggleable__control:checked~div.sk-toggleable__content {max-height: 200px;max-width: 100%;overflow: auto;}#sk-container-id-1 input.sk-toggleable__control:checked~label.sk-toggleable__label-arrow:before {content: \"▾\";}#sk-container-id-1 div.sk-estimator input.sk-toggleable__control:checked~label.sk-toggleable__label {background-color: #d4ebff;}#sk-container-id-1 div.sk-label input.sk-toggleable__control:checked~label.sk-toggleable__label {background-color: #d4ebff;}#sk-container-id-1 input.sk-hidden--visually {border: 0;clip: rect(1px 1px 1px 1px);clip: rect(1px, 1px, 1px, 1px);height: 1px;margin: -1px;overflow: hidden;padding: 0;position: absolute;width: 1px;}#sk-container-id-1 div.sk-estimator {font-family: monospace;background-color: #f0f8ff;border: 1px dotted black;border-radius: 0.25em;box-sizing: border-box;margin-bottom: 0.5em;}#sk-container-id-1 div.sk-estimator:hover {background-color: #d4ebff;}#sk-container-id-1 div.sk-parallel-item::after {content: \"\";width: 100%;border-bottom: 1px solid gray;flex-grow: 1;}#sk-container-id-1 div.sk-label:hover label.sk-toggleable__label {background-color: #d4ebff;}#sk-container-id-1 div.sk-serial::before {content: \"\";position: absolute;border-left: 1px solid gray;box-sizing: border-box;top: 0;bottom: 0;left: 50%;z-index: 0;}#sk-container-id-1 div.sk-serial {display: flex;flex-direction: column;align-items: center;background-color: white;padding-right: 0.2em;padding-left: 0.2em;position: relative;}#sk-container-id-1 div.sk-item {position: relative;z-index: 1;}#sk-container-id-1 div.sk-parallel {display: flex;align-items: stretch;justify-content: center;background-color: white;position: relative;}#sk-container-id-1 div.sk-item::before, #sk-container-id-1 div.sk-parallel-item::before {content: \"\";position: absolute;border-left: 1px solid gray;box-sizing: border-box;top: 0;bottom: 0;left: 50%;z-index: -1;}#sk-container-id-1 div.sk-parallel-item {display: flex;flex-direction: column;z-index: 1;position: relative;background-color: white;}#sk-container-id-1 div.sk-parallel-item:first-child::after {align-self: flex-end;width: 50%;}#sk-container-id-1 div.sk-parallel-item:last-child::after {align-self: flex-start;width: 50%;}#sk-container-id-1 div.sk-parallel-item:only-child::after {width: 0;}#sk-container-id-1 div.sk-dashed-wrapped {border: 1px dashed gray;margin: 0 0.4em 0.5em 0.4em;box-sizing: border-box;padding-bottom: 0.4em;background-color: white;}#sk-container-id-1 div.sk-label label {font-family: monospace;font-weight: bold;display: inline-block;line-height: 1.2em;}#sk-container-id-1 div.sk-label-container {text-align: center;}#sk-container-id-1 div.sk-container {/* jupyter's `normalize.less` sets `[hidden] { display: none; }` but bootstrap.min.css set `[hidden] { display: none !important; }` so we also need the `!important` here to be able to override the default hidden behavior on the sphinx rendered scikit-learn.org. See: https://github.com/scikit-learn/scikit-learn/issues/21755 */display: inline-block !important;position: relative;}#sk-container-id-1 div.sk-text-repr-fallback {display: none;}</style><div id=\"sk-container-id-1\" class=\"sk-top-container\"><div class=\"sk-text-repr-fallback\"><pre>ExtraTreesClassifier()</pre><b>In a Jupyter environment, please rerun this cell to show the HTML representation or trust the notebook. <br />On GitHub, the HTML representation is unable to render, please try loading this page with nbviewer.org.</b></div><div class=\"sk-container\" hidden><div class=\"sk-item\"><div class=\"sk-estimator sk-toggleable\"><input class=\"sk-toggleable__control sk-hidden--visually\" id=\"sk-estimator-id-1\" type=\"checkbox\" checked><label for=\"sk-estimator-id-1\" class=\"sk-toggleable__label sk-toggleable__label-arrow\">ExtraTreesClassifier</label><div class=\"sk-toggleable__content\"><pre>ExtraTreesClassifier()</pre></div></div></div></div></div>"
      ],
      "text/plain": [
       "ExtraTreesClassifier()"
      ]
     },
     "execution_count": 123,
     "metadata": {},
     "output_type": "execute_result"
    }
   ],
   "source": [
    "#Finding out the best feature which will contribute and have good relation with target variable.\n",
    "from sklearn.ensemble import ExtraTreesClassifier\n",
    "selection = ExtraTreesClassifier()\n",
    "selection.fit(X, y)"
   ]
  },
  {
   "cell_type": "code",
   "execution_count": 124,
   "id": "5fdb04e4",
   "metadata": {},
   "outputs": [
    {
     "data": {
      "image/png": "[encoded data removed]",
      "text/plain": [
       "<Figure size 576x288 with 1 Axes>"
      ]
     },
     "metadata": {
      "needs_background": "light"
     },
     "output_type": "display_data"
    }
   ],
   "source": [
    "#plot graph of important features for better visualization\n",
    "plt.figure(figsize = (8,4))\n",
    "feat_importances = pd.Series(selection.feature_importances_, index=X.columns)\n",
    "feat_importances.nlargest(20).plot(kind='barh')\n",
    "plt.show()"
   ]
  },
  {
   "cell_type": "markdown",
   "id": "1b236eeb",
   "metadata": {},
   "source": [
    "**Observations-**\n",
    "- The important features can be visualized.\n",
    "- It is observed that almost all the features are important."
   ]
  },
  {
   "cell_type": "markdown",
   "id": "2c4b08e4",
   "metadata": {},
   "source": [
    "# Model Creation"
   ]
  },
  {
   "cell_type": "code",
   "execution_count": 125,
   "id": "7f59586b",
   "metadata": {},
   "outputs": [
    {
     "data": {
      "text/html": [
       "<div>\n",
       "<style scoped>\n",
       "    .dataframe tbody tr th:only-of-type {\n",
       "        vertical-align: middle;\n",
       "    }\n",
       "\n",
       "    .dataframe tbody tr th {\n",
       "        vertical-align: top;\n",
       "    }\n",
       "\n",
       "    .dataframe thead th {\n",
       "        text-align: right;\n",
       "    }\n",
       "</style>\n",
       "<table border=\"1\" class=\"dataframe\">\n",
       "  <thead>\n",
       "    <tr style=\"text-align: right;\">\n",
       "      <th></th>\n",
       "      <th>Product_ID</th>\n",
       "      <th>Source</th>\n",
       "      <th>Sales_Agent</th>\n",
       "      <th>Location</th>\n",
       "      <th>Delivery_Mode</th>\n",
       "      <th>Day</th>\n",
       "      <th>Month</th>\n",
       "      <th>Weekday</th>\n",
       "      <th>Hour</th>\n",
       "      <th>Minute</th>\n",
       "    </tr>\n",
       "  </thead>\n",
       "  <tbody>\n",
       "    <tr>\n",
       "      <th>0</th>\n",
       "      <td>0.642857</td>\n",
       "      <td>1.0</td>\n",
       "      <td>0.181818</td>\n",
       "      <td>0.714286</td>\n",
       "      <td>1.00</td>\n",
       "      <td>0.346154</td>\n",
       "      <td>0.909091</td>\n",
       "      <td>0.333333</td>\n",
       "      <td>0.434783</td>\n",
       "      <td>0.084746</td>\n",
       "    </tr>\n",
       "    <tr>\n",
       "      <th>1</th>\n",
       "      <td>0.642857</td>\n",
       "      <td>1.0</td>\n",
       "      <td>0.090909</td>\n",
       "      <td>0.714286</td>\n",
       "      <td>1.00</td>\n",
       "      <td>0.346154</td>\n",
       "      <td>0.909091</td>\n",
       "      <td>0.333333</td>\n",
       "      <td>0.391304</td>\n",
       "      <td>0.372881</td>\n",
       "    </tr>\n",
       "    <tr>\n",
       "      <th>2</th>\n",
       "      <td>0.642857</td>\n",
       "      <td>1.0</td>\n",
       "      <td>0.090909</td>\n",
       "      <td>0.714286</td>\n",
       "      <td>1.00</td>\n",
       "      <td>0.346154</td>\n",
       "      <td>0.909091</td>\n",
       "      <td>0.333333</td>\n",
       "      <td>0.391304</td>\n",
       "      <td>0.355932</td>\n",
       "    </tr>\n",
       "    <tr>\n",
       "      <th>3</th>\n",
       "      <td>0.642857</td>\n",
       "      <td>1.0</td>\n",
       "      <td>0.090909</td>\n",
       "      <td>0.714286</td>\n",
       "      <td>1.00</td>\n",
       "      <td>0.346154</td>\n",
       "      <td>0.909091</td>\n",
       "      <td>0.333333</td>\n",
       "      <td>0.347826</td>\n",
       "      <td>0.779661</td>\n",
       "    </tr>\n",
       "    <tr>\n",
       "      <th>4</th>\n",
       "      <td>0.642857</td>\n",
       "      <td>1.0</td>\n",
       "      <td>0.090909</td>\n",
       "      <td>0.714286</td>\n",
       "      <td>1.00</td>\n",
       "      <td>0.346154</td>\n",
       "      <td>0.909091</td>\n",
       "      <td>0.333333</td>\n",
       "      <td>0.304348</td>\n",
       "      <td>0.576271</td>\n",
       "    </tr>\n",
       "    <tr>\n",
       "      <th>...</th>\n",
       "      <td>...</td>\n",
       "      <td>...</td>\n",
       "      <td>...</td>\n",
       "      <td>...</td>\n",
       "      <td>...</td>\n",
       "      <td>...</td>\n",
       "      <td>...</td>\n",
       "      <td>...</td>\n",
       "      <td>...</td>\n",
       "      <td>...</td>\n",
       "    </tr>\n",
       "    <tr>\n",
       "      <th>7417</th>\n",
       "      <td>0.321429</td>\n",
       "      <td>0.0</td>\n",
       "      <td>0.727273</td>\n",
       "      <td>0.571429</td>\n",
       "      <td>0.75</td>\n",
       "      <td>0.884615</td>\n",
       "      <td>0.272727</td>\n",
       "      <td>0.833333</td>\n",
       "      <td>0.391304</td>\n",
       "      <td>0.762712</td>\n",
       "    </tr>\n",
       "    <tr>\n",
       "      <th>7418</th>\n",
       "      <td>0.535714</td>\n",
       "      <td>0.0</td>\n",
       "      <td>0.272727</td>\n",
       "      <td>0.714286</td>\n",
       "      <td>1.00</td>\n",
       "      <td>0.884615</td>\n",
       "      <td>0.272727</td>\n",
       "      <td>0.833333</td>\n",
       "      <td>0.391304</td>\n",
       "      <td>0.728814</td>\n",
       "    </tr>\n",
       "    <tr>\n",
       "      <th>7419</th>\n",
       "      <td>0.178571</td>\n",
       "      <td>0.8</td>\n",
       "      <td>0.181818</td>\n",
       "      <td>0.000000</td>\n",
       "      <td>0.00</td>\n",
       "      <td>0.884615</td>\n",
       "      <td>0.272727</td>\n",
       "      <td>0.833333</td>\n",
       "      <td>0.391304</td>\n",
       "      <td>0.338983</td>\n",
       "    </tr>\n",
       "    <tr>\n",
       "      <th>7420</th>\n",
       "      <td>0.750000</td>\n",
       "      <td>0.6</td>\n",
       "      <td>0.545455</td>\n",
       "      <td>0.714286</td>\n",
       "      <td>0.00</td>\n",
       "      <td>0.884615</td>\n",
       "      <td>0.272727</td>\n",
       "      <td>0.833333</td>\n",
       "      <td>0.347826</td>\n",
       "      <td>0.067797</td>\n",
       "    </tr>\n",
       "    <tr>\n",
       "      <th>7421</th>\n",
       "      <td>0.892857</td>\n",
       "      <td>1.0</td>\n",
       "      <td>0.454545</td>\n",
       "      <td>0.142857</td>\n",
       "      <td>0.00</td>\n",
       "      <td>0.884615</td>\n",
       "      <td>0.272727</td>\n",
       "      <td>0.833333</td>\n",
       "      <td>0.304348</td>\n",
       "      <td>0.915254</td>\n",
       "    </tr>\n",
       "  </tbody>\n",
       "</table>\n",
       "<p>7366 rows × 10 columns</p>\n",
       "</div>"
      ],
      "text/plain": [
       "      Product_ID  Source  Sales_Agent  Location  Delivery_Mode       Day  \\\n",
       "0       0.642857     1.0     0.181818  0.714286           1.00  0.346154   \n",
       "1       0.642857     1.0     0.090909  0.714286           1.00  0.346154   \n",
       "2       0.642857     1.0     0.090909  0.714286           1.00  0.346154   \n",
       "3       0.642857     1.0     0.090909  0.714286           1.00  0.346154   \n",
       "4       0.642857     1.0     0.090909  0.714286           1.00  0.346154   \n",
       "...          ...     ...          ...       ...            ...       ...   \n",
       "7417    0.321429     0.0     0.727273  0.571429           0.75  0.884615   \n",
       "7418    0.535714     0.0     0.272727  0.714286           1.00  0.884615   \n",
       "7419    0.178571     0.8     0.181818  0.000000           0.00  0.884615   \n",
       "7420    0.750000     0.6     0.545455  0.714286           0.00  0.884615   \n",
       "7421    0.892857     1.0     0.454545  0.142857           0.00  0.884615   \n",
       "\n",
       "         Month   Weekday      Hour    Minute  \n",
       "0     0.909091  0.333333  0.434783  0.084746  \n",
       "1     0.909091  0.333333  0.391304  0.372881  \n",
       "2     0.909091  0.333333  0.391304  0.355932  \n",
       "3     0.909091  0.333333  0.347826  0.779661  \n",
       "4     0.909091  0.333333  0.304348  0.576271  \n",
       "...        ...       ...       ...       ...  \n",
       "7417  0.272727  0.833333  0.391304  0.762712  \n",
       "7418  0.272727  0.833333  0.391304  0.728814  \n",
       "7419  0.272727  0.833333  0.391304  0.338983  \n",
       "7420  0.272727  0.833333  0.347826  0.067797  \n",
       "7421  0.272727  0.833333  0.304348  0.915254  \n",
       "\n",
       "[7366 rows x 10 columns]"
      ]
     },
     "execution_count": 125,
     "metadata": {},
     "output_type": "execute_result"
    }
   ],
   "source": [
    "X"
   ]
  },
  {
   "cell_type": "code",
   "execution_count": 126,
   "id": "a8cedd31",
   "metadata": {},
   "outputs": [
    {
     "data": {
      "text/plain": [
       "0       0.0\n",
       "1       0.0\n",
       "2       0.0\n",
       "3       0.0\n",
       "4       0.0\n",
       "       ... \n",
       "7417    1.0\n",
       "7418    1.0\n",
       "7419    1.0\n",
       "7420    1.0\n",
       "7421    0.0\n",
       "Name: Status, Length: 7366, dtype: float64"
      ]
     },
     "execution_count": 126,
     "metadata": {},
     "output_type": "execute_result"
    }
   ],
   "source": [
    "y"
   ]
  },
  {
   "cell_type": "markdown",
   "id": "46e74911",
   "metadata": {},
   "source": [
    "## Splitting the dataset into train_test_split:-"
   ]
  },
  {
   "cell_type": "code",
   "execution_count": 127,
   "id": "03c3ceb8",
   "metadata": {},
   "outputs": [],
   "source": [
    "from sklearn.model_selection import train_test_split\n",
    "X_train,X_test,y_train,y_test=train_test_split(X, y,random_state=42,test_size=0.25)"
   ]
  },
  {
   "cell_type": "markdown",
   "id": "1d5c9005",
   "metadata": {},
   "source": [
    "## Balancing the dataset"
   ]
  },
  {
   "cell_type": "code",
   "execution_count": 128,
   "id": "26af1ea9",
   "metadata": {},
   "outputs": [
    {
     "data": {
      "text/plain": [
       "<AxesSubplot:title={'center':'Class distribution before appying SMOTE'}, xlabel='Outcome'>"
      ]
     },
     "execution_count": 128,
     "metadata": {},
     "output_type": "execute_result"
    },
    {
     "data": {
      "image/png": "[encoded data removed]",
      "text/plain": [
       "<Figure size 432x288 with 1 Axes>"
      ]
     },
     "metadata": {
      "needs_background": "light"
     },
     "output_type": "display_data"
    }
   ],
   "source": [
    "#Checking distribution before applying smote\n",
    "pd.Series(y_train).value_counts().plot(kind='bar',color='purple',title='Class distribution before appying SMOTE', xlabel='Outcome')\n"
   ]
  },
  {
   "cell_type": "code",
   "execution_count": 129,
   "id": "4b561124",
   "metadata": {},
   "outputs": [
    {
     "name": "stdout",
     "output_type": "stream",
     "text": [
      "Requirement already satisfied: imblearn in d:\\anaconda3\\lib\\site-packages (0.0)\n",
      "Requirement already satisfied: imbalanced-learn in d:\\anaconda3\\lib\\site-packages (from imblearn) (0.9.1)\n",
      "Requirement already satisfied: scipy>=1.3.2 in d:\\anaconda3\\lib\\site-packages (from imbalanced-learn->imblearn) (1.7.3)\n",
      "Requirement already satisfied: scikit-learn>=1.1.0 in d:\\anaconda3\\lib\\site-packages (from imbalanced-learn->imblearn) (1.1.3)\n",
      "Requirement already satisfied: numpy>=1.17.3 in d:\\anaconda3\\lib\\site-packages (from imbalanced-learn->imblearn) (1.21.5)\n",
      "Requirement already satisfied: threadpoolctl>=2.0.0 in d:\\anaconda3\\lib\\site-packages (from imbalanced-learn->imblearn) (2.2.0)\n",
      "Requirement already satisfied: joblib>=1.0.0 in d:\\anaconda3\\lib\\site-packages (from imbalanced-learn->imblearn) (1.1.0)\n",
      "Note: you may need to restart the kernel to use updated packages.\n"
     ]
    }
   ],
   "source": [
    "pip install imblearn"
   ]
  },
  {
   "cell_type": "code",
   "execution_count": 130,
   "id": "918d9aa3",
   "metadata": {},
   "outputs": [],
   "source": [
    "from imblearn.over_sampling import SMOTE\n",
    "smote = SMOTE()"
   ]
  },
  {
   "cell_type": "code",
   "execution_count": 131,
   "id": "371b1647",
   "metadata": {},
   "outputs": [],
   "source": [
    "X_smote, y_smote = smote.fit_resample(X_train,y_train)"
   ]
  },
  {
   "cell_type": "code",
   "execution_count": 132,
   "id": "537a2e8b",
   "metadata": {},
   "outputs": [
    {
     "data": {
      "text/plain": [
       "<AxesSubplot:title={'center':'Class distribution after appying SMOTE'}, xlabel='Outcome'>"
      ]
     },
     "execution_count": 132,
     "metadata": {},
     "output_type": "execute_result"
    },
    {
     "data": {
      "image/png": "[encoded data removed]",
      "text/plain": [
       "<Figure size 432x288 with 1 Axes>"
      ]
     },
     "metadata": {
      "needs_background": "light"
     },
     "output_type": "display_data"
    }
   ],
   "source": [
    "pd.Series(y_smote).value_counts().plot(kind='bar',color='purple',title='Class distribution after appying SMOTE', xlabel='Outcome')\n"
   ]
  },
  {
   "cell_type": "markdown",
   "id": "7fd711ec",
   "metadata": {},
   "source": [
    "# Model Creation"
   ]
  },
  {
   "cell_type": "markdown",
   "id": "241a0f91",
   "metadata": {},
   "source": [
    "## Logistic Regression"
   ]
  },
  {
   "cell_type": "code",
   "execution_count": 133,
   "id": "547db7e2",
   "metadata": {},
   "outputs": [],
   "source": [
    "from sklearn.linear_model import LogisticRegression\n",
    "clf=LogisticRegression()"
   ]
  },
  {
   "cell_type": "code",
   "execution_count": 134,
   "id": "b8cfdb26",
   "metadata": {},
   "outputs": [
    {
     "data": {
      "text/html": [
       "<style>#sk-container-id-2 {color: black;background-color: white;}#sk-container-id-2 pre{padding: 0;}#sk-container-id-2 div.sk-toggleable {background-color: white;}#sk-container-id-2 label.sk-toggleable__label {cursor: pointer;display: block;width: 100%;margin-bottom: 0;padding: 0.3em;box-sizing: border-box;text-align: center;}#sk-container-id-2 label.sk-toggleable__label-arrow:before {content: \"▸\";float: left;margin-right: 0.25em;color: #696969;}#sk-container-id-2 label.sk-toggleable__label-arrow:hover:before {color: black;}#sk-container-id-2 div.sk-estimator:hover label.sk-toggleable__label-arrow:before {color: black;}#sk-container-id-2 div.sk-toggleable__content {max-height: 0;max-width: 0;overflow: hidden;text-align: left;background-color: #f0f8ff;}#sk-container-id-2 div.sk-toggleable__content pre {margin: 0.2em;color: black;border-radius: 0.25em;background-color: #f0f8ff;}#sk-container-id-2 input.sk-toggleable__control:checked~div.sk-toggleable__content {max-height: 200px;max-width: 100%;overflow: auto;}#sk-container-id-2 input.sk-toggleable__control:checked~label.sk-toggleable__label-arrow:before {content: \"▾\";}#sk-container-id-2 div.sk-estimator input.sk-toggleable__control:checked~label.sk-toggleable__label {background-color: #d4ebff;}#sk-container-id-2 div.sk-label input.sk-toggleable__control:checked~label.sk-toggleable__label {background-color: #d4ebff;}#sk-container-id-2 input.sk-hidden--visually {border: 0;clip: rect(1px 1px 1px 1px);clip: rect(1px, 1px, 1px, 1px);height: 1px;margin: -1px;overflow: hidden;padding: 0;position: absolute;width: 1px;}#sk-container-id-2 div.sk-estimator {font-family: monospace;background-color: #f0f8ff;border: 1px dotted black;border-radius: 0.25em;box-sizing: border-box;margin-bottom: 0.5em;}#sk-container-id-2 div.sk-estimator:hover {background-color: #d4ebff;}#sk-container-id-2 div.sk-parallel-item::after {content: \"\";width: 100%;border-bottom: 1px solid gray;flex-grow: 1;}#sk-container-id-2 div.sk-label:hover label.sk-toggleable__label {background-color: #d4ebff;}#sk-container-id-2 div.sk-serial::before {content: \"\";position: absolute;border-left: 1px solid gray;box-sizing: border-box;top: 0;bottom: 0;left: 50%;z-index: 0;}#sk-container-id-2 div.sk-serial {display: flex;flex-direction: column;align-items: center;background-color: white;padding-right: 0.2em;padding-left: 0.2em;position: relative;}#sk-container-id-2 div.sk-item {position: relative;z-index: 1;}#sk-container-id-2 div.sk-parallel {display: flex;align-items: stretch;justify-content: center;background-color: white;position: relative;}#sk-container-id-2 div.sk-item::before, #sk-container-id-2 div.sk-parallel-item::before {content: \"\";position: absolute;border-left: 1px solid gray;box-sizing: border-box;top: 0;bottom: 0;left: 50%;z-index: -1;}#sk-container-id-2 div.sk-parallel-item {display: flex;flex-direction: column;z-index: 1;position: relative;background-color: white;}#sk-container-id-2 div.sk-parallel-item:first-child::after {align-self: flex-end;width: 50%;}#sk-container-id-2 div.sk-parallel-item:last-child::after {align-self: flex-start;width: 50%;}#sk-container-id-2 div.sk-parallel-item:only-child::after {width: 0;}#sk-container-id-2 div.sk-dashed-wrapped {border: 1px dashed gray;margin: 0 0.4em 0.5em 0.4em;box-sizing: border-box;padding-bottom: 0.4em;background-color: white;}#sk-container-id-2 div.sk-label label {font-family: monospace;font-weight: bold;display: inline-block;line-height: 1.2em;}#sk-container-id-2 div.sk-label-container {text-align: center;}#sk-container-id-2 div.sk-container {/* jupyter's `normalize.less` sets `[hidden] { display: none; }` but bootstrap.min.css set `[hidden] { display: none !important; }` so we also need the `!important` here to be able to override the default hidden behavior on the sphinx rendered scikit-learn.org. See: https://github.com/scikit-learn/scikit-learn/issues/21755 */display: inline-block !important;position: relative;}#sk-container-id-2 div.sk-text-repr-fallback {display: none;}</style><div id=\"sk-container-id-2\" class=\"sk-top-container\"><div class=\"sk-text-repr-fallback\"><pre>LogisticRegression()</pre><b>In a Jupyter environment, please rerun this cell to show the HTML representation or trust the notebook. <br />On GitHub, the HTML representation is unable to render, please try loading this page with nbviewer.org.</b></div><div class=\"sk-container\" hidden><div class=\"sk-item\"><div class=\"sk-estimator sk-toggleable\"><input class=\"sk-toggleable__control sk-hidden--visually\" id=\"sk-estimator-id-2\" type=\"checkbox\" checked><label for=\"sk-estimator-id-2\" class=\"sk-toggleable__label sk-toggleable__label-arrow\">LogisticRegression</label><div class=\"sk-toggleable__content\"><pre>LogisticRegression()</pre></div></div></div></div></div>"
      ],
      "text/plain": [
       "LogisticRegression()"
      ]
     },
     "execution_count": 134,
     "metadata": {},
     "output_type": "execute_result"
    }
   ],
   "source": [
    "clf.fit(X_smote,y_smote) "
   ]
  },
  {
   "cell_type": "code",
   "execution_count": 135,
   "id": "9d95a137",
   "metadata": {},
   "outputs": [],
   "source": [
    "y_pred = clf.predict(X_test) #test\n",
    "y_pred_train = clf.predict(X_smote) #training"
   ]
  },
  {
   "cell_type": "code",
   "execution_count": 136,
   "id": "15b810b2",
   "metadata": {},
   "outputs": [
    {
     "name": "stdout",
     "output_type": "stream",
     "text": [
      "0.688953488372093\n",
      "0.6578092707410688\n"
     ]
    }
   ],
   "source": [
    "print(f1_score(y_test,y_pred)) #testing\n",
    "print(f1_score(y_smote,y_pred_train)) #training"
   ]
  },
  {
   "cell_type": "code",
   "execution_count": 137,
   "id": "0224aaea",
   "metadata": {},
   "outputs": [
    {
     "name": "stdout",
     "output_type": "stream",
     "text": [
      "0.6514657980456026\n",
      "0.6533054142985343\n"
     ]
    }
   ],
   "source": [
    "print(accuracy_score(y_test,y_pred)) #testing\n",
    "print(accuracy_score(y_smote,y_pred_train)) #training"
   ]
  },
  {
   "cell_type": "code",
   "execution_count": 138,
   "id": "db9d6d21",
   "metadata": {},
   "outputs": [
    {
     "name": "stdout",
     "output_type": "stream",
     "text": [
      "0.7360248447204969\n",
      "0.6493733605362868\n"
     ]
    }
   ],
   "source": [
    "print(precision_score(y_test,y_pred)) #testing\n",
    "print(precision_score(y_smote,y_pred_train)) #training"
   ]
  },
  {
   "cell_type": "code",
   "execution_count": 139,
   "id": "21581c55",
   "metadata": {},
   "outputs": [
    {
     "name": "stdout",
     "output_type": "stream",
     "text": [
      "0.6475409836065574\n",
      "0.6664672449895304\n"
     ]
    }
   ],
   "source": [
    "print(recall_score(y_test,y_pred)) #testing\n",
    "print(recall_score(y_smote,y_pred_train)) #training"
   ]
  },
  {
   "cell_type": "code",
   "execution_count": 140,
   "id": "afb3c176",
   "metadata": {},
   "outputs": [],
   "source": [
    "#Creating objects of Preetytable\n",
    "x=PrettyTable()\n",
    "y=PrettyTable()"
   ]
  },
  {
   "cell_type": "code",
   "execution_count": 141,
   "id": "6e4ea33e",
   "metadata": {},
   "outputs": [],
   "source": [
    "x.field_names = [\"Model(Test)\", \"f1_score\",\"accuracy\",\"precision\",\"recall\"]\n",
    "x.add_row([\"Logistic Regression\", \"0.69\",'0.65','0.73','0.64'])\n"
   ]
  },
  {
   "cell_type": "code",
   "execution_count": 142,
   "id": "72092e92",
   "metadata": {},
   "outputs": [],
   "source": [
    "y.field_names = [\"Model(Train)\", \"f1_score\",\"accuracy\",\"precision\",\"recall\"]\n",
    "y.add_row([\"Logistic Regression\", \"0.65\",'0.65','0.65','0.66'])"
   ]
  },
  {
   "cell_type": "code",
   "execution_count": 143,
   "id": "5684007a",
   "metadata": {},
   "outputs": [
    {
     "name": "stdout",
     "output_type": "stream",
     "text": [
      "+---------------------+----------+----------+-----------+--------+\n",
      "|     Model(Test)     | f1_score | accuracy | precision | recall |\n",
      "+---------------------+----------+----------+-----------+--------+\n",
      "| Logistic Regression |   0.69   |   0.65   |    0.73   |  0.64  |\n",
      "+---------------------+----------+----------+-----------+--------+\n",
      "+---------------------+----------+----------+-----------+--------+\n",
      "|     Model(Train)    | f1_score | accuracy | precision | recall |\n",
      "+---------------------+----------+----------+-----------+--------+\n",
      "| Logistic Regression |   0.65   |   0.65   |    0.65   |  0.66  |\n",
      "+---------------------+----------+----------+-----------+--------+\n"
     ]
    }
   ],
   "source": [
    "print(x)\n",
    "print(y)"
   ]
  },
  {
   "cell_type": "markdown",
   "id": "d70f4623",
   "metadata": {},
   "source": [
    "**Observations-**\n",
    "- The f1-score for test data is 0.69 and for train data is 0.65.\n",
    "- The accuracy score for test data is 0.65 and for train data is 0.65.\n",
    "- The precision score  for test data is 0.73 and for train data is 0.65.\n",
    "- The recall score for test data is 0.64 and for train data is 0.66\n",
    "- The model has low bias and low variance so it can be considered as a generalised model."
   ]
  },
  {
   "cell_type": "markdown",
   "id": "ecf29bca",
   "metadata": {},
   "source": [
    "# Support Vector Machine - Classifier"
   ]
  },
  {
   "cell_type": "code",
   "execution_count": 144,
   "id": "5fe9a8bd",
   "metadata": {},
   "outputs": [],
   "source": [
    "from sklearn.svm import SVC\n",
    "svclassifier = SVC()"
   ]
  },
  {
   "cell_type": "code",
   "execution_count": 145,
   "id": "bf723a8c",
   "metadata": {},
   "outputs": [
    {
     "data": {
      "text/html": [
       "<style>#sk-container-id-3 {color: black;background-color: white;}#sk-container-id-3 pre{padding: 0;}#sk-container-id-3 div.sk-toggleable {background-color: white;}#sk-container-id-3 label.sk-toggleable__label {cursor: pointer;display: block;width: 100%;margin-bottom: 0;padding: 0.3em;box-sizing: border-box;text-align: center;}#sk-container-id-3 label.sk-toggleable__label-arrow:before {content: \"▸\";float: left;margin-right: 0.25em;color: #696969;}#sk-container-id-3 label.sk-toggleable__label-arrow:hover:before {color: black;}#sk-container-id-3 div.sk-estimator:hover label.sk-toggleable__label-arrow:before {color: black;}#sk-container-id-3 div.sk-toggleable__content {max-height: 0;max-width: 0;overflow: hidden;text-align: left;background-color: #f0f8ff;}#sk-container-id-3 div.sk-toggleable__content pre {margin: 0.2em;color: black;border-radius: 0.25em;background-color: #f0f8ff;}#sk-container-id-3 input.sk-toggleable__control:checked~div.sk-toggleable__content {max-height: 200px;max-width: 100%;overflow: auto;}#sk-container-id-3 input.sk-toggleable__control:checked~label.sk-toggleable__label-arrow:before {content: \"▾\";}#sk-container-id-3 div.sk-estimator input.sk-toggleable__control:checked~label.sk-toggleable__label {background-color: #d4ebff;}#sk-container-id-3 div.sk-label input.sk-toggleable__control:checked~label.sk-toggleable__label {background-color: #d4ebff;}#sk-container-id-3 input.sk-hidden--visually {border: 0;clip: rect(1px 1px 1px 1px);clip: rect(1px, 1px, 1px, 1px);height: 1px;margin: -1px;overflow: hidden;padding: 0;position: absolute;width: 1px;}#sk-container-id-3 div.sk-estimator {font-family: monospace;background-color: #f0f8ff;border: 1px dotted black;border-radius: 0.25em;box-sizing: border-box;margin-bottom: 0.5em;}#sk-container-id-3 div.sk-estimator:hover {background-color: #d4ebff;}#sk-container-id-3 div.sk-parallel-item::after {content: \"\";width: 100%;border-bottom: 1px solid gray;flex-grow: 1;}#sk-container-id-3 div.sk-label:hover label.sk-toggleable__label {background-color: #d4ebff;}#sk-container-id-3 div.sk-serial::before {content: \"\";position: absolute;border-left: 1px solid gray;box-sizing: border-box;top: 0;bottom: 0;left: 50%;z-index: 0;}#sk-container-id-3 div.sk-serial {display: flex;flex-direction: column;align-items: center;background-color: white;padding-right: 0.2em;padding-left: 0.2em;position: relative;}#sk-container-id-3 div.sk-item {position: relative;z-index: 1;}#sk-container-id-3 div.sk-parallel {display: flex;align-items: stretch;justify-content: center;background-color: white;position: relative;}#sk-container-id-3 div.sk-item::before, #sk-container-id-3 div.sk-parallel-item::before {content: \"\";position: absolute;border-left: 1px solid gray;box-sizing: border-box;top: 0;bottom: 0;left: 50%;z-index: -1;}#sk-container-id-3 div.sk-parallel-item {display: flex;flex-direction: column;z-index: 1;position: relative;background-color: white;}#sk-container-id-3 div.sk-parallel-item:first-child::after {align-self: flex-end;width: 50%;}#sk-container-id-3 div.sk-parallel-item:last-child::after {align-self: flex-start;width: 50%;}#sk-container-id-3 div.sk-parallel-item:only-child::after {width: 0;}#sk-container-id-3 div.sk-dashed-wrapped {border: 1px dashed gray;margin: 0 0.4em 0.5em 0.4em;box-sizing: border-box;padding-bottom: 0.4em;background-color: white;}#sk-container-id-3 div.sk-label label {font-family: monospace;font-weight: bold;display: inline-block;line-height: 1.2em;}#sk-container-id-3 div.sk-label-container {text-align: center;}#sk-container-id-3 div.sk-container {/* jupyter's `normalize.less` sets `[hidden] { display: none; }` but bootstrap.min.css set `[hidden] { display: none !important; }` so we also need the `!important` here to be able to override the default hidden behavior on the sphinx rendered scikit-learn.org. See: https://github.com/scikit-learn/scikit-learn/issues/21755 */display: inline-block !important;position: relative;}#sk-container-id-3 div.sk-text-repr-fallback {display: none;}</style><div id=\"sk-container-id-3\" class=\"sk-top-container\"><div class=\"sk-text-repr-fallback\"><pre>SVC()</pre><b>In a Jupyter environment, please rerun this cell to show the HTML representation or trust the notebook. <br />On GitHub, the HTML representation is unable to render, please try loading this page with nbviewer.org.</b></div><div class=\"sk-container\" hidden><div class=\"sk-item\"><div class=\"sk-estimator sk-toggleable\"><input class=\"sk-toggleable__control sk-hidden--visually\" id=\"sk-estimator-id-3\" type=\"checkbox\" checked><label for=\"sk-estimator-id-3\" class=\"sk-toggleable__label sk-toggleable__label-arrow\">SVC</label><div class=\"sk-toggleable__content\"><pre>SVC()</pre></div></div></div></div></div>"
      ],
      "text/plain": [
       "SVC()"
      ]
     },
     "execution_count": 145,
     "metadata": {},
     "output_type": "execute_result"
    }
   ],
   "source": [
    "svclassifier.fit(X_smote, y_smote) # Training the model"
   ]
  },
  {
   "cell_type": "code",
   "execution_count": 146,
   "id": "06b8445e",
   "metadata": {},
   "outputs": [],
   "source": [
    "X_pred1 = svclassifier.predict(X_test) #Prediction for test data\n",
    "X_pred_train1= svclassifier.predict(X_smote) #prediction for training data"
   ]
  },
  {
   "cell_type": "code",
   "execution_count": 147,
   "id": "8f56acab",
   "metadata": {},
   "outputs": [
    {
     "name": "stdout",
     "output_type": "stream",
     "text": [
      "0.6717325227963525\n",
      "0.7012195121951219\n"
     ]
    }
   ],
   "source": [
    "print(f1_score(y_test,X_pred1))\n",
    "print(f1_score(y_smote,X_pred_train1))"
   ]
  },
  {
   "cell_type": "code",
   "execution_count": 148,
   "id": "56ee244e",
   "metadata": {},
   "outputs": [
    {
     "name": "stdout",
     "output_type": "stream",
     "text": [
      "0.6482084690553745\n",
      "0.7215076278791505\n"
     ]
    }
   ],
   "source": [
    "print(accuracy_score(y_test,X_pred1))\n",
    "print(accuracy_score(y_smote,X_pred_train1))"
   ]
  },
  {
   "cell_type": "code",
   "execution_count": 149,
   "id": "691ce3b2",
   "metadata": {},
   "outputs": [
    {
     "name": "stdout",
     "output_type": "stream",
     "text": [
      "0.7568493150684932\n",
      "0.7563170647282796\n"
     ]
    }
   ],
   "source": [
    "print(precision_score(y_test,X_pred1))\n",
    "print(precision_score(y_smote,X_pred_train1))"
   ]
  },
  {
   "cell_type": "code",
   "execution_count": 150,
   "id": "39ae6be2",
   "metadata": {},
   "outputs": [
    {
     "name": "stdout",
     "output_type": "stream",
     "text": [
      "0.6038251366120219\n",
      "0.6536045468142387\n"
     ]
    }
   ],
   "source": [
    "print(recall_score(y_test,X_pred1))\n",
    "print(recall_score(y_smote,X_pred_train1))"
   ]
  },
  {
   "cell_type": "code",
   "execution_count": 242,
   "id": "05b499e7",
   "metadata": {},
   "outputs": [],
   "source": [
    "#Creating objects of Preetytable\n",
    "x=PrettyTable()\n",
    "y=PrettyTable()"
   ]
  },
  {
   "cell_type": "code",
   "execution_count": 243,
   "id": "c8ad5752",
   "metadata": {},
   "outputs": [],
   "source": [
    "x.field_names = [\"Model(Test)\", \"f1_score\",\"accuracy\",\"precision\",\"recall\"]\n",
    "x.add_row([\"# Support Vector Machine\", \"0.67\",'0.64','0.75','0.60'])"
   ]
  },
  {
   "cell_type": "code",
   "execution_count": 244,
   "id": "4e4447b6",
   "metadata": {},
   "outputs": [],
   "source": [
    "y.field_names = [\"Model(Train)\", \"f1_score\",\"accuracy\",\"precision\",\"recall\"]\n",
    "y.add_row([\"# Support Vector Machine\", \"0.70\",'0.72','0.75','0.65'])"
   ]
  },
  {
   "cell_type": "code",
   "execution_count": 245,
   "id": "5b5a483c",
   "metadata": {},
   "outputs": [
    {
     "name": "stdout",
     "output_type": "stream",
     "text": [
      "+--------------------------+----------+----------+-----------+--------+\n",
      "|       Model(Test)        | f1_score | accuracy | precision | recall |\n",
      "+--------------------------+----------+----------+-----------+--------+\n",
      "| # Support Vector Machine |   0.67   |   0.64   |    0.75   |  0.60  |\n",
      "+--------------------------+----------+----------+-----------+--------+\n",
      "+--------------------------+----------+----------+-----------+--------+\n",
      "|       Model(Train)       | f1_score | accuracy | precision | recall |\n",
      "+--------------------------+----------+----------+-----------+--------+\n",
      "| # Support Vector Machine |   0.70   |   0.72   |    0.75   |  0.65  |\n",
      "+--------------------------+----------+----------+-----------+--------+\n"
     ]
    }
   ],
   "source": [
    "print(x)\n",
    "print(y)"
   ]
  },
  {
   "cell_type": "markdown",
   "id": "2d610858",
   "metadata": {},
   "source": [
    "**Observations-**\n",
    "- The f1-score for test data is 0.67 and for train data is 0.70.\n",
    "- The accuracy score for test data is 0.64 and for train data is 0.72.\n",
    "- The precision score  for test data is 0.75 and for train data is 0.75.\n",
    "- The recall score for test data is 0.60 and for train data is 0.65\n",
    "- The model has low bias and low variance so it can be considered as a generalised model."
   ]
  },
  {
   "cell_type": "markdown",
   "id": "9292599b",
   "metadata": {},
   "source": [
    "**Hyperparameter tuning is done for better performance.**"
   ]
  },
  {
   "cell_type": "markdown",
   "id": "7e554a3d",
   "metadata": {},
   "source": [
    "# Hyperparameter tuning- Support Vector Machine( Classifier)"
   ]
  },
  {
   "cell_type": "code",
   "execution_count": 151,
   "id": "fab54a9f",
   "metadata": {},
   "outputs": [
    {
     "name": "stdout",
     "output_type": "stream",
     "text": [
      "[0.65779468 0.66068053 0.678606  ]\n",
      "Cross validation Score: 0.6656937360142531\n",
      "Std : 0.00920604854004545\n"
     ]
    }
   ],
   "source": [
    "from sklearn.model_selection import cross_val_score\n",
    "\n",
    "scores = cross_val_score(svclassifier,X_smote,y_smote,cv=3,scoring='f1') ## instead of svclassifier we can also give models like linear regression an dlogistic regression\n",
    "print(scores)\n",
    "print(\"Cross validation Score:\",scores.mean())\n",
    "print(\"Std :\",scores.std())\n"
   ]
  },
  {
   "cell_type": "code",
   "execution_count": 152,
   "id": "d44f1413",
   "metadata": {},
   "outputs": [
    {
     "name": "stdout",
     "output_type": "stream",
     "text": [
      "Fitting 5 folds for each of 25 candidates, totalling 125 fits\n",
      "[CV 1/5] END ....................C=0.1, gamma=1;, score=0.668 total time=   1.5s\n",
      "[CV 2/5] END ....................C=0.1, gamma=1;, score=0.641 total time=   1.5s\n",
      "[CV 3/5] END ....................C=0.1, gamma=1;, score=0.648 total time=   1.4s\n",
      "[CV 4/5] END ....................C=0.1, gamma=1;, score=0.673 total time=   1.5s\n",
      "[CV 5/5] END ....................C=0.1, gamma=1;, score=0.651 total time=   1.5s\n",
      "[CV 1/5] END ..................C=0.1, gamma=0.1;, score=0.672 total time=   1.5s\n",
      "[CV 2/5] END ..................C=0.1, gamma=0.1;, score=0.652 total time=   1.5s\n",
      "[CV 3/5] END ..................C=0.1, gamma=0.1;, score=0.644 total time=   1.5s\n",
      "[CV 4/5] END ..................C=0.1, gamma=0.1;, score=0.654 total time=   1.5s\n",
      "[CV 5/5] END ..................C=0.1, gamma=0.1;, score=0.641 total time=   1.5s\n",
      "[CV 1/5] END .................C=0.1, gamma=0.01;, score=0.646 total time=   1.8s\n",
      "[CV 2/5] END .................C=0.1, gamma=0.01;, score=0.638 total time=   1.8s\n",
      "[CV 3/5] END .................C=0.1, gamma=0.01;, score=0.616 total time=   1.8s\n",
      "[CV 4/5] END .................C=0.1, gamma=0.01;, score=0.645 total time=   1.8s\n",
      "[CV 5/5] END .................C=0.1, gamma=0.01;, score=0.636 total time=   1.8s\n",
      "[CV 1/5] END ................C=0.1, gamma=0.001;, score=0.633 total time=   1.8s\n",
      "[CV 2/5] END ................C=0.1, gamma=0.001;, score=0.666 total time=   1.8s\n",
      "[CV 3/5] END ................C=0.1, gamma=0.001;, score=0.666 total time=   1.8s\n",
      "[CV 4/5] END ................C=0.1, gamma=0.001;, score=0.000 total time=   1.8s\n",
      "[CV 5/5] END ................C=0.1, gamma=0.001;, score=0.000 total time=   1.9s\n",
      "[CV 1/5] END ...............C=0.1, gamma=0.0001;, score=0.633 total time=   1.8s\n",
      "[CV 2/5] END ...............C=0.1, gamma=0.0001;, score=0.666 total time=   1.8s\n",
      "[CV 3/5] END ...............C=0.1, gamma=0.0001;, score=0.666 total time=   1.8s\n",
      "[CV 4/5] END ...............C=0.1, gamma=0.0001;, score=0.000 total time=   1.8s\n",
      "[CV 5/5] END ...............C=0.1, gamma=0.0001;, score=0.000 total time=   1.8s\n",
      "[CV 1/5] END ......................C=1, gamma=1;, score=0.680 total time=   1.4s\n",
      "[CV 2/5] END ......................C=1, gamma=1;, score=0.640 total time=   1.3s\n",
      "[CV 3/5] END ......................C=1, gamma=1;, score=0.657 total time=   1.4s\n",
      "[CV 4/5] END ......................C=1, gamma=1;, score=0.708 total time=   1.4s\n",
      "[CV 5/5] END ......................C=1, gamma=1;, score=0.679 total time=   1.4s\n",
      "[CV 1/5] END ....................C=1, gamma=0.1;, score=0.669 total time=   1.4s\n",
      "[CV 2/5] END ....................C=1, gamma=0.1;, score=0.650 total time=   1.4s\n",
      "[CV 3/5] END ....................C=1, gamma=0.1;, score=0.642 total time=   1.4s\n",
      "[CV 4/5] END ....................C=1, gamma=0.1;, score=0.655 total time=   1.5s\n",
      "[CV 5/5] END ....................C=1, gamma=0.1;, score=0.632 total time=   1.4s\n",
      "[CV 1/5] END ...................C=1, gamma=0.01;, score=0.672 total time=   1.5s\n",
      "[CV 2/5] END ...................C=1, gamma=0.01;, score=0.655 total time=   1.6s\n",
      "[CV 3/5] END ...................C=1, gamma=0.01;, score=0.641 total time=   1.5s\n",
      "[CV 4/5] END ...................C=1, gamma=0.01;, score=0.648 total time=   1.5s\n",
      "[CV 5/5] END ...................C=1, gamma=0.01;, score=0.635 total time=   1.5s\n",
      "[CV 1/5] END ..................C=1, gamma=0.001;, score=0.646 total time=   1.8s\n",
      "[CV 2/5] END ..................C=1, gamma=0.001;, score=0.638 total time=   1.8s\n",
      "[CV 3/5] END ..................C=1, gamma=0.001;, score=0.616 total time=   1.8s\n",
      "[CV 4/5] END ..................C=1, gamma=0.001;, score=0.644 total time=   1.8s\n",
      "[CV 5/5] END ..................C=1, gamma=0.001;, score=0.636 total time=   1.8s\n",
      "[CV 1/5] END .................C=1, gamma=0.0001;, score=0.633 total time=   1.8s\n",
      "[CV 2/5] END .................C=1, gamma=0.0001;, score=0.666 total time=   1.8s\n",
      "[CV 3/5] END .................C=1, gamma=0.0001;, score=0.666 total time=   1.8s\n",
      "[CV 4/5] END .................C=1, gamma=0.0001;, score=0.000 total time=   1.8s\n",
      "[CV 5/5] END .................C=1, gamma=0.0001;, score=0.000 total time=   1.8s\n",
      "[CV 1/5] END .....................C=10, gamma=1;, score=0.688 total time=   1.5s\n",
      "[CV 2/5] END .....................C=10, gamma=1;, score=0.663 total time=   1.6s\n",
      "[CV 3/5] END .....................C=10, gamma=1;, score=0.681 total time=   1.5s\n",
      "[CV 4/5] END .....................C=10, gamma=1;, score=0.723 total time=   1.6s\n",
      "[CV 5/5] END .....................C=10, gamma=1;, score=0.711 total time=   1.7s\n",
      "[CV 1/5] END ...................C=10, gamma=0.1;, score=0.677 total time=   1.4s\n",
      "[CV 2/5] END ...................C=10, gamma=0.1;, score=0.648 total time=   1.4s\n",
      "[CV 3/5] END ...................C=10, gamma=0.1;, score=0.648 total time=   1.4s\n",
      "[CV 4/5] END ...................C=10, gamma=0.1;, score=0.670 total time=   1.5s\n",
      "[CV 5/5] END ...................C=10, gamma=0.1;, score=0.662 total time=   1.4s\n",
      "[CV 1/5] END ..................C=10, gamma=0.01;, score=0.665 total time=   1.5s\n",
      "[CV 2/5] END ..................C=10, gamma=0.01;, score=0.652 total time=   1.5s\n",
      "[CV 3/5] END ..................C=10, gamma=0.01;, score=0.635 total time=   1.5s\n",
      "[CV 4/5] END ..................C=10, gamma=0.01;, score=0.650 total time=   1.5s\n",
      "[CV 5/5] END ..................C=10, gamma=0.01;, score=0.634 total time=   1.5s\n",
      "[CV 1/5] END .................C=10, gamma=0.001;, score=0.674 total time=   1.5s\n",
      "[CV 2/5] END .................C=10, gamma=0.001;, score=0.655 total time=   1.5s\n",
      "[CV 3/5] END .................C=10, gamma=0.001;, score=0.641 total time=   1.5s\n",
      "[CV 4/5] END .................C=10, gamma=0.001;, score=0.648 total time=   1.5s\n",
      "[CV 5/5] END .................C=10, gamma=0.001;, score=0.633 total time=   1.5s\n",
      "[CV 1/5] END ................C=10, gamma=0.0001;, score=0.646 total time=   1.8s\n",
      "[CV 2/5] END ................C=10, gamma=0.0001;, score=0.638 total time=   1.8s\n",
      "[CV 3/5] END ................C=10, gamma=0.0001;, score=0.616 total time=   1.8s\n",
      "[CV 4/5] END ................C=10, gamma=0.0001;, score=0.644 total time=   1.8s\n",
      "[CV 5/5] END ................C=10, gamma=0.0001;, score=0.636 total time=   1.8s\n",
      "[CV 1/5] END ....................C=100, gamma=1;, score=0.682 total time=   3.2s\n",
      "[CV 2/5] END ....................C=100, gamma=1;, score=0.666 total time=   3.1s\n",
      "[CV 3/5] END ....................C=100, gamma=1;, score=0.690 total time=   3.1s\n",
      "[CV 4/5] END ....................C=100, gamma=1;, score=0.751 total time=   3.2s\n",
      "[CV 5/5] END ....................C=100, gamma=1;, score=0.743 total time=   3.6s\n",
      "[CV 1/5] END ..................C=100, gamma=0.1;, score=0.666 total time=   1.8s\n",
      "[CV 2/5] END ..................C=100, gamma=0.1;, score=0.633 total time=   1.8s\n",
      "[CV 3/5] END ..................C=100, gamma=0.1;, score=0.653 total time=   1.8s\n",
      "[CV 4/5] END ..................C=100, gamma=0.1;, score=0.701 total time=   1.8s\n",
      "[CV 5/5] END ..................C=100, gamma=0.1;, score=0.666 total time=   1.8s\n",
      "[CV 1/5] END .................C=100, gamma=0.01;, score=0.670 total time=   1.5s\n",
      "[CV 2/5] END .................C=100, gamma=0.01;, score=0.651 total time=   1.5s\n",
      "[CV 3/5] END .................C=100, gamma=0.01;, score=0.643 total time=   1.5s\n",
      "[CV 4/5] END .................C=100, gamma=0.01;, score=0.655 total time=   1.5s\n",
      "[CV 5/5] END .................C=100, gamma=0.01;, score=0.634 total time=   1.5s\n",
      "[CV 1/5] END ................C=100, gamma=0.001;, score=0.666 total time=   1.5s\n",
      "[CV 2/5] END ................C=100, gamma=0.001;, score=0.653 total time=   1.6s\n",
      "[CV 3/5] END ................C=100, gamma=0.001;, score=0.634 total time=   1.5s\n",
      "[CV 4/5] END ................C=100, gamma=0.001;, score=0.649 total time=   1.7s\n",
      "[CV 5/5] END ................C=100, gamma=0.001;, score=0.632 total time=   1.6s\n",
      "[CV 1/5] END ...............C=100, gamma=0.0001;, score=0.674 total time=   1.5s\n",
      "[CV 2/5] END ...............C=100, gamma=0.0001;, score=0.655 total time=   1.5s\n",
      "[CV 3/5] END ...............C=100, gamma=0.0001;, score=0.641 total time=   1.5s\n",
      "[CV 4/5] END ...............C=100, gamma=0.0001;, score=0.648 total time=   1.5s\n",
      "[CV 5/5] END ...............C=100, gamma=0.0001;, score=0.632 total time=   1.6s\n",
      "[CV 1/5] END ...................C=1000, gamma=1;, score=0.670 total time=  10.7s\n",
      "[CV 2/5] END ...................C=1000, gamma=1;, score=0.669 total time=  10.4s\n",
      "[CV 3/5] END ...................C=1000, gamma=1;, score=0.700 total time=  11.3s\n",
      "[CV 4/5] END ...................C=1000, gamma=1;, score=0.767 total time=  13.7s\n",
      "[CV 5/5] END ...................C=1000, gamma=1;, score=0.752 total time=  12.8s\n",
      "[CV 1/5] END .................C=1000, gamma=0.1;, score=0.689 total time=   3.9s\n",
      "[CV 2/5] END .................C=1000, gamma=0.1;, score=0.648 total time=   4.0s\n",
      "[CV 3/5] END .................C=1000, gamma=0.1;, score=0.656 total time=   4.0s\n",
      "[CV 4/5] END .................C=1000, gamma=0.1;, score=0.699 total time=   4.0s\n",
      "[CV 5/5] END .................C=1000, gamma=0.1;, score=0.673 total time=   3.9s\n",
      "[CV 1/5] END ................C=1000, gamma=0.01;, score=0.673 total time=   1.9s\n",
      "[CV 2/5] END ................C=1000, gamma=0.01;, score=0.648 total time=   1.9s\n",
      "[CV 3/5] END ................C=1000, gamma=0.01;, score=0.646 total time=   1.9s\n",
      "[CV 4/5] END ................C=1000, gamma=0.01;, score=0.670 total time=   1.9s\n",
      "[CV 5/5] END ................C=1000, gamma=0.01;, score=0.657 total time=   1.9s\n",
      "[CV 1/5] END ...............C=1000, gamma=0.001;, score=0.666 total time=   1.7s\n",
      "[CV 2/5] END ...............C=1000, gamma=0.001;, score=0.652 total time=   1.6s\n",
      "[CV 3/5] END ...............C=1000, gamma=0.001;, score=0.634 total time=   1.6s\n",
      "[CV 4/5] END ...............C=1000, gamma=0.001;, score=0.650 total time=   1.7s\n",
      "[CV 5/5] END ...............C=1000, gamma=0.001;, score=0.634 total time=   1.7s\n",
      "[CV 1/5] END ..............C=1000, gamma=0.0001;, score=0.666 total time=   1.6s\n",
      "[CV 2/5] END ..............C=1000, gamma=0.0001;, score=0.653 total time=   1.6s\n",
      "[CV 3/5] END ..............C=1000, gamma=0.0001;, score=0.634 total time=   1.6s\n",
      "[CV 4/5] END ..............C=1000, gamma=0.0001;, score=0.649 total time=   1.6s\n",
      "[CV 5/5] END ..............C=1000, gamma=0.0001;, score=0.631 total time=   1.7s\n"
     ]
    },
    {
     "data": {
      "text/html": [
       "<style>#sk-container-id-4 {color: black;background-color: white;}#sk-container-id-4 pre{padding: 0;}#sk-container-id-4 div.sk-toggleable {background-color: white;}#sk-container-id-4 label.sk-toggleable__label {cursor: pointer;display: block;width: 100%;margin-bottom: 0;padding: 0.3em;box-sizing: border-box;text-align: center;}#sk-container-id-4 label.sk-toggleable__label-arrow:before {content: \"▸\";float: left;margin-right: 0.25em;color: #696969;}#sk-container-id-4 label.sk-toggleable__label-arrow:hover:before {color: black;}#sk-container-id-4 div.sk-estimator:hover label.sk-toggleable__label-arrow:before {color: black;}#sk-container-id-4 div.sk-toggleable__content {max-height: 0;max-width: 0;overflow: hidden;text-align: left;background-color: #f0f8ff;}#sk-container-id-4 div.sk-toggleable__content pre {margin: 0.2em;color: black;border-radius: 0.25em;background-color: #f0f8ff;}#sk-container-id-4 input.sk-toggleable__control:checked~div.sk-toggleable__content {max-height: 200px;max-width: 100%;overflow: auto;}#sk-container-id-4 input.sk-toggleable__control:checked~label.sk-toggleable__label-arrow:before {content: \"▾\";}#sk-container-id-4 div.sk-estimator input.sk-toggleable__control:checked~label.sk-toggleable__label {background-color: #d4ebff;}#sk-container-id-4 div.sk-label input.sk-toggleable__control:checked~label.sk-toggleable__label {background-color: #d4ebff;}#sk-container-id-4 input.sk-hidden--visually {border: 0;clip: rect(1px 1px 1px 1px);clip: rect(1px, 1px, 1px, 1px);height: 1px;margin: -1px;overflow: hidden;padding: 0;position: absolute;width: 1px;}#sk-container-id-4 div.sk-estimator {font-family: monospace;background-color: #f0f8ff;border: 1px dotted black;border-radius: 0.25em;box-sizing: border-box;margin-bottom: 0.5em;}#sk-container-id-4 div.sk-estimator:hover {background-color: #d4ebff;}#sk-container-id-4 div.sk-parallel-item::after {content: \"\";width: 100%;border-bottom: 1px solid gray;flex-grow: 1;}#sk-container-id-4 div.sk-label:hover label.sk-toggleable__label {background-color: #d4ebff;}#sk-container-id-4 div.sk-serial::before {content: \"\";position: absolute;border-left: 1px solid gray;box-sizing: border-box;top: 0;bottom: 0;left: 50%;z-index: 0;}#sk-container-id-4 div.sk-serial {display: flex;flex-direction: column;align-items: center;background-color: white;padding-right: 0.2em;padding-left: 0.2em;position: relative;}#sk-container-id-4 div.sk-item {position: relative;z-index: 1;}#sk-container-id-4 div.sk-parallel {display: flex;align-items: stretch;justify-content: center;background-color: white;position: relative;}#sk-container-id-4 div.sk-item::before, #sk-container-id-4 div.sk-parallel-item::before {content: \"\";position: absolute;border-left: 1px solid gray;box-sizing: border-box;top: 0;bottom: 0;left: 50%;z-index: -1;}#sk-container-id-4 div.sk-parallel-item {display: flex;flex-direction: column;z-index: 1;position: relative;background-color: white;}#sk-container-id-4 div.sk-parallel-item:first-child::after {align-self: flex-end;width: 50%;}#sk-container-id-4 div.sk-parallel-item:last-child::after {align-self: flex-start;width: 50%;}#sk-container-id-4 div.sk-parallel-item:only-child::after {width: 0;}#sk-container-id-4 div.sk-dashed-wrapped {border: 1px dashed gray;margin: 0 0.4em 0.5em 0.4em;box-sizing: border-box;padding-bottom: 0.4em;background-color: white;}#sk-container-id-4 div.sk-label label {font-family: monospace;font-weight: bold;display: inline-block;line-height: 1.2em;}#sk-container-id-4 div.sk-label-container {text-align: center;}#sk-container-id-4 div.sk-container {/* jupyter's `normalize.less` sets `[hidden] { display: none; }` but bootstrap.min.css set `[hidden] { display: none !important; }` so we also need the `!important` here to be able to override the default hidden behavior on the sphinx rendered scikit-learn.org. See: https://github.com/scikit-learn/scikit-learn/issues/21755 */display: inline-block !important;position: relative;}#sk-container-id-4 div.sk-text-repr-fallback {display: none;}</style><div id=\"sk-container-id-4\" class=\"sk-top-container\"><div class=\"sk-text-repr-fallback\"><pre>GridSearchCV(cv=5, estimator=SVC(random_state=42),\n",
       "             param_grid={&#x27;C&#x27;: [0.1, 1, 10, 100, 1000],\n",
       "                         &#x27;gamma&#x27;: [1, 0.1, 0.01, 0.001, 0.0001]},\n",
       "             scoring=&#x27;f1&#x27;, verbose=3)</pre><b>In a Jupyter environment, please rerun this cell to show the HTML representation or trust the notebook. <br />On GitHub, the HTML representation is unable to render, please try loading this page with nbviewer.org.</b></div><div class=\"sk-container\" hidden><div class=\"sk-item sk-dashed-wrapped\"><div class=\"sk-label-container\"><div class=\"sk-label sk-toggleable\"><input class=\"sk-toggleable__control sk-hidden--visually\" id=\"sk-estimator-id-4\" type=\"checkbox\" ><label for=\"sk-estimator-id-4\" class=\"sk-toggleable__label sk-toggleable__label-arrow\">GridSearchCV</label><div class=\"sk-toggleable__content\"><pre>GridSearchCV(cv=5, estimator=SVC(random_state=42),\n",
       "             param_grid={&#x27;C&#x27;: [0.1, 1, 10, 100, 1000],\n",
       "                         &#x27;gamma&#x27;: [1, 0.1, 0.01, 0.001, 0.0001]},\n",
       "             scoring=&#x27;f1&#x27;, verbose=3)</pre></div></div></div><div class=\"sk-parallel\"><div class=\"sk-parallel-item\"><div class=\"sk-item\"><div class=\"sk-label-container\"><div class=\"sk-label sk-toggleable\"><input class=\"sk-toggleable__control sk-hidden--visually\" id=\"sk-estimator-id-5\" type=\"checkbox\" ><label for=\"sk-estimator-id-5\" class=\"sk-toggleable__label sk-toggleable__label-arrow\">estimator: SVC</label><div class=\"sk-toggleable__content\"><pre>SVC(random_state=42)</pre></div></div></div><div class=\"sk-serial\"><div class=\"sk-item\"><div class=\"sk-estimator sk-toggleable\"><input class=\"sk-toggleable__control sk-hidden--visually\" id=\"sk-estimator-id-6\" type=\"checkbox\" ><label for=\"sk-estimator-id-6\" class=\"sk-toggleable__label sk-toggleable__label-arrow\">SVC</label><div class=\"sk-toggleable__content\"><pre>SVC(random_state=42)</pre></div></div></div></div></div></div></div></div></div></div>"
      ],
      "text/plain": [
       "GridSearchCV(cv=5, estimator=SVC(random_state=42),\n",
       "             param_grid={'C': [0.1, 1, 10, 100, 1000],\n",
       "                         'gamma': [1, 0.1, 0.01, 0.001, 0.0001]},\n",
       "             scoring='f1', verbose=3)"
      ]
     },
     "execution_count": 152,
     "metadata": {},
     "output_type": "execute_result"
    }
   ],
   "source": [
    "from sklearn.model_selection import GridSearchCV\n",
    "  \n",
    "# defining parameter range\n",
    "param_grid = {'C': [0.1, 1, 10, 100, 1000], \n",
    "              'gamma': [1, 0.1, 0.01, 0.001, 0.0001]} \n",
    "\n",
    "grid = GridSearchCV(SVC(random_state=42), param_grid, verbose =3,scoring='f1',cv=5)\n",
    "  \n",
    "# fitting the model for grid search\n",
    "grid.fit(X_smote, y_smote)"
   ]
  },
  {
   "cell_type": "code",
   "execution_count": 153,
   "id": "0c16f713",
   "metadata": {},
   "outputs": [
    {
     "name": "stdout",
     "output_type": "stream",
     "text": [
      "{'C': 1000, 'gamma': 1}\n",
      "SVC(C=1000, gamma=1, random_state=42)\n"
     ]
    }
   ],
   "source": [
    "print(grid.best_params_)\n",
    "\n",
    "print(grid.best_estimator_)"
   ]
  },
  {
   "cell_type": "code",
   "execution_count": 154,
   "id": "ff1d51b2",
   "metadata": {},
   "outputs": [],
   "source": [
    "clf2=SVC(C=1000, gamma=1, random_state=42)"
   ]
  },
  {
   "cell_type": "code",
   "execution_count": 155,
   "id": "da4cdb33",
   "metadata": {},
   "outputs": [
    {
     "data": {
      "text/html": [
       "<style>#sk-container-id-5 {color: black;background-color: white;}#sk-container-id-5 pre{padding: 0;}#sk-container-id-5 div.sk-toggleable {background-color: white;}#sk-container-id-5 label.sk-toggleable__label {cursor: pointer;display: block;width: 100%;margin-bottom: 0;padding: 0.3em;box-sizing: border-box;text-align: center;}#sk-container-id-5 label.sk-toggleable__label-arrow:before {content: \"▸\";float: left;margin-right: 0.25em;color: #696969;}#sk-container-id-5 label.sk-toggleable__label-arrow:hover:before {color: black;}#sk-container-id-5 div.sk-estimator:hover label.sk-toggleable__label-arrow:before {color: black;}#sk-container-id-5 div.sk-toggleable__content {max-height: 0;max-width: 0;overflow: hidden;text-align: left;background-color: #f0f8ff;}#sk-container-id-5 div.sk-toggleable__content pre {margin: 0.2em;color: black;border-radius: 0.25em;background-color: #f0f8ff;}#sk-container-id-5 input.sk-toggleable__control:checked~div.sk-toggleable__content {max-height: 200px;max-width: 100%;overflow: auto;}#sk-container-id-5 input.sk-toggleable__control:checked~label.sk-toggleable__label-arrow:before {content: \"▾\";}#sk-container-id-5 div.sk-estimator input.sk-toggleable__control:checked~label.sk-toggleable__label {background-color: #d4ebff;}#sk-container-id-5 div.sk-label input.sk-toggleable__control:checked~label.sk-toggleable__label {background-color: #d4ebff;}#sk-container-id-5 input.sk-hidden--visually {border: 0;clip: rect(1px 1px 1px 1px);clip: rect(1px, 1px, 1px, 1px);height: 1px;margin: -1px;overflow: hidden;padding: 0;position: absolute;width: 1px;}#sk-container-id-5 div.sk-estimator {font-family: monospace;background-color: #f0f8ff;border: 1px dotted black;border-radius: 0.25em;box-sizing: border-box;margin-bottom: 0.5em;}#sk-container-id-5 div.sk-estimator:hover {background-color: #d4ebff;}#sk-container-id-5 div.sk-parallel-item::after {content: \"\";width: 100%;border-bottom: 1px solid gray;flex-grow: 1;}#sk-container-id-5 div.sk-label:hover label.sk-toggleable__label {background-color: #d4ebff;}#sk-container-id-5 div.sk-serial::before {content: \"\";position: absolute;border-left: 1px solid gray;box-sizing: border-box;top: 0;bottom: 0;left: 50%;z-index: 0;}#sk-container-id-5 div.sk-serial {display: flex;flex-direction: column;align-items: center;background-color: white;padding-right: 0.2em;padding-left: 0.2em;position: relative;}#sk-container-id-5 div.sk-item {position: relative;z-index: 1;}#sk-container-id-5 div.sk-parallel {display: flex;align-items: stretch;justify-content: center;background-color: white;position: relative;}#sk-container-id-5 div.sk-item::before, #sk-container-id-5 div.sk-parallel-item::before {content: \"\";position: absolute;border-left: 1px solid gray;box-sizing: border-box;top: 0;bottom: 0;left: 50%;z-index: -1;}#sk-container-id-5 div.sk-parallel-item {display: flex;flex-direction: column;z-index: 1;position: relative;background-color: white;}#sk-container-id-5 div.sk-parallel-item:first-child::after {align-self: flex-end;width: 50%;}#sk-container-id-5 div.sk-parallel-item:last-child::after {align-self: flex-start;width: 50%;}#sk-container-id-5 div.sk-parallel-item:only-child::after {width: 0;}#sk-container-id-5 div.sk-dashed-wrapped {border: 1px dashed gray;margin: 0 0.4em 0.5em 0.4em;box-sizing: border-box;padding-bottom: 0.4em;background-color: white;}#sk-container-id-5 div.sk-label label {font-family: monospace;font-weight: bold;display: inline-block;line-height: 1.2em;}#sk-container-id-5 div.sk-label-container {text-align: center;}#sk-container-id-5 div.sk-container {/* jupyter's `normalize.less` sets `[hidden] { display: none; }` but bootstrap.min.css set `[hidden] { display: none !important; }` so we also need the `!important` here to be able to override the default hidden behavior on the sphinx rendered scikit-learn.org. See: https://github.com/scikit-learn/scikit-learn/issues/21755 */display: inline-block !important;position: relative;}#sk-container-id-5 div.sk-text-repr-fallback {display: none;}</style><div id=\"sk-container-id-5\" class=\"sk-top-container\"><div class=\"sk-text-repr-fallback\"><pre>SVC(C=1000, gamma=1, random_state=42)</pre><b>In a Jupyter environment, please rerun this cell to show the HTML representation or trust the notebook. <br />On GitHub, the HTML representation is unable to render, please try loading this page with nbviewer.org.</b></div><div class=\"sk-container\" hidden><div class=\"sk-item\"><div class=\"sk-estimator sk-toggleable\"><input class=\"sk-toggleable__control sk-hidden--visually\" id=\"sk-estimator-id-7\" type=\"checkbox\" checked><label for=\"sk-estimator-id-7\" class=\"sk-toggleable__label sk-toggleable__label-arrow\">SVC</label><div class=\"sk-toggleable__content\"><pre>SVC(C=1000, gamma=1, random_state=42)</pre></div></div></div></div></div>"
      ],
      "text/plain": [
       "SVC(C=1000, gamma=1, random_state=42)"
      ]
     },
     "execution_count": 155,
     "metadata": {},
     "output_type": "execute_result"
    }
   ],
   "source": [
    "clf2.fit(X_smote, y_smote)"
   ]
  },
  {
   "cell_type": "code",
   "execution_count": 156,
   "id": "b9358cc7",
   "metadata": {},
   "outputs": [],
   "source": [
    "X_pred12 = clf2.predict(X_test)#testing\n",
    "X_pred_train12 =clf2.predict(X_smote)"
   ]
  },
  {
   "cell_type": "code",
   "execution_count": 157,
   "id": "f39ac81d",
   "metadata": {},
   "outputs": [
    {
     "name": "stdout",
     "output_type": "stream",
     "text": [
      "0.6768236380424745\n",
      "0.9653927174240144\n"
     ]
    }
   ],
   "source": [
    "print(f1_score(y_test,X_pred12))\n",
    "print(f1_score(y_smote,X_pred_train12))"
   ]
  },
  {
   "cell_type": "code",
   "execution_count": 158,
   "id": "f67b2d28",
   "metadata": {},
   "outputs": [
    {
     "name": "stdout",
     "output_type": "stream",
     "text": [
      "0.6199782844733985\n",
      "0.9655997606939875\n"
     ]
    }
   ],
   "source": [
    "print(accuracy_score(y_test,X_pred12))\n",
    "print(accuracy_score(y_smote,X_pred_train12))"
   ]
  },
  {
   "cell_type": "code",
   "execution_count": 159,
   "id": "faf2b408",
   "metadata": {},
   "outputs": [
    {
     "name": "stdout",
     "output_type": "stream",
     "text": [
      "0.6863295880149812\n",
      "0.971238268240993\n"
     ]
    }
   ],
   "source": [
    "print(precision_score(y_test,X_pred12))\n",
    "print(precision_score(y_smote,X_pred_train12))"
   ]
  },
  {
   "cell_type": "code",
   "execution_count": 160,
   "id": "d7041972",
   "metadata": {},
   "outputs": [
    {
     "name": "stdout",
     "output_type": "stream",
     "text": [
      "0.6675774134790529\n",
      "0.9596171103798983\n"
     ]
    }
   ],
   "source": [
    "print(recall_score(y_test,X_pred12))\n",
    "print(recall_score(y_smote,X_pred_train12))"
   ]
  },
  {
   "cell_type": "code",
   "execution_count": null,
   "id": "2ba6b345",
   "metadata": {},
   "outputs": [],
   "source": [
    "#Creating objects of Preetytable\n",
    "x=PrettyTable()\n",
    "y=PrettyTable()"
   ]
  },
  {
   "cell_type": "code",
   "execution_count": 246,
   "id": "8d3cd18e",
   "metadata": {},
   "outputs": [],
   "source": [
    "x.field_names = [\"Model(Test)\", \"f1_score\",\"accuracy\",\"precision\",\"recall\"]\n",
    "x.add_row([\"# Support Vector Machine\", \"0.67\",'0.61','0.68','0.66'])"
   ]
  },
  {
   "cell_type": "code",
   "execution_count": 247,
   "id": "8423dc1c",
   "metadata": {},
   "outputs": [],
   "source": [
    "y.field_names = [\"Model(Train)\", \"f1_score\",\"accuracy\",\"precision\",\"recall\"]\n",
    "y.add_row([\"# Support Vector Machine\", \"0.96\",'0.96','0.97','0.95'])"
   ]
  },
  {
   "cell_type": "code",
   "execution_count": 248,
   "id": "0b27d0b9",
   "metadata": {},
   "outputs": [
    {
     "name": "stdout",
     "output_type": "stream",
     "text": [
      "+--------------------------+----------+----------+-----------+--------+\n",
      "|       Model(Test)        | f1_score | accuracy | precision | recall |\n",
      "+--------------------------+----------+----------+-----------+--------+\n",
      "| # Support Vector Machine |   0.67   |   0.64   |    0.75   |  0.60  |\n",
      "| # Support Vector Machine |   0.67   |   0.61   |    0.68   |  0.66  |\n",
      "+--------------------------+----------+----------+-----------+--------+\n",
      "+--------------------------+----------+----------+-----------+--------+\n",
      "|       Model(Train)       | f1_score | accuracy | precision | recall |\n",
      "+--------------------------+----------+----------+-----------+--------+\n",
      "| # Support Vector Machine |   0.70   |   0.72   |    0.75   |  0.65  |\n",
      "| # Support Vector Machine |   0.96   |   0.96   |    0.97   |  0.95  |\n",
      "+--------------------------+----------+----------+-----------+--------+\n"
     ]
    }
   ],
   "source": [
    "print(x)\n",
    "print(y)"
   ]
  },
  {
   "cell_type": "markdown",
   "id": "c7d067cd",
   "metadata": {},
   "source": [
    "**Observations-**\n",
    "- The f1-score for test data is 0.67 and for train data is 0.70.\n",
    "- The accuracy score for test data is 0.61 and for train data is 0.96.\n",
    "- The precision score  for test data is 0.68 and for train data is 0.97.\n",
    "- The recall score for test data is 0.66 and for train data is 0.95.\n",
    "- The model has high bias and low variance so it can't be considered as a generalised model.\n",
    "\n",
    "- In this algorithm, we can see that the scores have significantly dropped after using hyperparameter tuning so we will not consider tuning scores."
   ]
  },
  {
   "cell_type": "markdown",
   "id": "d2221f3e",
   "metadata": {},
   "source": [
    "# K- Nearest Neighbour"
   ]
  },
  {
   "cell_type": "code",
   "execution_count": 161,
   "id": "f26167c6",
   "metadata": {},
   "outputs": [],
   "source": [
    "from sklearn.neighbors import KNeighborsClassifier"
   ]
  },
  {
   "cell_type": "code",
   "execution_count": 162,
   "id": "45986f09",
   "metadata": {},
   "outputs": [],
   "source": [
    "error_rate = []\n",
    "for i in range(1,11):\n",
    "    knn = KNeighborsClassifier(n_neighbors=i)\n",
    "    knn.fit(X_smote,y_smote)\n",
    "    pred_i = knn.predict(X_test)\n",
    "    error_rate.append(np.mean(pred_i != y_test)) "
   ]
  },
  {
   "cell_type": "code",
   "execution_count": 163,
   "id": "d882e57e",
   "metadata": {},
   "outputs": [
    {
     "data": {
      "text/plain": [
       "Text(0, 0.5, 'Error Rate')"
      ]
     },
     "execution_count": 163,
     "metadata": {},
     "output_type": "execute_result"
    },
    {
     "data": {
      "image/png": "[encoded data removed]",
      "text/plain": [
       "<Figure size 720x432 with 1 Axes>"
      ]
     },
     "metadata": {
      "needs_background": "light"
     },
     "output_type": "display_data"
    }
   ],
   "source": [
    "plt.figure(figsize=(10,6))\n",
    "plt.plot(range(1,11),error_rate,color='blue', linestyle='dashed', \n",
    "         marker='o',markerfacecolor='red', markersize=10)\n",
    "plt.title('Error Rate vs. K Value')\n",
    "plt.xlabel('K')\n",
    "plt.ylabel('Error Rate')"
   ]
  },
  {
   "cell_type": "code",
   "execution_count": 164,
   "id": "2102b22e",
   "metadata": {},
   "outputs": [
    {
     "data": {
      "text/html": [
       "<style>#sk-container-id-6 {color: black;background-color: white;}#sk-container-id-6 pre{padding: 0;}#sk-container-id-6 div.sk-toggleable {background-color: white;}#sk-container-id-6 label.sk-toggleable__label {cursor: pointer;display: block;width: 100%;margin-bottom: 0;padding: 0.3em;box-sizing: border-box;text-align: center;}#sk-container-id-6 label.sk-toggleable__label-arrow:before {content: \"▸\";float: left;margin-right: 0.25em;color: #696969;}#sk-container-id-6 label.sk-toggleable__label-arrow:hover:before {color: black;}#sk-container-id-6 div.sk-estimator:hover label.sk-toggleable__label-arrow:before {color: black;}#sk-container-id-6 div.sk-toggleable__content {max-height: 0;max-width: 0;overflow: hidden;text-align: left;background-color: #f0f8ff;}#sk-container-id-6 div.sk-toggleable__content pre {margin: 0.2em;color: black;border-radius: 0.25em;background-color: #f0f8ff;}#sk-container-id-6 input.sk-toggleable__control:checked~div.sk-toggleable__content {max-height: 200px;max-width: 100%;overflow: auto;}#sk-container-id-6 input.sk-toggleable__control:checked~label.sk-toggleable__label-arrow:before {content: \"▾\";}#sk-container-id-6 div.sk-estimator input.sk-toggleable__control:checked~label.sk-toggleable__label {background-color: #d4ebff;}#sk-container-id-6 div.sk-label input.sk-toggleable__control:checked~label.sk-toggleable__label {background-color: #d4ebff;}#sk-container-id-6 input.sk-hidden--visually {border: 0;clip: rect(1px 1px 1px 1px);clip: rect(1px, 1px, 1px, 1px);height: 1px;margin: -1px;overflow: hidden;padding: 0;position: absolute;width: 1px;}#sk-container-id-6 div.sk-estimator {font-family: monospace;background-color: #f0f8ff;border: 1px dotted black;border-radius: 0.25em;box-sizing: border-box;margin-bottom: 0.5em;}#sk-container-id-6 div.sk-estimator:hover {background-color: #d4ebff;}#sk-container-id-6 div.sk-parallel-item::after {content: \"\";width: 100%;border-bottom: 1px solid gray;flex-grow: 1;}#sk-container-id-6 div.sk-label:hover label.sk-toggleable__label {background-color: #d4ebff;}#sk-container-id-6 div.sk-serial::before {content: \"\";position: absolute;border-left: 1px solid gray;box-sizing: border-box;top: 0;bottom: 0;left: 50%;z-index: 0;}#sk-container-id-6 div.sk-serial {display: flex;flex-direction: column;align-items: center;background-color: white;padding-right: 0.2em;padding-left: 0.2em;position: relative;}#sk-container-id-6 div.sk-item {position: relative;z-index: 1;}#sk-container-id-6 div.sk-parallel {display: flex;align-items: stretch;justify-content: center;background-color: white;position: relative;}#sk-container-id-6 div.sk-item::before, #sk-container-id-6 div.sk-parallel-item::before {content: \"\";position: absolute;border-left: 1px solid gray;box-sizing: border-box;top: 0;bottom: 0;left: 50%;z-index: -1;}#sk-container-id-6 div.sk-parallel-item {display: flex;flex-direction: column;z-index: 1;position: relative;background-color: white;}#sk-container-id-6 div.sk-parallel-item:first-child::after {align-self: flex-end;width: 50%;}#sk-container-id-6 div.sk-parallel-item:last-child::after {align-self: flex-start;width: 50%;}#sk-container-id-6 div.sk-parallel-item:only-child::after {width: 0;}#sk-container-id-6 div.sk-dashed-wrapped {border: 1px dashed gray;margin: 0 0.4em 0.5em 0.4em;box-sizing: border-box;padding-bottom: 0.4em;background-color: white;}#sk-container-id-6 div.sk-label label {font-family: monospace;font-weight: bold;display: inline-block;line-height: 1.2em;}#sk-container-id-6 div.sk-label-container {text-align: center;}#sk-container-id-6 div.sk-container {/* jupyter's `normalize.less` sets `[hidden] { display: none; }` but bootstrap.min.css set `[hidden] { display: none !important; }` so we also need the `!important` here to be able to override the default hidden behavior on the sphinx rendered scikit-learn.org. See: https://github.com/scikit-learn/scikit-learn/issues/21755 */display: inline-block !important;position: relative;}#sk-container-id-6 div.sk-text-repr-fallback {display: none;}</style><div id=\"sk-container-id-6\" class=\"sk-top-container\"><div class=\"sk-text-repr-fallback\"><pre>KNeighborsClassifier(n_neighbors=9)</pre><b>In a Jupyter environment, please rerun this cell to show the HTML representation or trust the notebook. <br />On GitHub, the HTML representation is unable to render, please try loading this page with nbviewer.org.</b></div><div class=\"sk-container\" hidden><div class=\"sk-item\"><div class=\"sk-estimator sk-toggleable\"><input class=\"sk-toggleable__control sk-hidden--visually\" id=\"sk-estimator-id-8\" type=\"checkbox\" checked><label for=\"sk-estimator-id-8\" class=\"sk-toggleable__label sk-toggleable__label-arrow\">KNeighborsClassifier</label><div class=\"sk-toggleable__content\"><pre>KNeighborsClassifier(n_neighbors=9)</pre></div></div></div></div></div>"
      ],
      "text/plain": [
       "KNeighborsClassifier(n_neighbors=9)"
      ]
     },
     "execution_count": 164,
     "metadata": {},
     "output_type": "execute_result"
    }
   ],
   "source": [
    "knn = KNeighborsClassifier(n_neighbors=9)\n",
    "knn.fit(X_smote, y_smote) # Training the model"
   ]
  },
  {
   "cell_type": "code",
   "execution_count": 165,
   "id": "e047b838",
   "metadata": {},
   "outputs": [],
   "source": [
    "X_pred = knn.predict(X_test) #testing\n",
    "X_pred_train = knn.predict(X_smote) #training"
   ]
  },
  {
   "cell_type": "code",
   "execution_count": 166,
   "id": "14dd57f9",
   "metadata": {},
   "outputs": [
    {
     "name": "stdout",
     "output_type": "stream",
     "text": [
      "0.6738176499268649\n",
      "0.7461696414468489\n"
     ]
    }
   ],
   "source": [
    "print(f1_score(y_test,X_pred))\n",
    "print(f1_score(y_smote,X_pred_train))"
   ]
  },
  {
   "cell_type": "code",
   "execution_count": 167,
   "id": "e45b1d10",
   "metadata": {},
   "outputs": [
    {
     "name": "stdout",
     "output_type": "stream",
     "text": [
      "0.6368078175895765\n",
      "0.7596470236314687\n"
     ]
    }
   ],
   "source": [
    "print(accuracy_score(y_test,X_pred))\n",
    "print(accuracy_score(y_smote,X_pred_train))"
   ]
  },
  {
   "cell_type": "code",
   "execution_count": 168,
   "id": "9db2e6fd",
   "metadata": {},
   "outputs": [
    {
     "name": "stdout",
     "output_type": "stream",
     "text": [
      "0.6293260473588342\n",
      "0.7065510020939276\n"
     ]
    }
   ],
   "source": [
    "print(recall_score(y_test,X_pred))\n",
    "print(recall_score(y_smote,X_pred_train))"
   ]
  },
  {
   "cell_type": "code",
   "execution_count": 169,
   "id": "e0c86e01",
   "metadata": {},
   "outputs": [
    {
     "name": "stdout",
     "output_type": "stream",
     "text": [
      "0.7250786988457503\n",
      "0.7904953145917001\n"
     ]
    }
   ],
   "source": [
    "print(precision_score(y_test,X_pred))\n",
    "print(precision_score(y_smote,X_pred_train))"
   ]
  },
  {
   "cell_type": "code",
   "execution_count": 256,
   "id": "49b07678",
   "metadata": {},
   "outputs": [],
   "source": [
    "#Creating objects of Preetytable\n",
    "x=PrettyTable()\n",
    "y=PrettyTable()"
   ]
  },
  {
   "cell_type": "code",
   "execution_count": 257,
   "id": "e990000b",
   "metadata": {},
   "outputs": [],
   "source": [
    "x.field_names = [\"Model(Test)\", \"f1_score\",\"accuracy\",\"precision\",\"recall\"]\n",
    "x.add_row([\"# K Nearest Neighbor\", \"0.67\",'0.63','0.72','0.62'])"
   ]
  },
  {
   "cell_type": "code",
   "execution_count": 258,
   "id": "0603bb46",
   "metadata": {},
   "outputs": [],
   "source": [
    "y.field_names = [\"Model(Train)\", \"f1_score\",\"accuracy\",\"precision\",\"recall\"]\n",
    "y.add_row([\"# K Nearest Neighbor\", \"0.74\",'0.75','0.79','0.70'])"
   ]
  },
  {
   "cell_type": "code",
   "execution_count": 259,
   "id": "7b6ee6d3",
   "metadata": {},
   "outputs": [
    {
     "name": "stdout",
     "output_type": "stream",
     "text": [
      "+----------------------+----------+----------+-----------+--------+\n",
      "|     Model(Test)      | f1_score | accuracy | precision | recall |\n",
      "+----------------------+----------+----------+-----------+--------+\n",
      "| # K Nearest Neighbor |   0.67   |   0.63   |    0.72   |  0.62  |\n",
      "+----------------------+----------+----------+-----------+--------+\n",
      "+----------------------+----------+----------+-----------+--------+\n",
      "|     Model(Train)     | f1_score | accuracy | precision | recall |\n",
      "+----------------------+----------+----------+-----------+--------+\n",
      "| # K Nearest Neighbor |   0.74   |   0.75   |    0.79   |  0.70  |\n",
      "+----------------------+----------+----------+-----------+--------+\n"
     ]
    }
   ],
   "source": [
    "print(x)\n",
    "print(y)"
   ]
  },
  {
   "cell_type": "markdown",
   "id": "83f73bab",
   "metadata": {},
   "source": [
    "**Observations-**\n",
    "- The f1-score for test data is 0.67 and for train data is 0.74.\n",
    "- The accuracy score for test data is 0.63 and for train data is 0.75.\n",
    "- The precision score  for test data is 0.72 and for train data is 0.79.\n",
    "- The recall score for test data is 0.62 and for train data is 0.70.\n",
    "- The model has high bias and low variance so it can't be considered as a generalised model."
   ]
  },
  {
   "cell_type": "markdown",
   "id": "e1b7b57b",
   "metadata": {},
   "source": [
    "## Bagging( KNN)"
   ]
  },
  {
   "cell_type": "code",
   "execution_count": 170,
   "id": "ae768e75",
   "metadata": {},
   "outputs": [],
   "source": [
    "from sklearn.ensemble import BaggingClassifier\n",
    "\n",
    "model_bagg=BaggingClassifier(base_estimator=knn,n_estimators=10,n_jobs=-1,random_state=42)#n_estimator is number of times model repeated \n",
    "\n",
    "model_bagg.fit(X_train,y_train)\n",
    "\n",
    "y_hat_bagg=model_bagg.predict(X_test)\n",
    "y_hat_bagg_train=model_bagg.predict(X_train)"
   ]
  },
  {
   "cell_type": "code",
   "execution_count": 171,
   "id": "f09b487b",
   "metadata": {},
   "outputs": [
    {
     "name": "stdout",
     "output_type": "stream",
     "text": [
      "0.7264920566766853\n",
      "0.7958663646659117\n"
     ]
    }
   ],
   "source": [
    "print((f1_score(y_test,y_hat_bagg)))\n",
    "print((f1_score(y_train,y_hat_bagg_train)))"
   ]
  },
  {
   "cell_type": "code",
   "execution_count": 172,
   "id": "92f437df",
   "metadata": {},
   "outputs": [
    {
     "name": "stdout",
     "output_type": "stream",
     "text": [
      "0.6541802388707926\n",
      "0.7389572773352643\n"
     ]
    }
   ],
   "source": [
    "print(accuracy_score(y_test,y_hat_bagg))\n",
    "print(accuracy_score(y_train,y_hat_bagg_train))"
   ]
  },
  {
   "cell_type": "code",
   "execution_count": 173,
   "id": "d039c847",
   "metadata": {},
   "outputs": [
    {
     "name": "stdout",
     "output_type": "stream",
     "text": [
      "0.7704918032786885\n",
      "0.8408615016452289\n"
     ]
    }
   ],
   "source": [
    "print(recall_score(y_test,y_hat_bagg))\n",
    "print(recall_score(y_train,y_hat_bagg_train))"
   ]
  },
  {
   "cell_type": "code",
   "execution_count": 174,
   "id": "2599efa0",
   "metadata": {},
   "outputs": [
    {
     "name": "stdout",
     "output_type": "stream",
     "text": [
      "0.6872461413484972\n",
      "0.7554420854608976\n"
     ]
    }
   ],
   "source": [
    "print(precision_score(y_test,y_hat_bagg))\n",
    "print(precision_score(y_train,y_hat_bagg_train))"
   ]
  },
  {
   "cell_type": "code",
   "execution_count": 260,
   "id": "acf5c94c",
   "metadata": {},
   "outputs": [],
   "source": [
    "#Creating objects of Preetytable\n",
    "x=PrettyTable()\n",
    "y=PrettyTable()"
   ]
  },
  {
   "cell_type": "code",
   "execution_count": 261,
   "id": "bc48a6ca",
   "metadata": {},
   "outputs": [],
   "source": [
    "x.field_names = [\"Model(Test)\", \"f1_score\",\"accuracy\",\"precision\",\"recall\"]\n",
    "x.add_row([\"# Bagging\", \"0.72\",'0.65','0.68','0.77'])"
   ]
  },
  {
   "cell_type": "code",
   "execution_count": 262,
   "id": "2f839098",
   "metadata": {},
   "outputs": [],
   "source": [
    "y.field_names = [\"Model(Train)\", \"f1_score\",\"accuracy\",\"precision\",\"recall\"]\n",
    "y.add_row([\"# Bagging\", \"0.79\",'0.73','0.75','0.84'])"
   ]
  },
  {
   "cell_type": "code",
   "execution_count": 263,
   "id": "e07433cb",
   "metadata": {},
   "outputs": [
    {
     "name": "stdout",
     "output_type": "stream",
     "text": [
      "+-------------+----------+----------+-----------+--------+\n",
      "| Model(Test) | f1_score | accuracy | precision | recall |\n",
      "+-------------+----------+----------+-----------+--------+\n",
      "|  # Bagging  |   0.72   |   0.65   |    0.68   |  0.77  |\n",
      "+-------------+----------+----------+-----------+--------+\n",
      "+--------------+----------+----------+-----------+--------+\n",
      "| Model(Train) | f1_score | accuracy | precision | recall |\n",
      "+--------------+----------+----------+-----------+--------+\n",
      "|  # Bagging   |   0.79   |   0.73   |    0.75   |  0.84  |\n",
      "+--------------+----------+----------+-----------+--------+\n"
     ]
    }
   ],
   "source": [
    "print(x)\n",
    "print(y)"
   ]
  },
  {
   "cell_type": "markdown",
   "id": "f147ac1e",
   "metadata": {},
   "source": [
    "**Observations-**\n",
    "- The f1-score for test data is 0.72 and for train data is 0.79.\n",
    "- The accuracy score for test data is 0.65 and for train data is 0.73.\n",
    "- The precision score  for test data is 0.68 and for train data is 0.75.\n",
    "- The recall score for test data is 0.77 and for train data is 0.84\n",
    "- The model has low bias and low variance so it can be considered as a generalised model.\n",
    "- After performing bagging, the scores were improved."
   ]
  },
  {
   "cell_type": "markdown",
   "id": "f2fa2d3e",
   "metadata": {},
   "source": [
    "# Decision Tree:-"
   ]
  },
  {
   "cell_type": "code",
   "execution_count": 175,
   "id": "6f6512cf",
   "metadata": {},
   "outputs": [],
   "source": [
    "from sklearn.tree import DecisionTreeClassifier\n",
    "dtr=DecisionTreeClassifier(random_state=42)"
   ]
  },
  {
   "cell_type": "code",
   "execution_count": 176,
   "id": "e2d1e491",
   "metadata": {},
   "outputs": [
    {
     "data": {
      "text/html": [
       "<style>#sk-container-id-7 {color: black;background-color: white;}#sk-container-id-7 pre{padding: 0;}#sk-container-id-7 div.sk-toggleable {background-color: white;}#sk-container-id-7 label.sk-toggleable__label {cursor: pointer;display: block;width: 100%;margin-bottom: 0;padding: 0.3em;box-sizing: border-box;text-align: center;}#sk-container-id-7 label.sk-toggleable__label-arrow:before {content: \"▸\";float: left;margin-right: 0.25em;color: #696969;}#sk-container-id-7 label.sk-toggleable__label-arrow:hover:before {color: black;}#sk-container-id-7 div.sk-estimator:hover label.sk-toggleable__label-arrow:before {color: black;}#sk-container-id-7 div.sk-toggleable__content {max-height: 0;max-width: 0;overflow: hidden;text-align: left;background-color: #f0f8ff;}#sk-container-id-7 div.sk-toggleable__content pre {margin: 0.2em;color: black;border-radius: 0.25em;background-color: #f0f8ff;}#sk-container-id-7 input.sk-toggleable__control:checked~div.sk-toggleable__content {max-height: 200px;max-width: 100%;overflow: auto;}#sk-container-id-7 input.sk-toggleable__control:checked~label.sk-toggleable__label-arrow:before {content: \"▾\";}#sk-container-id-7 div.sk-estimator input.sk-toggleable__control:checked~label.sk-toggleable__label {background-color: #d4ebff;}#sk-container-id-7 div.sk-label input.sk-toggleable__control:checked~label.sk-toggleable__label {background-color: #d4ebff;}#sk-container-id-7 input.sk-hidden--visually {border: 0;clip: rect(1px 1px 1px 1px);clip: rect(1px, 1px, 1px, 1px);height: 1px;margin: -1px;overflow: hidden;padding: 0;position: absolute;width: 1px;}#sk-container-id-7 div.sk-estimator {font-family: monospace;background-color: #f0f8ff;border: 1px dotted black;border-radius: 0.25em;box-sizing: border-box;margin-bottom: 0.5em;}#sk-container-id-7 div.sk-estimator:hover {background-color: #d4ebff;}#sk-container-id-7 div.sk-parallel-item::after {content: \"\";width: 100%;border-bottom: 1px solid gray;flex-grow: 1;}#sk-container-id-7 div.sk-label:hover label.sk-toggleable__label {background-color: #d4ebff;}#sk-container-id-7 div.sk-serial::before {content: \"\";position: absolute;border-left: 1px solid gray;box-sizing: border-box;top: 0;bottom: 0;left: 50%;z-index: 0;}#sk-container-id-7 div.sk-serial {display: flex;flex-direction: column;align-items: center;background-color: white;padding-right: 0.2em;padding-left: 0.2em;position: relative;}#sk-container-id-7 div.sk-item {position: relative;z-index: 1;}#sk-container-id-7 div.sk-parallel {display: flex;align-items: stretch;justify-content: center;background-color: white;position: relative;}#sk-container-id-7 div.sk-item::before, #sk-container-id-7 div.sk-parallel-item::before {content: \"\";position: absolute;border-left: 1px solid gray;box-sizing: border-box;top: 0;bottom: 0;left: 50%;z-index: -1;}#sk-container-id-7 div.sk-parallel-item {display: flex;flex-direction: column;z-index: 1;position: relative;background-color: white;}#sk-container-id-7 div.sk-parallel-item:first-child::after {align-self: flex-end;width: 50%;}#sk-container-id-7 div.sk-parallel-item:last-child::after {align-self: flex-start;width: 50%;}#sk-container-id-7 div.sk-parallel-item:only-child::after {width: 0;}#sk-container-id-7 div.sk-dashed-wrapped {border: 1px dashed gray;margin: 0 0.4em 0.5em 0.4em;box-sizing: border-box;padding-bottom: 0.4em;background-color: white;}#sk-container-id-7 div.sk-label label {font-family: monospace;font-weight: bold;display: inline-block;line-height: 1.2em;}#sk-container-id-7 div.sk-label-container {text-align: center;}#sk-container-id-7 div.sk-container {/* jupyter's `normalize.less` sets `[hidden] { display: none; }` but bootstrap.min.css set `[hidden] { display: none !important; }` so we also need the `!important` here to be able to override the default hidden behavior on the sphinx rendered scikit-learn.org. See: https://github.com/scikit-learn/scikit-learn/issues/21755 */display: inline-block !important;position: relative;}#sk-container-id-7 div.sk-text-repr-fallback {display: none;}</style><div id=\"sk-container-id-7\" class=\"sk-top-container\"><div class=\"sk-text-repr-fallback\"><pre>DecisionTreeClassifier(random_state=42)</pre><b>In a Jupyter environment, please rerun this cell to show the HTML representation or trust the notebook. <br />On GitHub, the HTML representation is unable to render, please try loading this page with nbviewer.org.</b></div><div class=\"sk-container\" hidden><div class=\"sk-item\"><div class=\"sk-estimator sk-toggleable\"><input class=\"sk-toggleable__control sk-hidden--visually\" id=\"sk-estimator-id-9\" type=\"checkbox\" checked><label for=\"sk-estimator-id-9\" class=\"sk-toggleable__label sk-toggleable__label-arrow\">DecisionTreeClassifier</label><div class=\"sk-toggleable__content\"><pre>DecisionTreeClassifier(random_state=42)</pre></div></div></div></div></div>"
      ],
      "text/plain": [
       "DecisionTreeClassifier(random_state=42)"
      ]
     },
     "execution_count": 176,
     "metadata": {},
     "output_type": "execute_result"
    }
   ],
   "source": [
    "dtr.fit(X_smote,y_smote)"
   ]
  },
  {
   "cell_type": "code",
   "execution_count": 177,
   "id": "6603589f",
   "metadata": {},
   "outputs": [],
   "source": [
    "X_pred13 = dtr.predict(X_test)\n",
    "X_pred_train13 = dtr.predict(X_smote)"
   ]
  },
  {
   "cell_type": "code",
   "execution_count": 178,
   "id": "ecc31e0c",
   "metadata": {},
   "outputs": [
    {
     "name": "stdout",
     "output_type": "stream",
     "text": [
      "0.6923076923076923\n",
      "0.999850411368736\n"
     ]
    }
   ],
   "source": [
    "print(f1_score(y_test,X_pred13))\n",
    "print(f1_score(y_smote,X_pred_train13))"
   ]
  },
  {
   "cell_type": "code",
   "execution_count": 179,
   "id": "12d7a836",
   "metadata": {},
   "outputs": [
    {
     "name": "stdout",
     "output_type": "stream",
     "text": [
      "0.6308360477741585\n",
      "0.9998504337421478\n"
     ]
    }
   ],
   "source": [
    "print(accuracy_score(y_test,X_pred13))\n",
    "print(accuracy_score(y_smote,X_pred_train13))"
   ]
  },
  {
   "cell_type": "code",
   "execution_count": 180,
   "id": "5cc3ddbf",
   "metadata": {},
   "outputs": [
    {
     "name": "stdout",
     "output_type": "stream",
     "text": [
      "0.6879496402877698\n",
      "1.0\n"
     ]
    }
   ],
   "source": [
    "print(precision_score(y_test,X_pred13))\n",
    "print(precision_score(y_smote,X_pred_train13))"
   ]
  },
  {
   "cell_type": "code",
   "execution_count": 181,
   "id": "c25139f3",
   "metadata": {},
   "outputs": [
    {
     "name": "stdout",
     "output_type": "stream",
     "text": [
      "0.6967213114754098\n",
      "0.9997008674842955\n"
     ]
    }
   ],
   "source": [
    "print(recall_score(y_test,X_pred13))\n",
    "print(recall_score(y_smote,X_pred_train13))"
   ]
  },
  {
   "cell_type": "code",
   "execution_count": 264,
   "id": "29f0e811",
   "metadata": {},
   "outputs": [],
   "source": [
    "#Creating objects of Preetytable\n",
    "x=PrettyTable()\n",
    "y=PrettyTable()"
   ]
  },
  {
   "cell_type": "code",
   "execution_count": 265,
   "id": "08c3bcd6",
   "metadata": {},
   "outputs": [],
   "source": [
    "x.field_names = [\"Model(Test)\", \"f1_score\",\"accuracy\",\"precision\",\"recall\"]\n",
    "x.add_row([\"# Decision Tree\", \"0.69\",'0.63','0.68','0.69'])"
   ]
  },
  {
   "cell_type": "code",
   "execution_count": 266,
   "id": "9d14a76f",
   "metadata": {},
   "outputs": [],
   "source": [
    "y.field_names = [\"Model(Train)\", \"f1_score\",\"accuracy\",\"precision\",\"recall\"]\n",
    "y.add_row([\"# Decision Tree\", \"0.99\",'0.99','1.0','0.99'])"
   ]
  },
  {
   "cell_type": "code",
   "execution_count": 267,
   "id": "8f07165b",
   "metadata": {},
   "outputs": [
    {
     "name": "stdout",
     "output_type": "stream",
     "text": [
      "+-----------------+----------+----------+-----------+--------+\n",
      "|   Model(Test)   | f1_score | accuracy | precision | recall |\n",
      "+-----------------+----------+----------+-----------+--------+\n",
      "| # Decision Tree |   0.69   |   0.63   |    0.68   |  0.69  |\n",
      "+-----------------+----------+----------+-----------+--------+\n",
      "+-----------------+----------+----------+-----------+--------+\n",
      "|   Model(Train)  | f1_score | accuracy | precision | recall |\n",
      "+-----------------+----------+----------+-----------+--------+\n",
      "| # Decision Tree |   0.99   |   0.99   |    1.0    |  0.99  |\n",
      "+-----------------+----------+----------+-----------+--------+\n"
     ]
    }
   ],
   "source": [
    "print(x)\n",
    "print(y)"
   ]
  },
  {
   "cell_type": "markdown",
   "id": "77ee0e46",
   "metadata": {},
   "source": [
    "**Observations-**\n",
    "- The f1-score for test data is 0.69 and for train data is 0.99.\n",
    "- The accuracy score for test data is 0.63 and for train data is 0.99.\n",
    "- The precision score  for test data is 0.68 and for train data is 1.0.\n",
    "- The recall score for test data is 0.69 and for train data is 0.99.\n",
    "- The model has high bias and low variance so it can't be considered as a generalised model.\n",
    "- Since,the model has high bias and low variance so hyperparameter tuning is performed."
   ]
  },
  {
   "cell_type": "markdown",
   "id": "92b335c7",
   "metadata": {},
   "source": [
    "# Hyperparameter tuning:-"
   ]
  },
  {
   "cell_type": "code",
   "execution_count": 182,
   "id": "ea9b4ed9",
   "metadata": {},
   "outputs": [],
   "source": [
    "params = {\n",
    "    \"criterion\":(\"gini\", \"entropy\"), #quality of split\n",
    "    \"splitter\":(\"best\", \"random\"), # searches the features for a split\n",
    "    \"max_depth\":(list(range(1, 20))), #depth of tree range from 1 to 19\n",
    "    \"min_samples_split\":(list(range(2, 20))),    #the minimum number of samples required to split internal node\n",
    "    \"min_samples_leaf\":list(range(1, 20)),#minimum number of samples required to be at a leaf node,we are passing list which is range from 1 to 19 \n",
    "}\n"
   ]
  },
  {
   "cell_type": "code",
   "execution_count": 183,
   "id": "7fce7079",
   "metadata": {},
   "outputs": [],
   "source": [
    "tree_clf = DecisionTreeClassifier(random_state=1000)#object creation for decision tree with random state 3"
   ]
  },
  {
   "cell_type": "code",
   "execution_count": 184,
   "id": "09cb1f4f",
   "metadata": {},
   "outputs": [],
   "source": [
    "tree_cv = GridSearchCV(tree_clf, params, scoring=\"f1\", n_jobs=-1, verbose=1, cv=3)"
   ]
  },
  {
   "cell_type": "code",
   "execution_count": 185,
   "id": "ec7c72e1",
   "metadata": {},
   "outputs": [
    {
     "name": "stdout",
     "output_type": "stream",
     "text": [
      "Fitting 3 folds for each of 25992 candidates, totalling 77976 fits\n"
     ]
    },
    {
     "data": {
      "text/html": [
       "<style>#sk-container-id-8 {color: black;background-color: white;}#sk-container-id-8 pre{padding: 0;}#sk-container-id-8 div.sk-toggleable {background-color: white;}#sk-container-id-8 label.sk-toggleable__label {cursor: pointer;display: block;width: 100%;margin-bottom: 0;padding: 0.3em;box-sizing: border-box;text-align: center;}#sk-container-id-8 label.sk-toggleable__label-arrow:before {content: \"▸\";float: left;margin-right: 0.25em;color: #696969;}#sk-container-id-8 label.sk-toggleable__label-arrow:hover:before {color: black;}#sk-container-id-8 div.sk-estimator:hover label.sk-toggleable__label-arrow:before {color: black;}#sk-container-id-8 div.sk-toggleable__content {max-height: 0;max-width: 0;overflow: hidden;text-align: left;background-color: #f0f8ff;}#sk-container-id-8 div.sk-toggleable__content pre {margin: 0.2em;color: black;border-radius: 0.25em;background-color: #f0f8ff;}#sk-container-id-8 input.sk-toggleable__control:checked~div.sk-toggleable__content {max-height: 200px;max-width: 100%;overflow: auto;}#sk-container-id-8 input.sk-toggleable__control:checked~label.sk-toggleable__label-arrow:before {content: \"▾\";}#sk-container-id-8 div.sk-estimator input.sk-toggleable__control:checked~label.sk-toggleable__label {background-color: #d4ebff;}#sk-container-id-8 div.sk-label input.sk-toggleable__control:checked~label.sk-toggleable__label {background-color: #d4ebff;}#sk-container-id-8 input.sk-hidden--visually {border: 0;clip: rect(1px 1px 1px 1px);clip: rect(1px, 1px, 1px, 1px);height: 1px;margin: -1px;overflow: hidden;padding: 0;position: absolute;width: 1px;}#sk-container-id-8 div.sk-estimator {font-family: monospace;background-color: #f0f8ff;border: 1px dotted black;border-radius: 0.25em;box-sizing: border-box;margin-bottom: 0.5em;}#sk-container-id-8 div.sk-estimator:hover {background-color: #d4ebff;}#sk-container-id-8 div.sk-parallel-item::after {content: \"\";width: 100%;border-bottom: 1px solid gray;flex-grow: 1;}#sk-container-id-8 div.sk-label:hover label.sk-toggleable__label {background-color: #d4ebff;}#sk-container-id-8 div.sk-serial::before {content: \"\";position: absolute;border-left: 1px solid gray;box-sizing: border-box;top: 0;bottom: 0;left: 50%;z-index: 0;}#sk-container-id-8 div.sk-serial {display: flex;flex-direction: column;align-items: center;background-color: white;padding-right: 0.2em;padding-left: 0.2em;position: relative;}#sk-container-id-8 div.sk-item {position: relative;z-index: 1;}#sk-container-id-8 div.sk-parallel {display: flex;align-items: stretch;justify-content: center;background-color: white;position: relative;}#sk-container-id-8 div.sk-item::before, #sk-container-id-8 div.sk-parallel-item::before {content: \"\";position: absolute;border-left: 1px solid gray;box-sizing: border-box;top: 0;bottom: 0;left: 50%;z-index: -1;}#sk-container-id-8 div.sk-parallel-item {display: flex;flex-direction: column;z-index: 1;position: relative;background-color: white;}#sk-container-id-8 div.sk-parallel-item:first-child::after {align-self: flex-end;width: 50%;}#sk-container-id-8 div.sk-parallel-item:last-child::after {align-self: flex-start;width: 50%;}#sk-container-id-8 div.sk-parallel-item:only-child::after {width: 0;}#sk-container-id-8 div.sk-dashed-wrapped {border: 1px dashed gray;margin: 0 0.4em 0.5em 0.4em;box-sizing: border-box;padding-bottom: 0.4em;background-color: white;}#sk-container-id-8 div.sk-label label {font-family: monospace;font-weight: bold;display: inline-block;line-height: 1.2em;}#sk-container-id-8 div.sk-label-container {text-align: center;}#sk-container-id-8 div.sk-container {/* jupyter's `normalize.less` sets `[hidden] { display: none; }` but bootstrap.min.css set `[hidden] { display: none !important; }` so we also need the `!important` here to be able to override the default hidden behavior on the sphinx rendered scikit-learn.org. See: https://github.com/scikit-learn/scikit-learn/issues/21755 */display: inline-block !important;position: relative;}#sk-container-id-8 div.sk-text-repr-fallback {display: none;}</style><div id=\"sk-container-id-8\" class=\"sk-top-container\"><div class=\"sk-text-repr-fallback\"><pre>GridSearchCV(cv=3, estimator=DecisionTreeClassifier(random_state=1000),\n",
       "             n_jobs=-1,\n",
       "             param_grid={&#x27;criterion&#x27;: (&#x27;gini&#x27;, &#x27;entropy&#x27;),\n",
       "                         &#x27;max_depth&#x27;: [1, 2, 3, 4, 5, 6, 7, 8, 9, 10, 11, 12,\n",
       "                                       13, 14, 15, 16, 17, 18, 19],\n",
       "                         &#x27;min_samples_leaf&#x27;: [1, 2, 3, 4, 5, 6, 7, 8, 9, 10, 11,\n",
       "                                              12, 13, 14, 15, 16, 17, 18, 19],\n",
       "                         &#x27;min_samples_split&#x27;: [2, 3, 4, 5, 6, 7, 8, 9, 10, 11,\n",
       "                                               12, 13, 14, 15, 16, 17, 18, 19],\n",
       "                         &#x27;splitter&#x27;: (&#x27;best&#x27;, &#x27;random&#x27;)},\n",
       "             scoring=&#x27;f1&#x27;, verbose=1)</pre><b>In a Jupyter environment, please rerun this cell to show the HTML representation or trust the notebook. <br />On GitHub, the HTML representation is unable to render, please try loading this page with nbviewer.org.</b></div><div class=\"sk-container\" hidden><div class=\"sk-item sk-dashed-wrapped\"><div class=\"sk-label-container\"><div class=\"sk-label sk-toggleable\"><input class=\"sk-toggleable__control sk-hidden--visually\" id=\"sk-estimator-id-10\" type=\"checkbox\" ><label for=\"sk-estimator-id-10\" class=\"sk-toggleable__label sk-toggleable__label-arrow\">GridSearchCV</label><div class=\"sk-toggleable__content\"><pre>GridSearchCV(cv=3, estimator=DecisionTreeClassifier(random_state=1000),\n",
       "             n_jobs=-1,\n",
       "             param_grid={&#x27;criterion&#x27;: (&#x27;gini&#x27;, &#x27;entropy&#x27;),\n",
       "                         &#x27;max_depth&#x27;: [1, 2, 3, 4, 5, 6, 7, 8, 9, 10, 11, 12,\n",
       "                                       13, 14, 15, 16, 17, 18, 19],\n",
       "                         &#x27;min_samples_leaf&#x27;: [1, 2, 3, 4, 5, 6, 7, 8, 9, 10, 11,\n",
       "                                              12, 13, 14, 15, 16, 17, 18, 19],\n",
       "                         &#x27;min_samples_split&#x27;: [2, 3, 4, 5, 6, 7, 8, 9, 10, 11,\n",
       "                                               12, 13, 14, 15, 16, 17, 18, 19],\n",
       "                         &#x27;splitter&#x27;: (&#x27;best&#x27;, &#x27;random&#x27;)},\n",
       "             scoring=&#x27;f1&#x27;, verbose=1)</pre></div></div></div><div class=\"sk-parallel\"><div class=\"sk-parallel-item\"><div class=\"sk-item\"><div class=\"sk-label-container\"><div class=\"sk-label sk-toggleable\"><input class=\"sk-toggleable__control sk-hidden--visually\" id=\"sk-estimator-id-11\" type=\"checkbox\" ><label for=\"sk-estimator-id-11\" class=\"sk-toggleable__label sk-toggleable__label-arrow\">estimator: DecisionTreeClassifier</label><div class=\"sk-toggleable__content\"><pre>DecisionTreeClassifier(random_state=1000)</pre></div></div></div><div class=\"sk-serial\"><div class=\"sk-item\"><div class=\"sk-estimator sk-toggleable\"><input class=\"sk-toggleable__control sk-hidden--visually\" id=\"sk-estimator-id-12\" type=\"checkbox\" ><label for=\"sk-estimator-id-12\" class=\"sk-toggleable__label sk-toggleable__label-arrow\">DecisionTreeClassifier</label><div class=\"sk-toggleable__content\"><pre>DecisionTreeClassifier(random_state=1000)</pre></div></div></div></div></div></div></div></div></div></div>"
      ],
      "text/plain": [
       "GridSearchCV(cv=3, estimator=DecisionTreeClassifier(random_state=1000),\n",
       "             n_jobs=-1,\n",
       "             param_grid={'criterion': ('gini', 'entropy'),\n",
       "                         'max_depth': [1, 2, 3, 4, 5, 6, 7, 8, 9, 10, 11, 12,\n",
       "                                       13, 14, 15, 16, 17, 18, 19],\n",
       "                         'min_samples_leaf': [1, 2, 3, 4, 5, 6, 7, 8, 9, 10, 11,\n",
       "                                              12, 13, 14, 15, 16, 17, 18, 19],\n",
       "                         'min_samples_split': [2, 3, 4, 5, 6, 7, 8, 9, 10, 11,\n",
       "                                               12, 13, 14, 15, 16, 17, 18, 19],\n",
       "                         'splitter': ('best', 'random')},\n",
       "             scoring='f1', verbose=1)"
      ]
     },
     "execution_count": 185,
     "metadata": {},
     "output_type": "execute_result"
    }
   ],
   "source": [
    "tree_cv.fit(X_smote,y_smote)#training data on gridsearch cv"
   ]
  },
  {
   "cell_type": "code",
   "execution_count": 186,
   "id": "1dfce9f5",
   "metadata": {},
   "outputs": [
    {
     "name": "stdout",
     "output_type": "stream",
     "text": [
      "Best paramters: {'criterion': 'entropy', 'max_depth': 17, 'min_samples_leaf': 13, 'min_samples_split': 2, 'splitter': 'best'})\n"
     ]
    }
   ],
   "source": [
    "best_params = tree_cv.best_params_#it will give you best parameters \n",
    "print(f\"Best paramters: {best_params})\")#printing  best parameters"
   ]
  },
  {
   "cell_type": "code",
   "execution_count": 228,
   "id": "f150a8f5",
   "metadata": {},
   "outputs": [],
   "source": [
    "dt1=DecisionTreeClassifier(criterion='entropy',max_depth=17,min_samples_leaf=13,min_samples_split=2,splitter='best')#passing best parameter to decision tree"
   ]
  },
  {
   "cell_type": "code",
   "execution_count": 229,
   "id": "2af772f5",
   "metadata": {},
   "outputs": [
    {
     "data": {
      "text/html": [
       "<style>#sk-container-id-15 {color: black;background-color: white;}#sk-container-id-15 pre{padding: 0;}#sk-container-id-15 div.sk-toggleable {background-color: white;}#sk-container-id-15 label.sk-toggleable__label {cursor: pointer;display: block;width: 100%;margin-bottom: 0;padding: 0.3em;box-sizing: border-box;text-align: center;}#sk-container-id-15 label.sk-toggleable__label-arrow:before {content: \"▸\";float: left;margin-right: 0.25em;color: #696969;}#sk-container-id-15 label.sk-toggleable__label-arrow:hover:before {color: black;}#sk-container-id-15 div.sk-estimator:hover label.sk-toggleable__label-arrow:before {color: black;}#sk-container-id-15 div.sk-toggleable__content {max-height: 0;max-width: 0;overflow: hidden;text-align: left;background-color: #f0f8ff;}#sk-container-id-15 div.sk-toggleable__content pre {margin: 0.2em;color: black;border-radius: 0.25em;background-color: #f0f8ff;}#sk-container-id-15 input.sk-toggleable__control:checked~div.sk-toggleable__content {max-height: 200px;max-width: 100%;overflow: auto;}#sk-container-id-15 input.sk-toggleable__control:checked~label.sk-toggleable__label-arrow:before {content: \"▾\";}#sk-container-id-15 div.sk-estimator input.sk-toggleable__control:checked~label.sk-toggleable__label {background-color: #d4ebff;}#sk-container-id-15 div.sk-label input.sk-toggleable__control:checked~label.sk-toggleable__label {background-color: #d4ebff;}#sk-container-id-15 input.sk-hidden--visually {border: 0;clip: rect(1px 1px 1px 1px);clip: rect(1px, 1px, 1px, 1px);height: 1px;margin: -1px;overflow: hidden;padding: 0;position: absolute;width: 1px;}#sk-container-id-15 div.sk-estimator {font-family: monospace;background-color: #f0f8ff;border: 1px dotted black;border-radius: 0.25em;box-sizing: border-box;margin-bottom: 0.5em;}#sk-container-id-15 div.sk-estimator:hover {background-color: #d4ebff;}#sk-container-id-15 div.sk-parallel-item::after {content: \"\";width: 100%;border-bottom: 1px solid gray;flex-grow: 1;}#sk-container-id-15 div.sk-label:hover label.sk-toggleable__label {background-color: #d4ebff;}#sk-container-id-15 div.sk-serial::before {content: \"\";position: absolute;border-left: 1px solid gray;box-sizing: border-box;top: 0;bottom: 0;left: 50%;z-index: 0;}#sk-container-id-15 div.sk-serial {display: flex;flex-direction: column;align-items: center;background-color: white;padding-right: 0.2em;padding-left: 0.2em;position: relative;}#sk-container-id-15 div.sk-item {position: relative;z-index: 1;}#sk-container-id-15 div.sk-parallel {display: flex;align-items: stretch;justify-content: center;background-color: white;position: relative;}#sk-container-id-15 div.sk-item::before, #sk-container-id-15 div.sk-parallel-item::before {content: \"\";position: absolute;border-left: 1px solid gray;box-sizing: border-box;top: 0;bottom: 0;left: 50%;z-index: -1;}#sk-container-id-15 div.sk-parallel-item {display: flex;flex-direction: column;z-index: 1;position: relative;background-color: white;}#sk-container-id-15 div.sk-parallel-item:first-child::after {align-self: flex-end;width: 50%;}#sk-container-id-15 div.sk-parallel-item:last-child::after {align-self: flex-start;width: 50%;}#sk-container-id-15 div.sk-parallel-item:only-child::after {width: 0;}#sk-container-id-15 div.sk-dashed-wrapped {border: 1px dashed gray;margin: 0 0.4em 0.5em 0.4em;box-sizing: border-box;padding-bottom: 0.4em;background-color: white;}#sk-container-id-15 div.sk-label label {font-family: monospace;font-weight: bold;display: inline-block;line-height: 1.2em;}#sk-container-id-15 div.sk-label-container {text-align: center;}#sk-container-id-15 div.sk-container {/* jupyter's `normalize.less` sets `[hidden] { display: none; }` but bootstrap.min.css set `[hidden] { display: none !important; }` so we also need the `!important` here to be able to override the default hidden behavior on the sphinx rendered scikit-learn.org. See: https://github.com/scikit-learn/scikit-learn/issues/21755 */display: inline-block !important;position: relative;}#sk-container-id-15 div.sk-text-repr-fallback {display: none;}</style><div id=\"sk-container-id-15\" class=\"sk-top-container\"><div class=\"sk-text-repr-fallback\"><pre>DecisionTreeClassifier(criterion=&#x27;entropy&#x27;, max_depth=17, min_samples_leaf=13)</pre><b>In a Jupyter environment, please rerun this cell to show the HTML representation or trust the notebook. <br />On GitHub, the HTML representation is unable to render, please try loading this page with nbviewer.org.</b></div><div class=\"sk-container\" hidden><div class=\"sk-item\"><div class=\"sk-estimator sk-toggleable\"><input class=\"sk-toggleable__control sk-hidden--visually\" id=\"sk-estimator-id-23\" type=\"checkbox\" checked><label for=\"sk-estimator-id-23\" class=\"sk-toggleable__label sk-toggleable__label-arrow\">DecisionTreeClassifier</label><div class=\"sk-toggleable__content\"><pre>DecisionTreeClassifier(criterion=&#x27;entropy&#x27;, max_depth=17, min_samples_leaf=13)</pre></div></div></div></div></div>"
      ],
      "text/plain": [
       "DecisionTreeClassifier(criterion='entropy', max_depth=17, min_samples_leaf=13)"
      ]
     },
     "execution_count": 229,
     "metadata": {},
     "output_type": "execute_result"
    }
   ],
   "source": [
    "dt1.fit(X_smote,y_smote)#training model with best parameter"
   ]
  },
  {
   "cell_type": "code",
   "execution_count": 230,
   "id": "7d8fc71b",
   "metadata": {},
   "outputs": [],
   "source": [
    "X_pred14 = dt1.predict(X_test)\n",
    "X_pred_train14 = dt1.predict(X_smote)"
   ]
  },
  {
   "cell_type": "code",
   "execution_count": 231,
   "id": "3885bb40",
   "metadata": {},
   "outputs": [
    {
     "name": "stdout",
     "output_type": "stream",
     "text": [
      "0.7067599067599067\n",
      "0.8038003317749963\n"
     ]
    }
   ],
   "source": [
    "print(f1_score(y_test,X_pred14))\n",
    "print(f1_score(y_smote,X_pred_train14))"
   ]
  },
  {
   "cell_type": "code",
   "execution_count": 232,
   "id": "de752629",
   "metadata": {},
   "outputs": [
    {
     "name": "stdout",
     "output_type": "stream",
     "text": [
      "0.6585233441910966\n",
      "0.8054142985342507\n"
     ]
    }
   ],
   "source": [
    "print(accuracy_score(y_test,X_pred14))\n",
    "print(accuracy_score(y_smote,X_pred_train14))"
   ]
  },
  {
   "cell_type": "code",
   "execution_count": 233,
   "id": "21a73e04",
   "metadata": {},
   "outputs": [
    {
     "name": "stdout",
     "output_type": "stream",
     "text": [
      "0.7239732569245463\n",
      "0.8105231143552312\n"
     ]
    }
   ],
   "source": [
    "print(precision_score(y_test,X_pred14))\n",
    "print(precision_score(y_smote,X_pred_train14))"
   ]
  },
  {
   "cell_type": "code",
   "execution_count": 234,
   "id": "0e3cee9a",
   "metadata": {},
   "outputs": [
    {
     "name": "stdout",
     "output_type": "stream",
     "text": [
      "0.6903460837887068\n",
      "0.7971881543523781\n"
     ]
    }
   ],
   "source": [
    "print(recall_score(y_test,X_pred14))\n",
    "print(recall_score(y_smote,X_pred_train14))"
   ]
  },
  {
   "cell_type": "code",
   "execution_count": 268,
   "id": "ce58a4ef",
   "metadata": {},
   "outputs": [],
   "source": [
    "#Creating objects of Preetytable\n",
    "x=PrettyTable()\n",
    "y=PrettyTable()"
   ]
  },
  {
   "cell_type": "code",
   "execution_count": 269,
   "id": "4ee5cad8",
   "metadata": {},
   "outputs": [],
   "source": [
    "x.field_names = [\"Model(Test)\", \"f1_score\",\"accuracy\",\"precision\",\"recall\"]\n",
    "x.add_row([\"# Decision Tree\", \"0.70\",'0.65','0.72','0.69'])"
   ]
  },
  {
   "cell_type": "code",
   "execution_count": 270,
   "id": "4940bdf4",
   "metadata": {},
   "outputs": [],
   "source": [
    "y.field_names = [\"Model(Train)\", \"f1_score\",\"accuracy\",\"precision\",\"recall\"]\n",
    "y.add_row([\"# Decision Tree\", \"0.80\",'0.80','0.81','0.79'])"
   ]
  },
  {
   "cell_type": "code",
   "execution_count": 271,
   "id": "ad51c737",
   "metadata": {},
   "outputs": [
    {
     "name": "stdout",
     "output_type": "stream",
     "text": [
      "+-----------------+----------+----------+-----------+--------+\n",
      "|   Model(Test)   | f1_score | accuracy | precision | recall |\n",
      "+-----------------+----------+----------+-----------+--------+\n",
      "| # Decision Tree |   0.70   |   0.65   |    0.72   |  0.69  |\n",
      "+-----------------+----------+----------+-----------+--------+\n",
      "+-----------------+----------+----------+-----------+--------+\n",
      "|   Model(Train)  | f1_score | accuracy | precision | recall |\n",
      "+-----------------+----------+----------+-----------+--------+\n",
      "| # Decision Tree |   0.80   |   0.80   |    0.81   |  0.79  |\n",
      "+-----------------+----------+----------+-----------+--------+\n"
     ]
    }
   ],
   "source": [
    "print(x)\n",
    "print(y)"
   ]
  },
  {
   "cell_type": "markdown",
   "id": "4a4e0138",
   "metadata": {},
   "source": [
    "**Observations-**\n",
    "- The f1-score for test data is 0.70 and for train data is 0.80.\n",
    "- The accuracy score for test data is 0.65 and for train data is 0.80.\n",
    "- The precision score  for test data is 0.72 and for train data is 0.81.\n",
    "- The recall score for test data is 0.69 and for train data is 0.79\n",
    "- The model has high bias and low variance so it can't be considered as a generalised model.\n",
    "- The scores are not satisfactory so bagging is performed."
   ]
  },
  {
   "cell_type": "markdown",
   "id": "021bc897",
   "metadata": {},
   "source": [
    "# Decision Tree (Bagging)"
   ]
  },
  {
   "cell_type": "code",
   "execution_count": 194,
   "id": "9db567f0",
   "metadata": {},
   "outputs": [],
   "source": [
    "from sklearn.ensemble import BaggingClassifier\n",
    "\n",
    "# Create a decision tree classifier object\n",
    "dt = DecisionTreeClassifier()\n",
    "\n",
    "# Create a bagging classifier object\n",
    "bagging = BaggingClassifier(dt, n_estimators=100)\n"
   ]
  },
  {
   "cell_type": "code",
   "execution_count": 195,
   "id": "e23db39b",
   "metadata": {},
   "outputs": [
    {
     "data": {
      "text/html": [
       "<style>#sk-container-id-10 {color: black;background-color: white;}#sk-container-id-10 pre{padding: 0;}#sk-container-id-10 div.sk-toggleable {background-color: white;}#sk-container-id-10 label.sk-toggleable__label {cursor: pointer;display: block;width: 100%;margin-bottom: 0;padding: 0.3em;box-sizing: border-box;text-align: center;}#sk-container-id-10 label.sk-toggleable__label-arrow:before {content: \"▸\";float: left;margin-right: 0.25em;color: #696969;}#sk-container-id-10 label.sk-toggleable__label-arrow:hover:before {color: black;}#sk-container-id-10 div.sk-estimator:hover label.sk-toggleable__label-arrow:before {color: black;}#sk-container-id-10 div.sk-toggleable__content {max-height: 0;max-width: 0;overflow: hidden;text-align: left;background-color: #f0f8ff;}#sk-container-id-10 div.sk-toggleable__content pre {margin: 0.2em;color: black;border-radius: 0.25em;background-color: #f0f8ff;}#sk-container-id-10 input.sk-toggleable__control:checked~div.sk-toggleable__content {max-height: 200px;max-width: 100%;overflow: auto;}#sk-container-id-10 input.sk-toggleable__control:checked~label.sk-toggleable__label-arrow:before {content: \"▾\";}#sk-container-id-10 div.sk-estimator input.sk-toggleable__control:checked~label.sk-toggleable__label {background-color: #d4ebff;}#sk-container-id-10 div.sk-label input.sk-toggleable__control:checked~label.sk-toggleable__label {background-color: #d4ebff;}#sk-container-id-10 input.sk-hidden--visually {border: 0;clip: rect(1px 1px 1px 1px);clip: rect(1px, 1px, 1px, 1px);height: 1px;margin: -1px;overflow: hidden;padding: 0;position: absolute;width: 1px;}#sk-container-id-10 div.sk-estimator {font-family: monospace;background-color: #f0f8ff;border: 1px dotted black;border-radius: 0.25em;box-sizing: border-box;margin-bottom: 0.5em;}#sk-container-id-10 div.sk-estimator:hover {background-color: #d4ebff;}#sk-container-id-10 div.sk-parallel-item::after {content: \"\";width: 100%;border-bottom: 1px solid gray;flex-grow: 1;}#sk-container-id-10 div.sk-label:hover label.sk-toggleable__label {background-color: #d4ebff;}#sk-container-id-10 div.sk-serial::before {content: \"\";position: absolute;border-left: 1px solid gray;box-sizing: border-box;top: 0;bottom: 0;left: 50%;z-index: 0;}#sk-container-id-10 div.sk-serial {display: flex;flex-direction: column;align-items: center;background-color: white;padding-right: 0.2em;padding-left: 0.2em;position: relative;}#sk-container-id-10 div.sk-item {position: relative;z-index: 1;}#sk-container-id-10 div.sk-parallel {display: flex;align-items: stretch;justify-content: center;background-color: white;position: relative;}#sk-container-id-10 div.sk-item::before, #sk-container-id-10 div.sk-parallel-item::before {content: \"\";position: absolute;border-left: 1px solid gray;box-sizing: border-box;top: 0;bottom: 0;left: 50%;z-index: -1;}#sk-container-id-10 div.sk-parallel-item {display: flex;flex-direction: column;z-index: 1;position: relative;background-color: white;}#sk-container-id-10 div.sk-parallel-item:first-child::after {align-self: flex-end;width: 50%;}#sk-container-id-10 div.sk-parallel-item:last-child::after {align-self: flex-start;width: 50%;}#sk-container-id-10 div.sk-parallel-item:only-child::after {width: 0;}#sk-container-id-10 div.sk-dashed-wrapped {border: 1px dashed gray;margin: 0 0.4em 0.5em 0.4em;box-sizing: border-box;padding-bottom: 0.4em;background-color: white;}#sk-container-id-10 div.sk-label label {font-family: monospace;font-weight: bold;display: inline-block;line-height: 1.2em;}#sk-container-id-10 div.sk-label-container {text-align: center;}#sk-container-id-10 div.sk-container {/* jupyter's `normalize.less` sets `[hidden] { display: none; }` but bootstrap.min.css set `[hidden] { display: none !important; }` so we also need the `!important` here to be able to override the default hidden behavior on the sphinx rendered scikit-learn.org. See: https://github.com/scikit-learn/scikit-learn/issues/21755 */display: inline-block !important;position: relative;}#sk-container-id-10 div.sk-text-repr-fallback {display: none;}</style><div id=\"sk-container-id-10\" class=\"sk-top-container\"><div class=\"sk-text-repr-fallback\"><pre>BaggingClassifier(base_estimator=DecisionTreeClassifier(), n_estimators=100)</pre><b>In a Jupyter environment, please rerun this cell to show the HTML representation or trust the notebook. <br />On GitHub, the HTML representation is unable to render, please try loading this page with nbviewer.org.</b></div><div class=\"sk-container\" hidden><div class=\"sk-item sk-dashed-wrapped\"><div class=\"sk-label-container\"><div class=\"sk-label sk-toggleable\"><input class=\"sk-toggleable__control sk-hidden--visually\" id=\"sk-estimator-id-14\" type=\"checkbox\" ><label for=\"sk-estimator-id-14\" class=\"sk-toggleable__label sk-toggleable__label-arrow\">BaggingClassifier</label><div class=\"sk-toggleable__content\"><pre>BaggingClassifier(base_estimator=DecisionTreeClassifier(), n_estimators=100)</pre></div></div></div><div class=\"sk-parallel\"><div class=\"sk-parallel-item\"><div class=\"sk-item\"><div class=\"sk-label-container\"><div class=\"sk-label sk-toggleable\"><input class=\"sk-toggleable__control sk-hidden--visually\" id=\"sk-estimator-id-15\" type=\"checkbox\" ><label for=\"sk-estimator-id-15\" class=\"sk-toggleable__label sk-toggleable__label-arrow\">base_estimator: DecisionTreeClassifier</label><div class=\"sk-toggleable__content\"><pre>DecisionTreeClassifier()</pre></div></div></div><div class=\"sk-serial\"><div class=\"sk-item\"><div class=\"sk-estimator sk-toggleable\"><input class=\"sk-toggleable__control sk-hidden--visually\" id=\"sk-estimator-id-16\" type=\"checkbox\" ><label for=\"sk-estimator-id-16\" class=\"sk-toggleable__label sk-toggleable__label-arrow\">DecisionTreeClassifier</label><div class=\"sk-toggleable__content\"><pre>DecisionTreeClassifier()</pre></div></div></div></div></div></div></div></div></div></div>"
      ],
      "text/plain": [
       "BaggingClassifier(base_estimator=DecisionTreeClassifier(), n_estimators=100)"
      ]
     },
     "execution_count": 195,
     "metadata": {},
     "output_type": "execute_result"
    }
   ],
   "source": [
    "bagging.fit(X_smote,y_smote)"
   ]
  },
  {
   "cell_type": "code",
   "execution_count": 196,
   "id": "f4c4a537",
   "metadata": {},
   "outputs": [],
   "source": [
    "bagg1 = bagging.predict(X_test)\n",
    "bagg2 = bagging.predict(X_smote)"
   ]
  },
  {
   "cell_type": "code",
   "execution_count": 197,
   "id": "32a45c1b",
   "metadata": {},
   "outputs": [
    {
     "name": "stdout",
     "output_type": "stream",
     "text": [
      "0.7304740406320542\n",
      "0.999850411368736\n"
     ]
    }
   ],
   "source": [
    "print(f1_score(y_test,bagg1))\n",
    "print(f1_score(y_smote,bagg2))"
   ]
  },
  {
   "cell_type": "code",
   "execution_count": 198,
   "id": "9a74f637",
   "metadata": {},
   "outputs": [
    {
     "name": "stdout",
     "output_type": "stream",
     "text": [
      "0.6758957654723127\n",
      "0.9998504337421478\n"
     ]
    }
   ],
   "source": [
    "print(accuracy_score(y_test,bagg1))\n",
    "print(accuracy_score(y_smote,bagg2))"
   ]
  },
  {
   "cell_type": "code",
   "execution_count": 199,
   "id": "f7f26486",
   "metadata": {},
   "outputs": [
    {
     "name": "stdout",
     "output_type": "stream",
     "text": [
      "0.7242614145031334\n",
      "1.0\n"
     ]
    }
   ],
   "source": [
    "print(precision_score(y_test,bagg1))\n",
    "print(precision_score(y_smote,bagg2))"
   ]
  },
  {
   "cell_type": "code",
   "execution_count": 200,
   "id": "9bb0d625",
   "metadata": {},
   "outputs": [
    {
     "name": "stdout",
     "output_type": "stream",
     "text": [
      "0.7367941712204007\n",
      "0.9997008674842955\n"
     ]
    }
   ],
   "source": [
    "print(recall_score(y_test,bagg1))\n",
    "print(recall_score(y_smote,bagg2))"
   ]
  },
  {
   "cell_type": "code",
   "execution_count": null,
   "id": "236e0216",
   "metadata": {},
   "outputs": [],
   "source": [
    "#Creating objects of Preetytable\n",
    "x=PrettyTable()\n",
    "y=PrettyTable()"
   ]
  },
  {
   "cell_type": "code",
   "execution_count": 272,
   "id": "402c6f07",
   "metadata": {},
   "outputs": [],
   "source": [
    "x.field_names = [\"Model(Test)\", \"f1_score\",\"accuracy\",\"precision\",\"recall\"]\n",
    "x.add_row([\"# Decision Tree (Bagging)\", \"0.73\",'0.67','0.72','0.73'])"
   ]
  },
  {
   "cell_type": "code",
   "execution_count": 273,
   "id": "5f897800",
   "metadata": {},
   "outputs": [],
   "source": [
    "y.field_names = [\"Model(Train)\", \"f1_score\",\"accuracy\",\"precision\",\"recall\"]\n",
    "y.add_row([\"# Decision Tree (Bagging)\", \"0.99\",'0.99','1.0','0.99'])"
   ]
  },
  {
   "cell_type": "code",
   "execution_count": 274,
   "id": "9505d7ac",
   "metadata": {},
   "outputs": [
    {
     "name": "stdout",
     "output_type": "stream",
     "text": [
      "+---------------------------+----------+----------+-----------+--------+\n",
      "|        Model(Test)        | f1_score | accuracy | precision | recall |\n",
      "+---------------------------+----------+----------+-----------+--------+\n",
      "|      # Decision Tree      |   0.70   |   0.65   |    0.72   |  0.69  |\n",
      "| # Decision Tree (Bagging) |   0.73   |   0.67   |    0.72   |  0.73  |\n",
      "+---------------------------+----------+----------+-----------+--------+\n",
      "+---------------------------+----------+----------+-----------+--------+\n",
      "|        Model(Train)       | f1_score | accuracy | precision | recall |\n",
      "+---------------------------+----------+----------+-----------+--------+\n",
      "|      # Decision Tree      |   0.80   |   0.80   |    0.81   |  0.79  |\n",
      "| # Decision Tree (Bagging) |   0.99   |   0.99   |    1.0    |  0.99  |\n",
      "+---------------------------+----------+----------+-----------+--------+\n"
     ]
    }
   ],
   "source": [
    "print(x)\n",
    "print(y)"
   ]
  },
  {
   "cell_type": "markdown",
   "id": "2a635a55",
   "metadata": {},
   "source": [
    "**Observations-**\n",
    "- The f1-score for test data is 0.73 and for train data is 0.99.\n",
    "- The accuracy score for test data is 0.67 and for train data is 0.99.\n",
    "- The precision score  for test data is 0.72 and for train data is 1.0.\n",
    "- The recall score for test data is 0.73 and for train data is 0.99.\n",
    "- The model has high bias and low variance so it can't be considered as a generalised model."
   ]
  },
  {
   "cell_type": "markdown",
   "id": "1fa9be05",
   "metadata": {},
   "source": [
    "# Random Forest:-"
   ]
  },
  {
   "cell_type": "code",
   "execution_count": 201,
   "id": "644f774c",
   "metadata": {},
   "outputs": [],
   "source": [
    "from sklearn.ensemble import RandomForestClassifier\n",
    "rf_clf = RandomForestClassifier(n_estimators=100)"
   ]
  },
  {
   "cell_type": "code",
   "execution_count": 202,
   "id": "e7639c07",
   "metadata": {},
   "outputs": [
    {
     "data": {
      "text/html": [
       "<style>#sk-container-id-11 {color: black;background-color: white;}#sk-container-id-11 pre{padding: 0;}#sk-container-id-11 div.sk-toggleable {background-color: white;}#sk-container-id-11 label.sk-toggleable__label {cursor: pointer;display: block;width: 100%;margin-bottom: 0;padding: 0.3em;box-sizing: border-box;text-align: center;}#sk-container-id-11 label.sk-toggleable__label-arrow:before {content: \"▸\";float: left;margin-right: 0.25em;color: #696969;}#sk-container-id-11 label.sk-toggleable__label-arrow:hover:before {color: black;}#sk-container-id-11 div.sk-estimator:hover label.sk-toggleable__label-arrow:before {color: black;}#sk-container-id-11 div.sk-toggleable__content {max-height: 0;max-width: 0;overflow: hidden;text-align: left;background-color: #f0f8ff;}#sk-container-id-11 div.sk-toggleable__content pre {margin: 0.2em;color: black;border-radius: 0.25em;background-color: #f0f8ff;}#sk-container-id-11 input.sk-toggleable__control:checked~div.sk-toggleable__content {max-height: 200px;max-width: 100%;overflow: auto;}#sk-container-id-11 input.sk-toggleable__control:checked~label.sk-toggleable__label-arrow:before {content: \"▾\";}#sk-container-id-11 div.sk-estimator input.sk-toggleable__control:checked~label.sk-toggleable__label {background-color: #d4ebff;}#sk-container-id-11 div.sk-label input.sk-toggleable__control:checked~label.sk-toggleable__label {background-color: #d4ebff;}#sk-container-id-11 input.sk-hidden--visually {border: 0;clip: rect(1px 1px 1px 1px);clip: rect(1px, 1px, 1px, 1px);height: 1px;margin: -1px;overflow: hidden;padding: 0;position: absolute;width: 1px;}#sk-container-id-11 div.sk-estimator {font-family: monospace;background-color: #f0f8ff;border: 1px dotted black;border-radius: 0.25em;box-sizing: border-box;margin-bottom: 0.5em;}#sk-container-id-11 div.sk-estimator:hover {background-color: #d4ebff;}#sk-container-id-11 div.sk-parallel-item::after {content: \"\";width: 100%;border-bottom: 1px solid gray;flex-grow: 1;}#sk-container-id-11 div.sk-label:hover label.sk-toggleable__label {background-color: #d4ebff;}#sk-container-id-11 div.sk-serial::before {content: \"\";position: absolute;border-left: 1px solid gray;box-sizing: border-box;top: 0;bottom: 0;left: 50%;z-index: 0;}#sk-container-id-11 div.sk-serial {display: flex;flex-direction: column;align-items: center;background-color: white;padding-right: 0.2em;padding-left: 0.2em;position: relative;}#sk-container-id-11 div.sk-item {position: relative;z-index: 1;}#sk-container-id-11 div.sk-parallel {display: flex;align-items: stretch;justify-content: center;background-color: white;position: relative;}#sk-container-id-11 div.sk-item::before, #sk-container-id-11 div.sk-parallel-item::before {content: \"\";position: absolute;border-left: 1px solid gray;box-sizing: border-box;top: 0;bottom: 0;left: 50%;z-index: -1;}#sk-container-id-11 div.sk-parallel-item {display: flex;flex-direction: column;z-index: 1;position: relative;background-color: white;}#sk-container-id-11 div.sk-parallel-item:first-child::after {align-self: flex-end;width: 50%;}#sk-container-id-11 div.sk-parallel-item:last-child::after {align-self: flex-start;width: 50%;}#sk-container-id-11 div.sk-parallel-item:only-child::after {width: 0;}#sk-container-id-11 div.sk-dashed-wrapped {border: 1px dashed gray;margin: 0 0.4em 0.5em 0.4em;box-sizing: border-box;padding-bottom: 0.4em;background-color: white;}#sk-container-id-11 div.sk-label label {font-family: monospace;font-weight: bold;display: inline-block;line-height: 1.2em;}#sk-container-id-11 div.sk-label-container {text-align: center;}#sk-container-id-11 div.sk-container {/* jupyter's `normalize.less` sets `[hidden] { display: none; }` but bootstrap.min.css set `[hidden] { display: none !important; }` so we also need the `!important` here to be able to override the default hidden behavior on the sphinx rendered scikit-learn.org. See: https://github.com/scikit-learn/scikit-learn/issues/21755 */display: inline-block !important;position: relative;}#sk-container-id-11 div.sk-text-repr-fallback {display: none;}</style><div id=\"sk-container-id-11\" class=\"sk-top-container\"><div class=\"sk-text-repr-fallback\"><pre>RandomForestClassifier()</pre><b>In a Jupyter environment, please rerun this cell to show the HTML representation or trust the notebook. <br />On GitHub, the HTML representation is unable to render, please try loading this page with nbviewer.org.</b></div><div class=\"sk-container\" hidden><div class=\"sk-item\"><div class=\"sk-estimator sk-toggleable\"><input class=\"sk-toggleable__control sk-hidden--visually\" id=\"sk-estimator-id-17\" type=\"checkbox\" checked><label for=\"sk-estimator-id-17\" class=\"sk-toggleable__label sk-toggleable__label-arrow\">RandomForestClassifier</label><div class=\"sk-toggleable__content\"><pre>RandomForestClassifier()</pre></div></div></div></div></div>"
      ],
      "text/plain": [
       "RandomForestClassifier()"
      ]
     },
     "execution_count": 202,
     "metadata": {},
     "output_type": "execute_result"
    }
   ],
   "source": [
    "rf_clf.fit(X_smote,y_smote)"
   ]
  },
  {
   "cell_type": "code",
   "execution_count": 203,
   "id": "0629485b",
   "metadata": {},
   "outputs": [],
   "source": [
    "X_pred15 = rf_clf.predict(X_test)\n",
    "X_pred_train15 = rf_clf.predict(X_smote)\n"
   ]
  },
  {
   "cell_type": "code",
   "execution_count": 204,
   "id": "ca6d4f6e",
   "metadata": {},
   "outputs": [
    {
     "name": "stdout",
     "output_type": "stream",
     "text": [
      "0.7438313144908032\n",
      "0.9998504561088679\n"
     ]
    }
   ],
   "source": [
    "print(f1_score(y_test,X_pred15))\n",
    "print(f1_score(y_smote,X_pred_train15))"
   ]
  },
  {
   "cell_type": "code",
   "execution_count": 205,
   "id": "d48b779f",
   "metadata": {},
   "outputs": [
    {
     "name": "stdout",
     "output_type": "stream",
     "text": [
      "0.6900108577633007\n",
      "0.9998504337421478\n"
     ]
    }
   ],
   "source": [
    "print(accuracy_score(y_test,X_pred15))\n",
    "print(accuracy_score(y_smote,X_pred_train15))"
   ]
  },
  {
   "cell_type": "code",
   "execution_count": 206,
   "id": "b3559f6d",
   "metadata": {},
   "outputs": [
    {
     "name": "stdout",
     "output_type": "stream",
     "text": [
      "0.7329796640141468\n",
      "0.999700956937799\n"
     ]
    }
   ],
   "source": [
    "print(precision_score(y_test,X_pred15))\n",
    "print(precision_score(y_smote,X_pred_train15))"
   ]
  },
  {
   "cell_type": "code",
   "execution_count": 207,
   "id": "792a9036",
   "metadata": {},
   "outputs": [
    {
     "name": "stdout",
     "output_type": "stream",
     "text": [
      "0.7550091074681239\n",
      "1.0\n"
     ]
    }
   ],
   "source": [
    "print(recall_score(y_test,X_pred15))\n",
    "print(recall_score(y_smote,X_pred_train15))"
   ]
  },
  {
   "cell_type": "code",
   "execution_count": 275,
   "id": "931383c1",
   "metadata": {},
   "outputs": [],
   "source": [
    "#Creating objects of Preetytable\n",
    "x=PrettyTable()\n",
    "y=PrettyTable()"
   ]
  },
  {
   "cell_type": "code",
   "execution_count": 276,
   "id": "e903bab8",
   "metadata": {},
   "outputs": [],
   "source": [
    "x.field_names = [\"Model(Test)\", \"f1_score\",\"accuracy\",\"precision\",\"recall\"]\n",
    "x.add_row([\"# Random Forest\", \"0.74\",'0.69','0.73','0.75'])"
   ]
  },
  {
   "cell_type": "code",
   "execution_count": 277,
   "id": "5ca5d073",
   "metadata": {},
   "outputs": [],
   "source": [
    "y.field_names = [\"Model(Train)\", \"f1_score\",\"accuracy\",\"precision\",\"recall\"]\n",
    "y.add_row([\"# Random Forest\", \"0.99\",'0.99','0.99','1.0'])"
   ]
  },
  {
   "cell_type": "code",
   "execution_count": 278,
   "id": "4d7e9511",
   "metadata": {},
   "outputs": [
    {
     "name": "stdout",
     "output_type": "stream",
     "text": [
      "+-----------------+----------+----------+-----------+--------+\n",
      "|   Model(Test)   | f1_score | accuracy | precision | recall |\n",
      "+-----------------+----------+----------+-----------+--------+\n",
      "| # Random Forest |   0.74   |   0.69   |    0.73   |  0.75  |\n",
      "+-----------------+----------+----------+-----------+--------+\n",
      "+-----------------+----------+----------+-----------+--------+\n",
      "|   Model(Train)  | f1_score | accuracy | precision | recall |\n",
      "+-----------------+----------+----------+-----------+--------+\n",
      "| # Random Forest |   0.99   |   0.99   |    0.99   |  1.0   |\n",
      "+-----------------+----------+----------+-----------+--------+\n"
     ]
    }
   ],
   "source": [
    "print(x)\n",
    "print(y)"
   ]
  },
  {
   "cell_type": "markdown",
   "id": "c5c854aa",
   "metadata": {},
   "source": [
    "**Observations-**\n",
    "- The f1-score for test data is 0.74 and for train data is 0.99.\n",
    "- The accuracy score for test data is 0.69 and for train data is 0.99.\n",
    "- The precision score  for test data is 0.73 and for train data is 0.99.\n",
    "- The recall score for test data is 0.75 and for train data is 1.0.\n",
    "- The model has high bias and low variance so it can't be considered as a generalised model."
   ]
  },
  {
   "cell_type": "markdown",
   "id": "bc73dfad",
   "metadata": {},
   "source": [
    "# Hyperparameter tuning( Random Forest):-"
   ]
  },
  {
   "cell_type": "code",
   "execution_count": 208,
   "id": "7e4fcef9",
   "metadata": {},
   "outputs": [],
   "source": [
    "from sklearn.model_selection import RandomizedSearchCV\n",
    "\n",
    "n_estimators = [int(x) for x in np.linspace(start=200, stop=2000, num=10)]       #Number of decision trees\n",
    "max_features = ['log2', 'sqrt']                                  #maximum number of features allowed to try in individual tree\n",
    "max_depth = [int(x) for x in np.linspace(10, 110, num=11)]      #List Comprehension-using for loop in list\n",
    "min_samples_split = (list(range(2, 20)))#minimum number of samples required to split an internal node\n",
    "min_samples_leaf = (list(range(2, 20)))#minimum number of samples required to be at a leaf node.\n",
    "\n",
    " \n"
   ]
  },
  {
   "cell_type": "code",
   "execution_count": 209,
   "id": "6ca2ecb9",
   "metadata": {},
   "outputs": [],
   "source": [
    "#dictionary for hyperparameters\n",
    "random_grid = {'n_estimators': n_estimators, 'max_features': max_features,\n",
    "               'max_depth': max_depth, 'min_samples_split': min_samples_split,\n",
    "               'min_samples_leaf': min_samples_leaf}"
   ]
  },
  {
   "cell_type": "code",
   "execution_count": 210,
   "id": "d9c389c7",
   "metadata": {},
   "outputs": [],
   "source": [
    "#MODEL Creation\n",
    "rf_clf1 = RandomForestClassifier(random_state=42)#model"
   ]
  },
  {
   "cell_type": "code",
   "execution_count": 211,
   "id": "51050b19",
   "metadata": {},
   "outputs": [],
   "source": [
    "rf_cv = RandomizedSearchCV(estimator=rf_clf1, scoring='f1',param_distributions=random_grid, n_iter=100, cv=3, \n",
    "                               verbose=2, random_state=42, n_jobs=-1)"
   ]
  },
  {
   "cell_type": "code",
   "execution_count": 212,
   "id": "3e8cb37d",
   "metadata": {},
   "outputs": [
    {
     "name": "stdout",
     "output_type": "stream",
     "text": [
      "Fitting 3 folds for each of 100 candidates, totalling 300 fits\n"
     ]
    },
    {
     "data": {
      "text/html": [
       "<style>#sk-container-id-12 {color: black;background-color: white;}#sk-container-id-12 pre{padding: 0;}#sk-container-id-12 div.sk-toggleable {background-color: white;}#sk-container-id-12 label.sk-toggleable__label {cursor: pointer;display: block;width: 100%;margin-bottom: 0;padding: 0.3em;box-sizing: border-box;text-align: center;}#sk-container-id-12 label.sk-toggleable__label-arrow:before {content: \"▸\";float: left;margin-right: 0.25em;color: #696969;}#sk-container-id-12 label.sk-toggleable__label-arrow:hover:before {color: black;}#sk-container-id-12 div.sk-estimator:hover label.sk-toggleable__label-arrow:before {color: black;}#sk-container-id-12 div.sk-toggleable__content {max-height: 0;max-width: 0;overflow: hidden;text-align: left;background-color: #f0f8ff;}#sk-container-id-12 div.sk-toggleable__content pre {margin: 0.2em;color: black;border-radius: 0.25em;background-color: #f0f8ff;}#sk-container-id-12 input.sk-toggleable__control:checked~div.sk-toggleable__content {max-height: 200px;max-width: 100%;overflow: auto;}#sk-container-id-12 input.sk-toggleable__control:checked~label.sk-toggleable__label-arrow:before {content: \"▾\";}#sk-container-id-12 div.sk-estimator input.sk-toggleable__control:checked~label.sk-toggleable__label {background-color: #d4ebff;}#sk-container-id-12 div.sk-label input.sk-toggleable__control:checked~label.sk-toggleable__label {background-color: #d4ebff;}#sk-container-id-12 input.sk-hidden--visually {border: 0;clip: rect(1px 1px 1px 1px);clip: rect(1px, 1px, 1px, 1px);height: 1px;margin: -1px;overflow: hidden;padding: 0;position: absolute;width: 1px;}#sk-container-id-12 div.sk-estimator {font-family: monospace;background-color: #f0f8ff;border: 1px dotted black;border-radius: 0.25em;box-sizing: border-box;margin-bottom: 0.5em;}#sk-container-id-12 div.sk-estimator:hover {background-color: #d4ebff;}#sk-container-id-12 div.sk-parallel-item::after {content: \"\";width: 100%;border-bottom: 1px solid gray;flex-grow: 1;}#sk-container-id-12 div.sk-label:hover label.sk-toggleable__label {background-color: #d4ebff;}#sk-container-id-12 div.sk-serial::before {content: \"\";position: absolute;border-left: 1px solid gray;box-sizing: border-box;top: 0;bottom: 0;left: 50%;z-index: 0;}#sk-container-id-12 div.sk-serial {display: flex;flex-direction: column;align-items: center;background-color: white;padding-right: 0.2em;padding-left: 0.2em;position: relative;}#sk-container-id-12 div.sk-item {position: relative;z-index: 1;}#sk-container-id-12 div.sk-parallel {display: flex;align-items: stretch;justify-content: center;background-color: white;position: relative;}#sk-container-id-12 div.sk-item::before, #sk-container-id-12 div.sk-parallel-item::before {content: \"\";position: absolute;border-left: 1px solid gray;box-sizing: border-box;top: 0;bottom: 0;left: 50%;z-index: -1;}#sk-container-id-12 div.sk-parallel-item {display: flex;flex-direction: column;z-index: 1;position: relative;background-color: white;}#sk-container-id-12 div.sk-parallel-item:first-child::after {align-self: flex-end;width: 50%;}#sk-container-id-12 div.sk-parallel-item:last-child::after {align-self: flex-start;width: 50%;}#sk-container-id-12 div.sk-parallel-item:only-child::after {width: 0;}#sk-container-id-12 div.sk-dashed-wrapped {border: 1px dashed gray;margin: 0 0.4em 0.5em 0.4em;box-sizing: border-box;padding-bottom: 0.4em;background-color: white;}#sk-container-id-12 div.sk-label label {font-family: monospace;font-weight: bold;display: inline-block;line-height: 1.2em;}#sk-container-id-12 div.sk-label-container {text-align: center;}#sk-container-id-12 div.sk-container {/* jupyter's `normalize.less` sets `[hidden] { display: none; }` but bootstrap.min.css set `[hidden] { display: none !important; }` so we also need the `!important` here to be able to override the default hidden behavior on the sphinx rendered scikit-learn.org. See: https://github.com/scikit-learn/scikit-learn/issues/21755 */display: inline-block !important;position: relative;}#sk-container-id-12 div.sk-text-repr-fallback {display: none;}</style><div id=\"sk-container-id-12\" class=\"sk-top-container\"><div class=\"sk-text-repr-fallback\"><pre>RandomizedSearchCV(cv=3, estimator=RandomForestClassifier(random_state=42),\n",
       "                   n_iter=100, n_jobs=-1,\n",
       "                   param_distributions={&#x27;max_depth&#x27;: [10, 20, 30, 40, 50, 60,\n",
       "                                                      70, 80, 90, 100, 110],\n",
       "                                        &#x27;max_features&#x27;: [&#x27;log2&#x27;, &#x27;sqrt&#x27;],\n",
       "                                        &#x27;min_samples_leaf&#x27;: [2, 3, 4, 5, 6, 7,\n",
       "                                                             8, 9, 10, 11, 12,\n",
       "                                                             13, 14, 15, 16, 17,\n",
       "                                                             18, 19],\n",
       "                                        &#x27;min_samples_split&#x27;: [2, 3, 4, 5, 6, 7,\n",
       "                                                              8, 9, 10, 11, 12,\n",
       "                                                              13, 14, 15, 16,\n",
       "                                                              17, 18, 19],\n",
       "                                        &#x27;n_estimators&#x27;: [200, 400, 600, 800,\n",
       "                                                         1000, 1200, 1400, 1600,\n",
       "                                                         1800, 2000]},\n",
       "                   random_state=42, scoring=&#x27;f1&#x27;, verbose=2)</pre><b>In a Jupyter environment, please rerun this cell to show the HTML representation or trust the notebook. <br />On GitHub, the HTML representation is unable to render, please try loading this page with nbviewer.org.</b></div><div class=\"sk-container\" hidden><div class=\"sk-item sk-dashed-wrapped\"><div class=\"sk-label-container\"><div class=\"sk-label sk-toggleable\"><input class=\"sk-toggleable__control sk-hidden--visually\" id=\"sk-estimator-id-18\" type=\"checkbox\" ><label for=\"sk-estimator-id-18\" class=\"sk-toggleable__label sk-toggleable__label-arrow\">RandomizedSearchCV</label><div class=\"sk-toggleable__content\"><pre>RandomizedSearchCV(cv=3, estimator=RandomForestClassifier(random_state=42),\n",
       "                   n_iter=100, n_jobs=-1,\n",
       "                   param_distributions={&#x27;max_depth&#x27;: [10, 20, 30, 40, 50, 60,\n",
       "                                                      70, 80, 90, 100, 110],\n",
       "                                        &#x27;max_features&#x27;: [&#x27;log2&#x27;, &#x27;sqrt&#x27;],\n",
       "                                        &#x27;min_samples_leaf&#x27;: [2, 3, 4, 5, 6, 7,\n",
       "                                                             8, 9, 10, 11, 12,\n",
       "                                                             13, 14, 15, 16, 17,\n",
       "                                                             18, 19],\n",
       "                                        &#x27;min_samples_split&#x27;: [2, 3, 4, 5, 6, 7,\n",
       "                                                              8, 9, 10, 11, 12,\n",
       "                                                              13, 14, 15, 16,\n",
       "                                                              17, 18, 19],\n",
       "                                        &#x27;n_estimators&#x27;: [200, 400, 600, 800,\n",
       "                                                         1000, 1200, 1400, 1600,\n",
       "                                                         1800, 2000]},\n",
       "                   random_state=42, scoring=&#x27;f1&#x27;, verbose=2)</pre></div></div></div><div class=\"sk-parallel\"><div class=\"sk-parallel-item\"><div class=\"sk-item\"><div class=\"sk-label-container\"><div class=\"sk-label sk-toggleable\"><input class=\"sk-toggleable__control sk-hidden--visually\" id=\"sk-estimator-id-19\" type=\"checkbox\" ><label for=\"sk-estimator-id-19\" class=\"sk-toggleable__label sk-toggleable__label-arrow\">estimator: RandomForestClassifier</label><div class=\"sk-toggleable__content\"><pre>RandomForestClassifier(random_state=42)</pre></div></div></div><div class=\"sk-serial\"><div class=\"sk-item\"><div class=\"sk-estimator sk-toggleable\"><input class=\"sk-toggleable__control sk-hidden--visually\" id=\"sk-estimator-id-20\" type=\"checkbox\" ><label for=\"sk-estimator-id-20\" class=\"sk-toggleable__label sk-toggleable__label-arrow\">RandomForestClassifier</label><div class=\"sk-toggleable__content\"><pre>RandomForestClassifier(random_state=42)</pre></div></div></div></div></div></div></div></div></div></div>"
      ],
      "text/plain": [
       "RandomizedSearchCV(cv=3, estimator=RandomForestClassifier(random_state=42),\n",
       "                   n_iter=100, n_jobs=-1,\n",
       "                   param_distributions={'max_depth': [10, 20, 30, 40, 50, 60,\n",
       "                                                      70, 80, 90, 100, 110],\n",
       "                                        'max_features': ['log2', 'sqrt'],\n",
       "                                        'min_samples_leaf': [2, 3, 4, 5, 6, 7,\n",
       "                                                             8, 9, 10, 11, 12,\n",
       "                                                             13, 14, 15, 16, 17,\n",
       "                                                             18, 19],\n",
       "                                        'min_samples_split': [2, 3, 4, 5, 6, 7,\n",
       "                                                              8, 9, 10, 11, 12,\n",
       "                                                              13, 14, 15, 16,\n",
       "                                                              17, 18, 19],\n",
       "                                        'n_estimators': [200, 400, 600, 800,\n",
       "                                                         1000, 1200, 1400, 1600,\n",
       "                                                         1800, 2000]},\n",
       "                   random_state=42, scoring='f1', verbose=2)"
      ]
     },
     "execution_count": 212,
     "metadata": {},
     "output_type": "execute_result"
    }
   ],
   "source": [
    "rf_cv.fit(X_smote, y_smote) #training the model"
   ]
  },
  {
   "cell_type": "code",
   "execution_count": 213,
   "id": "2a22f39a",
   "metadata": {},
   "outputs": [
    {
     "name": "stdout",
     "output_type": "stream",
     "text": [
      "Best paramters: {'n_estimators': 200, 'min_samples_split': 4, 'min_samples_leaf': 2, 'max_features': 'log2', 'max_depth': 110})\n"
     ]
    }
   ],
   "source": [
    "rf_best_params = rf_cv.best_params_                          ##it will give you best parameters \n",
    "print(f\"Best paramters: {rf_best_params})\") "
   ]
  },
  {
   "cell_type": "code",
   "execution_count": 235,
   "id": "c6cedc79",
   "metadata": {},
   "outputs": [],
   "source": [
    "#passing best parameter to randomforest\n",
    "rf_clf2 = RandomForestClassifier(n_estimators= 200, min_samples_split= 4, min_samples_leaf= 2, \n",
    "                                 max_features= 'log2', max_depth= 110)"
   ]
  },
  {
   "cell_type": "code",
   "execution_count": 236,
   "id": "c8d7e581",
   "metadata": {},
   "outputs": [
    {
     "data": {
      "text/html": [
       "<style>#sk-container-id-16 {color: black;background-color: white;}#sk-container-id-16 pre{padding: 0;}#sk-container-id-16 div.sk-toggleable {background-color: white;}#sk-container-id-16 label.sk-toggleable__label {cursor: pointer;display: block;width: 100%;margin-bottom: 0;padding: 0.3em;box-sizing: border-box;text-align: center;}#sk-container-id-16 label.sk-toggleable__label-arrow:before {content: \"▸\";float: left;margin-right: 0.25em;color: #696969;}#sk-container-id-16 label.sk-toggleable__label-arrow:hover:before {color: black;}#sk-container-id-16 div.sk-estimator:hover label.sk-toggleable__label-arrow:before {color: black;}#sk-container-id-16 div.sk-toggleable__content {max-height: 0;max-width: 0;overflow: hidden;text-align: left;background-color: #f0f8ff;}#sk-container-id-16 div.sk-toggleable__content pre {margin: 0.2em;color: black;border-radius: 0.25em;background-color: #f0f8ff;}#sk-container-id-16 input.sk-toggleable__control:checked~div.sk-toggleable__content {max-height: 200px;max-width: 100%;overflow: auto;}#sk-container-id-16 input.sk-toggleable__control:checked~label.sk-toggleable__label-arrow:before {content: \"▾\";}#sk-container-id-16 div.sk-estimator input.sk-toggleable__control:checked~label.sk-toggleable__label {background-color: #d4ebff;}#sk-container-id-16 div.sk-label input.sk-toggleable__control:checked~label.sk-toggleable__label {background-color: #d4ebff;}#sk-container-id-16 input.sk-hidden--visually {border: 0;clip: rect(1px 1px 1px 1px);clip: rect(1px, 1px, 1px, 1px);height: 1px;margin: -1px;overflow: hidden;padding: 0;position: absolute;width: 1px;}#sk-container-id-16 div.sk-estimator {font-family: monospace;background-color: #f0f8ff;border: 1px dotted black;border-radius: 0.25em;box-sizing: border-box;margin-bottom: 0.5em;}#sk-container-id-16 div.sk-estimator:hover {background-color: #d4ebff;}#sk-container-id-16 div.sk-parallel-item::after {content: \"\";width: 100%;border-bottom: 1px solid gray;flex-grow: 1;}#sk-container-id-16 div.sk-label:hover label.sk-toggleable__label {background-color: #d4ebff;}#sk-container-id-16 div.sk-serial::before {content: \"\";position: absolute;border-left: 1px solid gray;box-sizing: border-box;top: 0;bottom: 0;left: 50%;z-index: 0;}#sk-container-id-16 div.sk-serial {display: flex;flex-direction: column;align-items: center;background-color: white;padding-right: 0.2em;padding-left: 0.2em;position: relative;}#sk-container-id-16 div.sk-item {position: relative;z-index: 1;}#sk-container-id-16 div.sk-parallel {display: flex;align-items: stretch;justify-content: center;background-color: white;position: relative;}#sk-container-id-16 div.sk-item::before, #sk-container-id-16 div.sk-parallel-item::before {content: \"\";position: absolute;border-left: 1px solid gray;box-sizing: border-box;top: 0;bottom: 0;left: 50%;z-index: -1;}#sk-container-id-16 div.sk-parallel-item {display: flex;flex-direction: column;z-index: 1;position: relative;background-color: white;}#sk-container-id-16 div.sk-parallel-item:first-child::after {align-self: flex-end;width: 50%;}#sk-container-id-16 div.sk-parallel-item:last-child::after {align-self: flex-start;width: 50%;}#sk-container-id-16 div.sk-parallel-item:only-child::after {width: 0;}#sk-container-id-16 div.sk-dashed-wrapped {border: 1px dashed gray;margin: 0 0.4em 0.5em 0.4em;box-sizing: border-box;padding-bottom: 0.4em;background-color: white;}#sk-container-id-16 div.sk-label label {font-family: monospace;font-weight: bold;display: inline-block;line-height: 1.2em;}#sk-container-id-16 div.sk-label-container {text-align: center;}#sk-container-id-16 div.sk-container {/* jupyter's `normalize.less` sets `[hidden] { display: none; }` but bootstrap.min.css set `[hidden] { display: none !important; }` so we also need the `!important` here to be able to override the default hidden behavior on the sphinx rendered scikit-learn.org. See: https://github.com/scikit-learn/scikit-learn/issues/21755 */display: inline-block !important;position: relative;}#sk-container-id-16 div.sk-text-repr-fallback {display: none;}</style><div id=\"sk-container-id-16\" class=\"sk-top-container\"><div class=\"sk-text-repr-fallback\"><pre>RandomForestClassifier(max_depth=110, max_features=&#x27;log2&#x27;, min_samples_leaf=2,\n",
       "                       min_samples_split=4, n_estimators=200)</pre><b>In a Jupyter environment, please rerun this cell to show the HTML representation or trust the notebook. <br />On GitHub, the HTML representation is unable to render, please try loading this page with nbviewer.org.</b></div><div class=\"sk-container\" hidden><div class=\"sk-item\"><div class=\"sk-estimator sk-toggleable\"><input class=\"sk-toggleable__control sk-hidden--visually\" id=\"sk-estimator-id-24\" type=\"checkbox\" checked><label for=\"sk-estimator-id-24\" class=\"sk-toggleable__label sk-toggleable__label-arrow\">RandomForestClassifier</label><div class=\"sk-toggleable__content\"><pre>RandomForestClassifier(max_depth=110, max_features=&#x27;log2&#x27;, min_samples_leaf=2,\n",
       "                       min_samples_split=4, n_estimators=200)</pre></div></div></div></div></div>"
      ],
      "text/plain": [
       "RandomForestClassifier(max_depth=110, max_features='log2', min_samples_leaf=2,\n",
       "                       min_samples_split=4, n_estimators=200)"
      ]
     },
     "execution_count": 236,
     "metadata": {},
     "output_type": "execute_result"
    }
   ],
   "source": [
    "rf_clf2.fit(X_smote,y_smote)"
   ]
  },
  {
   "cell_type": "code",
   "execution_count": 237,
   "id": "5b15e563",
   "metadata": {},
   "outputs": [],
   "source": [
    "X_pred16 = rf_clf2.predict(X_test)\n",
    "X_pred_train16 = rf_clf2.predict(X_smote)"
   ]
  },
  {
   "cell_type": "code",
   "execution_count": 238,
   "id": "d1e87c6e",
   "metadata": {},
   "outputs": [
    {
     "name": "stdout",
     "output_type": "stream",
     "text": [
      "0.7463898916967509\n",
      "0.986444212721585\n"
     ]
    }
   ],
   "source": [
    "print(f1_score(y_test,X_pred16))\n",
    "print(f1_score(y_smote,X_pred_train16))"
   ]
  },
  {
   "cell_type": "code",
   "execution_count": 239,
   "id": "943677bc",
   "metadata": {},
   "outputs": [
    {
     "name": "stdout",
     "output_type": "stream",
     "text": [
      "0.6948968512486428\n",
      "0.9863894705354472\n"
     ]
    }
   ],
   "source": [
    "print(accuracy_score(y_test,X_pred16))\n",
    "print(accuracy_score(y_smote,X_pred_train16))"
   ]
  },
  {
   "cell_type": "code",
   "execution_count": 240,
   "id": "3b6d822d",
   "metadata": {},
   "outputs": [
    {
     "name": "stdout",
     "output_type": "stream",
     "text": [
      "0.7397137745974955\n",
      "0.9824925816023738\n"
     ]
    }
   ],
   "source": [
    "print(precision_score(y_test,X_pred16))\n",
    "print(precision_score(y_smote,X_pred_train16))"
   ]
  },
  {
   "cell_type": "code",
   "execution_count": 241,
   "id": "bf7986e7",
   "metadata": {},
   "outputs": [
    {
     "name": "stdout",
     "output_type": "stream",
     "text": [
      "0.7531876138433515\n",
      "0.9904277594974574\n"
     ]
    }
   ],
   "source": [
    "print(recall_score(y_test,X_pred16))\n",
    "print(recall_score(y_smote,X_pred_train16))"
   ]
  },
  {
   "cell_type": "code",
   "execution_count": 279,
   "id": "587d036a",
   "metadata": {},
   "outputs": [],
   "source": [
    "#Creating objects of Preetytable\n",
    "x=PrettyTable()\n",
    "y=PrettyTable()"
   ]
  },
  {
   "cell_type": "code",
   "execution_count": 280,
   "id": "9149631a",
   "metadata": {},
   "outputs": [],
   "source": [
    "x.field_names = [\"Model(Test)\", \"f1_score\",\"accuracy\",\"precision\",\"recall\"]\n",
    "x.add_row([\"# Random Forest (Hyperparameter)\", \"0.74\",'0.69','0.73','0.75'])"
   ]
  },
  {
   "cell_type": "code",
   "execution_count": 281,
   "id": "37e86643",
   "metadata": {},
   "outputs": [],
   "source": [
    "y.field_names = [\"Model(Train)\", \"f1_score\",\"accuracy\",\"precision\",\"recall\"]\n",
    "y.add_row([\"# Random Forest (Hyperparameter)\", \"0.98\",'0.98','0.98','0.99'])"
   ]
  },
  {
   "cell_type": "code",
   "execution_count": 282,
   "id": "8720bd61",
   "metadata": {},
   "outputs": [
    {
     "name": "stdout",
     "output_type": "stream",
     "text": [
      "+----------------------------------+----------+----------+-----------+--------+\n",
      "|           Model(Test)            | f1_score | accuracy | precision | recall |\n",
      "+----------------------------------+----------+----------+-----------+--------+\n",
      "| # Random Forest (Hyperparameter) |   0.74   |   0.69   |    0.73   |  0.75  |\n",
      "+----------------------------------+----------+----------+-----------+--------+\n",
      "+----------------------------------+----------+----------+-----------+--------+\n",
      "|           Model(Train)           | f1_score | accuracy | precision | recall |\n",
      "+----------------------------------+----------+----------+-----------+--------+\n",
      "| # Random Forest (Hyperparameter) |   0.98   |   0.98   |    0.98   |  0.99  |\n",
      "+----------------------------------+----------+----------+-----------+--------+\n"
     ]
    }
   ],
   "source": [
    "print(x)\n",
    "print(y)"
   ]
  },
  {
   "cell_type": "markdown",
   "id": "a5000de0",
   "metadata": {},
   "source": [
    "**Observations-**\n",
    "- The f1-score for test data is 0.74 and for train data is 0.98.\n",
    "- The accuracy score for test data is 0.69 and for train data is 0.98.\n",
    "- The precision score  for test data is 0.73 and for train data is 0.98.\n",
    "- The recall score for test data is 0.75 and for train data is 99.\n",
    "- The model has high bias and low variance so it can't be considered as a generalised model."
   ]
  },
  {
   "cell_type": "markdown",
   "id": "ce7cca9f",
   "metadata": {},
   "source": [
    "# Gradient Boosting"
   ]
  },
  {
   "cell_type": "code",
   "execution_count": 221,
   "id": "d01145b0",
   "metadata": {},
   "outputs": [],
   "source": [
    "from sklearn.ensemble import GradientBoostingClassifier\n",
    "clf = GradientBoostingClassifier(random_state=44)"
   ]
  },
  {
   "cell_type": "code",
   "execution_count": 222,
   "id": "1863d3a5",
   "metadata": {},
   "outputs": [
    {
     "data": {
      "text/html": [
       "<style>#sk-container-id-14 {color: black;background-color: white;}#sk-container-id-14 pre{padding: 0;}#sk-container-id-14 div.sk-toggleable {background-color: white;}#sk-container-id-14 label.sk-toggleable__label {cursor: pointer;display: block;width: 100%;margin-bottom: 0;padding: 0.3em;box-sizing: border-box;text-align: center;}#sk-container-id-14 label.sk-toggleable__label-arrow:before {content: \"▸\";float: left;margin-right: 0.25em;color: #696969;}#sk-container-id-14 label.sk-toggleable__label-arrow:hover:before {color: black;}#sk-container-id-14 div.sk-estimator:hover label.sk-toggleable__label-arrow:before {color: black;}#sk-container-id-14 div.sk-toggleable__content {max-height: 0;max-width: 0;overflow: hidden;text-align: left;background-color: #f0f8ff;}#sk-container-id-14 div.sk-toggleable__content pre {margin: 0.2em;color: black;border-radius: 0.25em;background-color: #f0f8ff;}#sk-container-id-14 input.sk-toggleable__control:checked~div.sk-toggleable__content {max-height: 200px;max-width: 100%;overflow: auto;}#sk-container-id-14 input.sk-toggleable__control:checked~label.sk-toggleable__label-arrow:before {content: \"▾\";}#sk-container-id-14 div.sk-estimator input.sk-toggleable__control:checked~label.sk-toggleable__label {background-color: #d4ebff;}#sk-container-id-14 div.sk-label input.sk-toggleable__control:checked~label.sk-toggleable__label {background-color: #d4ebff;}#sk-container-id-14 input.sk-hidden--visually {border: 0;clip: rect(1px 1px 1px 1px);clip: rect(1px, 1px, 1px, 1px);height: 1px;margin: -1px;overflow: hidden;padding: 0;position: absolute;width: 1px;}#sk-container-id-14 div.sk-estimator {font-family: monospace;background-color: #f0f8ff;border: 1px dotted black;border-radius: 0.25em;box-sizing: border-box;margin-bottom: 0.5em;}#sk-container-id-14 div.sk-estimator:hover {background-color: #d4ebff;}#sk-container-id-14 div.sk-parallel-item::after {content: \"\";width: 100%;border-bottom: 1px solid gray;flex-grow: 1;}#sk-container-id-14 div.sk-label:hover label.sk-toggleable__label {background-color: #d4ebff;}#sk-container-id-14 div.sk-serial::before {content: \"\";position: absolute;border-left: 1px solid gray;box-sizing: border-box;top: 0;bottom: 0;left: 50%;z-index: 0;}#sk-container-id-14 div.sk-serial {display: flex;flex-direction: column;align-items: center;background-color: white;padding-right: 0.2em;padding-left: 0.2em;position: relative;}#sk-container-id-14 div.sk-item {position: relative;z-index: 1;}#sk-container-id-14 div.sk-parallel {display: flex;align-items: stretch;justify-content: center;background-color: white;position: relative;}#sk-container-id-14 div.sk-item::before, #sk-container-id-14 div.sk-parallel-item::before {content: \"\";position: absolute;border-left: 1px solid gray;box-sizing: border-box;top: 0;bottom: 0;left: 50%;z-index: -1;}#sk-container-id-14 div.sk-parallel-item {display: flex;flex-direction: column;z-index: 1;position: relative;background-color: white;}#sk-container-id-14 div.sk-parallel-item:first-child::after {align-self: flex-end;width: 50%;}#sk-container-id-14 div.sk-parallel-item:last-child::after {align-self: flex-start;width: 50%;}#sk-container-id-14 div.sk-parallel-item:only-child::after {width: 0;}#sk-container-id-14 div.sk-dashed-wrapped {border: 1px dashed gray;margin: 0 0.4em 0.5em 0.4em;box-sizing: border-box;padding-bottom: 0.4em;background-color: white;}#sk-container-id-14 div.sk-label label {font-family: monospace;font-weight: bold;display: inline-block;line-height: 1.2em;}#sk-container-id-14 div.sk-label-container {text-align: center;}#sk-container-id-14 div.sk-container {/* jupyter's `normalize.less` sets `[hidden] { display: none; }` but bootstrap.min.css set `[hidden] { display: none !important; }` so we also need the `!important` here to be able to override the default hidden behavior on the sphinx rendered scikit-learn.org. See: https://github.com/scikit-learn/scikit-learn/issues/21755 */display: inline-block !important;position: relative;}#sk-container-id-14 div.sk-text-repr-fallback {display: none;}</style><div id=\"sk-container-id-14\" class=\"sk-top-container\"><div class=\"sk-text-repr-fallback\"><pre>GradientBoostingClassifier(random_state=44)</pre><b>In a Jupyter environment, please rerun this cell to show the HTML representation or trust the notebook. <br />On GitHub, the HTML representation is unable to render, please try loading this page with nbviewer.org.</b></div><div class=\"sk-container\" hidden><div class=\"sk-item\"><div class=\"sk-estimator sk-toggleable\"><input class=\"sk-toggleable__control sk-hidden--visually\" id=\"sk-estimator-id-22\" type=\"checkbox\" checked><label for=\"sk-estimator-id-22\" class=\"sk-toggleable__label sk-toggleable__label-arrow\">GradientBoostingClassifier</label><div class=\"sk-toggleable__content\"><pre>GradientBoostingClassifier(random_state=44)</pre></div></div></div></div></div>"
      ],
      "text/plain": [
       "GradientBoostingClassifier(random_state=44)"
      ]
     },
     "execution_count": 222,
     "metadata": {},
     "output_type": "execute_result"
    }
   ],
   "source": [
    "clf.fit(X_smote,y_smote)#training model with best parameter"
   ]
  },
  {
   "cell_type": "code",
   "execution_count": 223,
   "id": "41c373ec",
   "metadata": {},
   "outputs": [],
   "source": [
    "boost1 = clf.predict(X_test)\n",
    "boost2 = clf.predict(X_smote)"
   ]
  },
  {
   "cell_type": "code",
   "execution_count": 224,
   "id": "71ff8bdf",
   "metadata": {},
   "outputs": [
    {
     "name": "stdout",
     "output_type": "stream",
     "text": [
      "0.752855185015989\n",
      "0.7810842663523866\n"
     ]
    }
   ],
   "source": [
    "print(f1_score(y_test,boost1))\n",
    "print(f1_score(y_smote,boost2))"
   ]
  },
  {
   "cell_type": "code",
   "execution_count": 225,
   "id": "4cbcd0b7",
   "metadata": {},
   "outputs": [
    {
     "name": "stdout",
     "output_type": "stream",
     "text": [
      "0.7062975027144408\n",
      "0.7777445408315884\n"
     ]
    }
   ],
   "source": [
    "print(accuracy_score(y_test,boost1))\n",
    "print(accuracy_score(y_smote,boost2))"
   ]
  },
  {
   "cell_type": "code",
   "execution_count": 226,
   "id": "ff5af3a8",
   "metadata": {},
   "outputs": [
    {
     "name": "stdout",
     "output_type": "stream",
     "text": [
      "0.7552703941338221\n",
      "0.7695210449927431\n"
     ]
    }
   ],
   "source": [
    "print(precision_score(y_test,boost1))\n",
    "print(precision_score(y_smote,boost2))"
   ]
  },
  {
   "cell_type": "code",
   "execution_count": 227,
   "id": "7372c546",
   "metadata": {},
   "outputs": [
    {
     "name": "stdout",
     "output_type": "stream",
     "text": [
      "0.7504553734061931\n",
      "0.7930002991325157\n"
     ]
    }
   ],
   "source": [
    "print(recall_score(y_test,boost1))\n",
    "print(recall_score(y_smote,boost2))"
   ]
  },
  {
   "cell_type": "code",
   "execution_count": 283,
   "id": "2ad798d6",
   "metadata": {},
   "outputs": [],
   "source": [
    "#Creating objects of Preetytable\n",
    "x=PrettyTable()\n",
    "y=PrettyTable()"
   ]
  },
  {
   "cell_type": "code",
   "execution_count": 284,
   "id": "26b0ecfc",
   "metadata": {},
   "outputs": [],
   "source": [
    "x.field_names = [\"Model(Test)\", \"f1_score\",\"accuracy\",\"precision\",\"recall\"]\n",
    "x.add_row([\"# Gradient Boosting\", \"0.75\",'0.70','0.75','0.75'])"
   ]
  },
  {
   "cell_type": "code",
   "execution_count": 285,
   "id": "e853d968",
   "metadata": {},
   "outputs": [],
   "source": [
    "y.field_names = [\"Model(Train)\", \"f1_score\",\"accuracy\",\"precision\",\"recall\"]\n",
    "y.add_row([\"# Gradient Boosting\", \"0.78\",'0.77','0.76','0.79'])"
   ]
  },
  {
   "cell_type": "code",
   "execution_count": 286,
   "id": "51e82c3f",
   "metadata": {},
   "outputs": [
    {
     "name": "stdout",
     "output_type": "stream",
     "text": [
      "+---------------------+----------+----------+-----------+--------+\n",
      "|     Model(Test)     | f1_score | accuracy | precision | recall |\n",
      "+---------------------+----------+----------+-----------+--------+\n",
      "| # Gradient Boosting |   0.75   |   0.70   |    0.75   |  0.75  |\n",
      "+---------------------+----------+----------+-----------+--------+\n",
      "+---------------------+----------+----------+-----------+--------+\n",
      "|     Model(Train)    | f1_score | accuracy | precision | recall |\n",
      "+---------------------+----------+----------+-----------+--------+\n",
      "| # Gradient Boosting |   0.78   |   0.77   |    0.76   |  0.79  |\n",
      "+---------------------+----------+----------+-----------+--------+\n"
     ]
    }
   ],
   "source": [
    "print(x)\n",
    "print(y)"
   ]
  },
  {
   "cell_type": "markdown",
   "id": "6f4084d9",
   "metadata": {},
   "source": [
    "**Observations-**\n",
    "- The f1-score for test data is 0.75 and for train data is 0.78.\n",
    "- The accuracy score for test data is 0.70 and for train data is 0.77.\n",
    "- The precision score  for test data is 0.75 and for train data is 0.76.\n",
    "- The recall score for test data is 0.75 and for train data is 0.79.\n",
    "- The model has low bias and low variance so it can be considered as a generalised model."
   ]
  },
  {
   "cell_type": "markdown",
   "id": "387c84da",
   "metadata": {},
   "source": [
    "# Challenges faced-\n",
    "- As the dataset had lots of label values, assigning multiples labels into single label was a difficult task.\n",
    "- Performing Exploratory Data Analysis.\n",
    "- Selecting the best model for the given business case."
   ]
  },
  {
   "cell_type": "markdown",
   "id": "0fe8d3ec",
   "metadata": {},
   "source": [
    "# Conclusion-\n",
    "- The client is a IT solution provider with products ranging from on-premises products to SAAS based solutions. As we know,the company's sales is dependent on lead quality. Due to more new competitors entering the market, FicZon is experiencing the dip in sales.\n",
    "- Five machine learning models i.e logistic regression, support vector machine(classifier), K- Nearest Neighbour, Decission tree and Random forest were examined in this case study to predict the Lead Category (High Potential , Low Potential)at the business segment level.\n",
    "- Also Ensemble techniques such as bagging and boosting were also examined.\n",
    "- Training and testing data were used to train and test the data. These records were used to extract a number of characteristics. My suggested model can estimate the Lead Category.\n",
    "- The models that are performing good in the given dataset are **Logistic Regression, Support Vector Classifier and GradientBoosting**.\n",
    "- **But the best performing model to predict the lead category is an Ensembled technique model i.e GradientBoosting.**\n",
    "- **Gradient Boosting** is one of the variants of ensemble methods where you create multiple weak models and combine them to get better performance as a whole.\n",
    "- The given project was successfully delivered to the client FicZon Inc."
   ]
  },
  {
   "cell_type": "code",
   "execution_count": null,
   "id": "7d90654b",
   "metadata": {},
   "outputs": [],
   "source": []
  }
 ],
 "metadata": {
  "kernelspec": {
   "display_name": "Python 3 (ipykernel)",
   "language": "python",
   "name": "python3"
  },
  "language_info": {
   "codemirror_mode": {
    "name": "ipython",
    "version": 3
   },
   "file_extension": ".py",
   "mimetype": "text/x-python",
   "name": "python",
   "nbconvert_exporter": "python",
   "pygments_lexer": "ipython3",
   "version": "3.9.12"
  }
 },
 "nbformat": 4,
 "nbformat_minor": 5
}
